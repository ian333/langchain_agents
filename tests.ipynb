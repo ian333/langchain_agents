{
 "cells": [
  {
   "cell_type": "code",
   "execution_count": 1,
   "metadata": {},
   "outputs": [],
   "source": [
    "from utils.email_utils import send_email\n"
   ]
  },
  {
   "cell_type": "code",
   "execution_count": 2,
   "metadata": {},
   "outputs": [
    {
     "data": {
      "text/plain": [
       "'Email sent successfully'"
      ]
     },
     "execution_count": 2,
     "metadata": {},
     "output_type": "execute_result"
    }
   ],
   "source": [
    "send_email(to=\"sebastian@skills.tech\",subject=\"test\",content=\"Template corre de testing\")\n"
   ]
  },
  {
   "cell_type": "code",
   "execution_count": 3,
   "metadata": {},
   "outputs": [],
   "source": [
    "from supabase import create_client\n",
    "from decouple import config\n",
    "\n",
    "supabase = create_client(config(\"SUPABASE_URL\"), config(\"SUPABASE_KEY\"))\n"
   ]
  },
  {
   "cell_type": "code",
   "execution_count": 4,
   "metadata": {},
   "outputs": [
    {
     "name": "stderr",
     "output_type": "stream",
     "text": [
      "2024-01-07 23:12:12,334:INFO - HTTP Request: POST https://hbvkehzhssiwpotkcxve.supabase.co/rest/v1/reminders_tb \"HTTP/1.1 201 Created\"\n",
      "2024-01-07 23:12:12,452:INFO - HTTP Request: POST https://hbvkehzhssiwpotkcxve.supabase.co/rest/v1/reminders_tb \"HTTP/1.1 201 Created\"\n"
     ]
    },
    {
     "name": "stdout",
     "output_type": "stream",
     "text": [
      "No se pudo cargar los datos ficticios\n",
      "No se pudo cargar los datos ficticios\n"
     ]
    },
    {
     "name": "stderr",
     "output_type": "stream",
     "text": [
      "2024-01-07 23:12:12,692:INFO - HTTP Request: POST https://hbvkehzhssiwpotkcxve.supabase.co/rest/v1/reminders_tb \"HTTP/1.1 201 Created\"\n"
     ]
    },
    {
     "name": "stdout",
     "output_type": "stream",
     "text": [
      "No se pudo cargar los datos ficticios\n"
     ]
    }
   ],
   "source": [
    "usuarios_prueba = [\n",
    "    {\n",
    "        \"user_email\": \"sebastian@skills.tech\",\n",
    "        \"reminder_type\": \"Learning Progress Check-In\",\n",
    "        \"status\": \"pending\",\n",
    "        \"scheduled_date\": \"2023-01-01T10:00:00Z\",\n",
    "        \"content\": \"Just a quick reminder to check your progress on this week's topic...\",\n",
    "        \"sent_date\": None\n",
    "    },\n",
    "    {\n",
    "        \"user_email\": \"zuriel@skills.tech\",\n",
    "        \"reminder_type\": \"Encouragement and Motivation\",\n",
    "        \"status\": \"pending\",\n",
    "        \"scheduled_date\": \"2023-01-02T10:00:00Z\",\n",
    "        \"content\": \"You're doing an amazing job! Remember, every question you ask...\",\n",
    "        \"sent_date\": None\n",
    "    },\n",
    "    {\n",
    "        \"user_email\": \"sebastian@skills.tech\",\n",
    "        \"reminder_type\": \"Learning Progress Check-In\",\n",
    "        \"status\": \"pending\",\n",
    "        \"scheduled_date\": \"2024-01-03T10:00:00Z\",\n",
    "        \"content\": \"Just a quick reminder to check your progress on this week's topic...\",\n",
    "        \"sent_date\": None\n",
    "    },\n",
    "    # ... más usuarios de prueba ...\n",
    "]\n",
    "\n",
    "for usuario in usuarios_prueba:\n",
    "    response = supabase.table(\"reminders_tb\").insert(usuario).execute()\n",
    "    try:\n",
    "        if response.error:\n",
    "            print(f\"Error al insertar: {response.error}\")\n",
    "        else:\n",
    "            print(f\"Usuario insertado: {usuario['user_email']}\")\n",
    "    except:\n",
    "        print(\"No se pudo cargar los datos ficticios\")\n",
    "        "
   ]
  },
  {
   "cell_type": "code",
   "execution_count": 27,
   "metadata": {},
   "outputs": [],
   "source": [
    "from utils.email_utils import Learning_process\n",
    "import datetime\n",
    "import pytz  # Asegúrate de tener instalado pytz\n",
    "current_date = datetime.datetime.now(datetime.timezone.utc)\n"
   ]
  },
  {
   "cell_type": "code",
   "execution_count": 22,
   "metadata": {},
   "outputs": [
    {
     "name": "stderr",
     "output_type": "stream",
     "text": [
      "2024-01-08 00:15:46,541:INFO - HTTP Request: GET https://hbvkehzhssiwpotkcxve.supabase.co/rest/v1/reminders_tb?select=%2A&reminder_type=eq.Learning%20Progress%20Check-In&status=eq.pending \"HTTP/1.1 200 OK\"\n"
     ]
    }
   ],
   "source": [
    "recordatorios = supabase.table(\"reminders_tb\").select(\"*\").eq(\"reminder_type\", \"Learning Progress Check-In\").eq(\"status\", \"pending\").execute().data\n",
    "\n",
    "for recordatorio in recordatorios:\n",
    "    print(recordatorio)\n",
    "    #send_email(recordatorio[\"user_email\"], \"Learning Progress Check-In\", Learning_process)\n",
    "\n",
    "    # Actualizar el estado del recordatorio en la base de datos\n",
    "    supabase.table(\"reminders_tb\").update({\"status\": \"sent\"}).eq(\"id\", recordatorio[\"id\"]).execute()"
   ]
  },
  {
   "cell_type": "markdown",
   "metadata": {},
   "source": [
    "Conexion con members y creacion de datos en supabase reminders_tb"
   ]
  },
  {
   "cell_type": "code",
   "execution_count": 29,
   "metadata": {},
   "outputs": [
    {
     "name": "stderr",
     "output_type": "stream",
     "text": [
      "2024-01-08 00:21:01,266:INFO - HTTP Request: GET https://hbvkehzhssiwpotkcxve.supabase.co/rest/v1/members_tb?select=%2A \"HTTP/1.1 200 OK\"\n",
      "2024-01-08 00:21:01,365:INFO - HTTP Request: GET https://hbvkehzhssiwpotkcxve.supabase.co/rest/v1/reminders_tb?select=%2A&user_email=eq.lc%40luiszorrilla.com&reminder_type=eq.Welcome \"HTTP/1.1 200 OK\"\n",
      "2024-01-08 00:21:01,471:INFO - HTTP Request: GET https://hbvkehzhssiwpotkcxve.supabase.co/rest/v1/reminders_tb?select=%2A&user_email=eq.test%40test.test&reminder_type=eq.Welcome \"HTTP/1.1 200 OK\"\n",
      "2024-01-08 00:21:01,571:INFO - HTTP Request: GET https://hbvkehzhssiwpotkcxve.supabase.co/rest/v1/reminders_tb?select=%2A&user_email=eq.sebastian%40skills.tech&reminder_type=eq.Welcome \"HTTP/1.1 200 OK\"\n",
      "2024-01-08 00:21:02,836:INFO - HTTP Request: POST https://hbvkehzhssiwpotkcxve.supabase.co/rest/v1/reminders_tb \"HTTP/1.1 201 Created\"\n",
      "2024-01-08 00:21:02,937:INFO - HTTP Request: GET https://hbvkehzhssiwpotkcxve.supabase.co/rest/v1/reminders_tb?select=%2A&user_email=eq.luis%40skills.tech&reminder_type=eq.Welcome \"HTTP/1.1 200 OK\"\n"
     ]
    },
    {
     "name": "stdout",
     "output_type": "stream",
     "text": [
      "Correo de bienvenida enviado a sebastian@skills.tech y recordatorio creado.\n"
     ]
    },
    {
     "name": "stderr",
     "output_type": "stream",
     "text": [
      "2024-01-08 00:21:03,042:INFO - HTTP Request: GET https://hbvkehzhssiwpotkcxve.supabase.co/rest/v1/reminders_tb?select=%2A&user_email=eq.skills.demo%40newyorklife.com&reminder_type=eq.Welcome \"HTTP/1.1 200 OK\"\n"
     ]
    }
   ],
   "source": [
    "# Obtener todos los usuarios de members_tb\n",
    "members = supabase.table(\"members_tb\").select(\"*\").execute().data\n",
    "for member in members:\n",
    "    user_email = member[\"email\"]\n",
    "    user_name = member[\"name\"]  # Obtener el nombre del usuario\n",
    "\n",
    "\n",
    "    # Verificar si el usuario ya tiene un recordatorio en reminders_tb\n",
    "    existing_reminder = supabase.table(\"reminders_tb\").select(\"*\").eq(\"user_email\", user_email).eq(\"reminder_type\", \"Welcome\").execute().data\n",
    "\n",
    "    if not existing_reminder:\n",
    "        # Enviar correo de bienvenida\n",
    "        welcome_content = \"Bienvenido a nuestra plataforma. ¡Estamos emocionados de tenerte aquí!\"\n",
    "        send_email(to=user_email, subject=\"Bienvenido\", content=welcome_content)\n",
    "\n",
    "        # Crear un registro de recordatorio para el nuevo usuario\n",
    "        new_reminder = {\n",
    "            \"user_email\": user_email,\n",
    "            \"name\":user_name,\n",
    "            \"reminder_type\": \"Welcome\",\n",
    "            \"status\": \"sent\",\n",
    "            \"scheduled_date\": None,  # No aplica para correos de bienvenida\n",
    "            \"content\": \"Bienvenido a nuestra plataforma.\",\n",
    "            \"sent_date\": current_date.isoformat()\n",
    "        }\n",
    "        supabase.table(\"reminders_tb\").insert(new_reminder).execute()\n",
    "\n",
    "        print(f\"Correo de bienvenida enviado a {user_email} y recordatorio creado.\")"
   ]
  },
  {
   "cell_type": "code",
   "execution_count": null,
   "metadata": {},
   "outputs": [],
   "source": []
  },
  {
   "cell_type": "markdown",
   "metadata": {},
   "source": [
    "Envio de correos con html"
   ]
  },
  {
   "cell_type": "code",
   "execution_count": 8,
   "metadata": {},
   "outputs": [],
   "source": [
    "import smtplib\n",
    "from email.mime.multipart import MIMEMultipart\n",
    "from email.mime.text import MIMEText\n",
    "from decouple import config\n",
    "\n",
    "email_user_cred=config(\"username\")\n",
    "email_user_pass=config(\"password\")\n",
    "\n",
    "def send_html_email(to, subject, html_content):\n",
    "    msg = MIMEMultipart('alternative')\n",
    "    msg['Subject'] = subject\n",
    "    msg['From'] = \"arturo@skills.tech\"  # Cambiar a tu dirección de correo\n",
    "    msg['To'] = to\n",
    "\n",
    "    # Parte HTML del mensaje\n",
    "    html_part = MIMEText(html_content, 'html')\n",
    "    msg.attach(html_part)\n",
    "\n",
    "    try:\n",
    "        with smtplib.SMTP_SSL('smtp.gmail.com', 465) as server:\n",
    "            server.login(email_user_cred, email_user_pass)  # Cambiar a tus credenciales\n",
    "            server.send_message(msg)\n",
    "        print(f\"Correo enviado con éxito a {to}\")\n",
    "    except Exception as e:\n",
    "        print(f\"Error al enviar correo a {to}: {e}\")\n"
   ]
  },
  {
   "cell_type": "code",
   "execution_count": 17,
   "metadata": {},
   "outputs": [
    {
     "name": "stdout",
     "output_type": "stream",
     "text": [
      "Correo enviado con éxito a sebastian@skills.tech\n"
     ]
    }
   ],
   "source": [
    "with open(\"email_templates/Learning_check_in.html\", \"r\") as file:\n",
    "        html_content = file.read()\n",
    "\n",
    "html_content = html_content.replace(\"[Nombre del Usuario]\", user_name)\n",
    "send_html_email(\"sebastian@skills.tech\", \"Bienvenido a SkillsAI\", html_content)"
   ]
  },
  {
   "cell_type": "markdown",
   "metadata": {},
   "source": [
    "Correo de Learning check-in una semana despues"
   ]
  },
  {
   "cell_type": "code",
   "execution_count": 45,
   "metadata": {},
   "outputs": [
    {
     "name": "stderr",
     "output_type": "stream",
     "text": [
      "2024-01-08 01:01:07,220:INFO - HTTP Request: GET https://hbvkehzhssiwpotkcxve.supabase.co/rest/v1/members_tb?select=%2A \"HTTP/1.1 200 OK\"\n",
      "2024-01-08 01:01:07,315:INFO - HTTP Request: GET https://hbvkehzhssiwpotkcxve.supabase.co/rest/v1/reminders_tb?select=%2A&user_email=eq.lc%40luiszorrilla.com&reminder_type=eq.Welcome \"HTTP/1.1 200 OK\"\n",
      "2024-01-08 01:01:07,405:INFO - HTTP Request: GET https://hbvkehzhssiwpotkcxve.supabase.co/rest/v1/reminders_tb?select=%2A&user_email=eq.lc%40luiszorrilla.com&reminder_type=eq.Learning%20Progress%20Check-In \"HTTP/1.1 200 OK\"\n",
      "2024-01-08 01:01:07,500:INFO - HTTP Request: GET https://hbvkehzhssiwpotkcxve.supabase.co/rest/v1/reminders_tb?select=%2A&user_email=eq.test%40test.test&reminder_type=eq.Welcome \"HTTP/1.1 200 OK\"\n",
      "2024-01-08 01:01:07,597:INFO - HTTP Request: GET https://hbvkehzhssiwpotkcxve.supabase.co/rest/v1/reminders_tb?select=%2A&user_email=eq.test%40test.test&reminder_type=eq.Learning%20Progress%20Check-In \"HTTP/1.1 200 OK\"\n"
     ]
    },
    {
     "name": "stdout",
     "output_type": "stream",
     "text": [
      "[{'id': 57, 'user_email': 'lc@luiszorrilla.com', 'reminder_type': 'Learning Progress Check-In', 'status': 'sent', 'scheduled_date': '2024-01-15T02:31:17+00:00', 'content': 'Learning Progress Check-In', 'sent_date': None, 'user_name': None}] False\n",
      "[{'id': 58, 'user_email': 'test@test.test', 'reminder_type': 'Learning Progress Check-In', 'status': 'sent', 'scheduled_date': '2024-01-15T06:31:13+00:00', 'content': 'Learning Progress Check-In', 'sent_date': None, 'user_name': None}] False\n"
     ]
    },
    {
     "name": "stderr",
     "output_type": "stream",
     "text": [
      "2024-01-08 01:01:07,690:INFO - HTTP Request: GET https://hbvkehzhssiwpotkcxve.supabase.co/rest/v1/reminders_tb?select=%2A&user_email=eq.sebastian%40skills.tech&reminder_type=eq.Welcome \"HTTP/1.1 200 OK\"\n",
      "2024-01-08 01:01:07,783:INFO - HTTP Request: GET https://hbvkehzhssiwpotkcxve.supabase.co/rest/v1/reminders_tb?select=%2A&user_email=eq.sebastian%40skills.tech&reminder_type=eq.Learning%20Progress%20Check-In \"HTTP/1.1 200 OK\"\n",
      "2024-01-08 01:01:07,877:INFO - HTTP Request: POST https://hbvkehzhssiwpotkcxve.supabase.co/rest/v1/reminders_tb \"HTTP/1.1 201 Created\"\n",
      "2024-01-08 01:01:07,972:INFO - HTTP Request: GET https://hbvkehzhssiwpotkcxve.supabase.co/rest/v1/reminders_tb?select=%2A&user_email=eq.luis%40skills.tech&reminder_type=eq.Welcome \"HTTP/1.1 200 OK\"\n"
     ]
    },
    {
     "name": "stdout",
     "output_type": "stream",
     "text": [
      "[] False\n",
      "Se programó email 'Learning Progress Check-In' para sebastian@skills.tech\n"
     ]
    },
    {
     "name": "stderr",
     "output_type": "stream",
     "text": [
      "2024-01-08 01:01:08,062:INFO - HTTP Request: GET https://hbvkehzhssiwpotkcxve.supabase.co/rest/v1/reminders_tb?select=%2A&user_email=eq.luis%40skills.tech&reminder_type=eq.Learning%20Progress%20Check-In \"HTTP/1.1 200 OK\"\n",
      "2024-01-08 01:01:08,149:INFO - HTTP Request: GET https://hbvkehzhssiwpotkcxve.supabase.co/rest/v1/reminders_tb?select=%2A&user_email=eq.skills.demo%40newyorklife.com&reminder_type=eq.Welcome \"HTTP/1.1 200 OK\"\n",
      "2024-01-08 01:01:08,240:INFO - HTTP Request: GET https://hbvkehzhssiwpotkcxve.supabase.co/rest/v1/reminders_tb?select=%2A&user_email=eq.skills.demo%40newyorklife.com&reminder_type=eq.Learning%20Progress%20Check-In \"HTTP/1.1 200 OK\"\n"
     ]
    },
    {
     "name": "stdout",
     "output_type": "stream",
     "text": [
      "[{'id': 59, 'user_email': 'luis@skills.tech', 'reminder_type': 'Learning Progress Check-In', 'status': 'sent', 'scheduled_date': '2024-01-15T06:31:01+00:00', 'content': 'Learning Progress Check-In', 'sent_date': None, 'user_name': None}] False\n",
      "[{'id': 60, 'user_email': 'skills.demo@newyorklife.com', 'reminder_type': 'Learning Progress Check-In', 'status': 'sent', 'scheduled_date': '2024-01-15T06:31:09+00:00', 'content': 'Learning Progress Check-In', 'sent_date': None, 'user_name': None}] False\n"
     ]
    }
   ],
   "source": [
    "import datetime\n",
    "import pytz  # Asegúrate de tener instalado pytz\n",
    "\n",
    "current_date = datetime.datetime.now(datetime.timezone.utc)\n",
    "\n",
    "users = supabase.table(\"members_tb\").select(\"*\").execute().data\n",
    "\n",
    "for user in users:\n",
    "    user_email = user[\"email\"]\n",
    "\n",
    "    # Buscar el recordatorio de bienvenida\n",
    "    welcome_reminder = supabase.table(\"reminders_tb\").select(\"*\").eq(\"user_email\", user_email).eq(\"reminder_type\", \"Welcome\").execute().data\n",
    "\n",
    "    if welcome_reminder:\n",
    "        welcome_date = welcome_reminder[0][\"sent_date\"]\n",
    "        if welcome_date:\n",
    "            welcome_date = datetime.datetime.fromisoformat(welcome_date)\n",
    "            if not welcome_date.tzinfo:\n",
    "                welcome_date = pytz.utc.localize(welcome_date)\n",
    "\n",
    "            scheduled_date = welcome_date + datetime.timedelta(days=7)\n",
    "\n",
    "            # Buscar el recordatorio \"Learning Progress Check-In\"\n",
    "            progress_checkin = supabase.table(\"reminders_tb\").select(\"*\").eq(\"user_email\", user_email).eq(\"reminder_type\", \"Learning Progress Check-In\").execute().data\n",
    "            print(progress_checkin,current_date >= scheduled_date)\n",
    "            if not progress_checkin:\n",
    "                # Crear un registro para el nuevo recordatorio programado\n",
    "                new_recordatorio = {\n",
    "                    \"user_email\": user_email,\n",
    "                    \"user_name\":user_name,\n",
    "                    \"reminder_type\": \"Learning Progress Check-In\",\n",
    "                    \"status\": \"pending\",\n",
    "                    \"scheduled_date\": scheduled_date.isoformat(),\n",
    "                    \"content\": \"Learning Progress Check-In\",\n",
    "                    \"sent_date\": None\n",
    "                }\n",
    "                supabase.table(\"reminders_tb\").insert(new_recordatorio).execute()\n",
    "                print(f\"Se programó email 'Learning Progress Check-In' para {user_email}\")\n",
    "\n",
    "            elif progress_checkin[0][\"status\"] == \"pending\" and current_date >= scheduled_date:\n",
    "                # Enviar correo \"Learning Progress Check-In\"\n",
    "                with open(\"email_templates/Learning_check_in.html\", \"r\") as file:\n",
    "                    html_content = file.read()\n",
    "\n",
    "                    html_content = html_content.replace(\"[Nombre del Usuario]\", user_name)\n",
    "                    send_html_email(user_email, \"Learning Progress Check-In\", html_content)\n",
    "                # Actualizar el estado del recordatorio\n",
    "                supabase.table(\"reminders_tb\").update({\"status\": \"sent\", \"sent_date\": current_date.isoformat()}).eq(\"id\", progress_checkin[0][\"id\"]).execute()\n",
    "                print(f\"Se mando email 'Learning Progress Check-In' a {user_email}\")\n",
    "\n"
   ]
  },
  {
   "cell_type": "code",
   "execution_count": null,
   "metadata": {},
   "outputs": [],
   "source": []
  }
 ],
 "metadata": {
  "kernelspec": {
   "display_name": "venv",
   "language": "python",
   "name": "python3"
  },
  "language_info": {
   "codemirror_mode": {
    "name": "ipython",
    "version": 3
   },
   "file_extension": ".py",
   "mimetype": "text/x-python",
   "name": "python",
   "nbconvert_exporter": "python",
   "pygments_lexer": "ipython3",
   "version": "3.10.13"
  }
 },
 "nbformat": 4,
 "nbformat_minor": 2
}
