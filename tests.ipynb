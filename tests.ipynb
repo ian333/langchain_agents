{
 "cells": [
  {
   "cell_type": "code",
   "execution_count": 1,
   "metadata": {},
   "outputs": [],
   "source": [
    "from utils.email_utils import send_email\n"
   ]
  },
  {
   "cell_type": "code",
   "execution_count": 2,
   "metadata": {},
   "outputs": [
    {
     "data": {
      "text/plain": [
       "'Email sent successfully'"
      ]
     },
     "execution_count": 2,
     "metadata": {},
     "output_type": "execute_result"
    }
   ],
   "source": [
    "send_email(to=\"sebastian@skills.tech\",subject=\"test\",content=\"Template corre de testing\")\n"
   ]
  },
  {
   "cell_type": "code",
   "execution_count": 3,
   "metadata": {},
   "outputs": [],
   "source": [
    "from supabase import create_client\n",
    "from decouple import config\n",
    "\n",
    "supabase = create_client(config(\"SUPABASE_URL\"), config(\"SUPABASE_KEY\"))\n"
   ]
  },
  {
   "cell_type": "code",
   "execution_count": 4,
   "metadata": {},
   "outputs": [
    {
     "name": "stderr",
     "output_type": "stream",
     "text": [
      "2024-01-07 23:12:12,334:INFO - HTTP Request: POST https://hbvkehzhssiwpotkcxve.supabase.co/rest/v1/reminders_tb \"HTTP/1.1 201 Created\"\n",
      "2024-01-07 23:12:12,452:INFO - HTTP Request: POST https://hbvkehzhssiwpotkcxve.supabase.co/rest/v1/reminders_tb \"HTTP/1.1 201 Created\"\n"
     ]
    },
    {
     "name": "stdout",
     "output_type": "stream",
     "text": [
      "No se pudo cargar los datos ficticios\n",
      "No se pudo cargar los datos ficticios\n"
     ]
    },
    {
     "name": "stderr",
     "output_type": "stream",
     "text": [
      "2024-01-07 23:12:12,692:INFO - HTTP Request: POST https://hbvkehzhssiwpotkcxve.supabase.co/rest/v1/reminders_tb \"HTTP/1.1 201 Created\"\n"
     ]
    },
    {
     "name": "stdout",
     "output_type": "stream",
     "text": [
      "No se pudo cargar los datos ficticios\n"
     ]
    }
   ],
   "source": [
    "usuarios_prueba = [\n",
    "    {\n",
    "        \"user_email\": \"sebastian@skills.tech\",\n",
    "        \"reminder_type\": \"Learning Progress Check-In\",\n",
    "        \"status\": \"pending\",\n",
    "        \"scheduled_date\": \"2023-01-01T10:00:00Z\",\n",
    "        \"content\": \"Just a quick reminder to check your progress on this week's topic...\",\n",
    "        \"sent_date\": None\n",
    "    },\n",
    "    {\n",
    "        \"user_email\": \"zuriel@skills.tech\",\n",
    "        \"reminder_type\": \"Encouragement and Motivation\",\n",
    "        \"status\": \"pending\",\n",
    "        \"scheduled_date\": \"2023-01-02T10:00:00Z\",\n",
    "        \"content\": \"You're doing an amazing job! Remember, every question you ask...\",\n",
    "        \"sent_date\": None\n",
    "    },\n",
    "    {\n",
    "        \"user_email\": \"sebastian@skills.tech\",\n",
    "        \"reminder_type\": \"Learning Progress Check-In\",\n",
    "        \"status\": \"pending\",\n",
    "        \"scheduled_date\": \"2024-01-03T10:00:00Z\",\n",
    "        \"content\": \"Just a quick reminder to check your progress on this week's topic...\",\n",
    "        \"sent_date\": None\n",
    "    },\n",
    "    # ... más usuarios de prueba ...\n",
    "]\n",
    "\n",
    "for usuario in usuarios_prueba:\n",
    "    response = supabase.table(\"reminders_tb\").insert(usuario).execute()\n",
    "    try:\n",
    "        if response.error:\n",
    "            print(f\"Error al insertar: {response.error}\")\n",
    "        else:\n",
    "            print(f\"Usuario insertado: {usuario['user_email']}\")\n",
    "    except:\n",
    "        print(\"No se pudo cargar los datos ficticios\")\n",
    "        "
   ]
  },
  {
   "cell_type": "code",
   "execution_count": 27,
   "metadata": {},
   "outputs": [],
   "source": [
    "from utils.email_utils import Learning_process\n",
    "import datetime\n",
    "import pytz  # Asegúrate de tener instalado pytz\n",
    "current_date = datetime.datetime.now(datetime.timezone.utc)\n"
   ]
  },
  {
   "cell_type": "code",
   "execution_count": 22,
   "metadata": {},
   "outputs": [
    {
     "name": "stderr",
     "output_type": "stream",
     "text": [
      "2024-01-08 00:15:46,541:INFO - HTTP Request: GET https://hbvkehzhssiwpotkcxve.supabase.co/rest/v1/reminders_tb?select=%2A&reminder_type=eq.Learning%20Progress%20Check-In&status=eq.pending \"HTTP/1.1 200 OK\"\n"
     ]
    }
   ],
   "source": [
    "recordatorios = supabase.table(\"reminders_tb\").select(\"*\").eq(\"reminder_type\", \"Learning Progress Check-In\").eq(\"status\", \"pending\").execute().data\n",
    "\n",
    "for recordatorio in recordatorios:\n",
    "    print(recordatorio)\n",
    "    #send_email(recordatorio[\"user_email\"], \"Learning Progress Check-In\", Learning_process)\n",
    "\n",
    "    # Actualizar el estado del recordatorio en la base de datos\n",
    "    supabase.table(\"reminders_tb\").update({\"status\": \"sent\"}).eq(\"id\", recordatorio[\"id\"]).execute()"
   ]
  },
  {
   "cell_type": "markdown",
   "metadata": {},
   "source": [
    "Conexion con members y creacion de datos en supabase reminders_tb"
   ]
  },
  {
   "cell_type": "code",
   "execution_count": 29,
   "metadata": {},
   "outputs": [
    {
     "name": "stderr",
     "output_type": "stream",
     "text": [
      "2024-01-08 00:21:01,266:INFO - HTTP Request: GET https://hbvkehzhssiwpotkcxve.supabase.co/rest/v1/members_tb?select=%2A \"HTTP/1.1 200 OK\"\n",
      "2024-01-08 00:21:01,365:INFO - HTTP Request: GET https://hbvkehzhssiwpotkcxve.supabase.co/rest/v1/reminders_tb?select=%2A&user_email=eq.lc%40luiszorrilla.com&reminder_type=eq.Welcome \"HTTP/1.1 200 OK\"\n",
      "2024-01-08 00:21:01,471:INFO - HTTP Request: GET https://hbvkehzhssiwpotkcxve.supabase.co/rest/v1/reminders_tb?select=%2A&user_email=eq.test%40test.test&reminder_type=eq.Welcome \"HTTP/1.1 200 OK\"\n",
      "2024-01-08 00:21:01,571:INFO - HTTP Request: GET https://hbvkehzhssiwpotkcxve.supabase.co/rest/v1/reminders_tb?select=%2A&user_email=eq.sebastian%40skills.tech&reminder_type=eq.Welcome \"HTTP/1.1 200 OK\"\n",
      "2024-01-08 00:21:02,836:INFO - HTTP Request: POST https://hbvkehzhssiwpotkcxve.supabase.co/rest/v1/reminders_tb \"HTTP/1.1 201 Created\"\n",
      "2024-01-08 00:21:02,937:INFO - HTTP Request: GET https://hbvkehzhssiwpotkcxve.supabase.co/rest/v1/reminders_tb?select=%2A&user_email=eq.luis%40skills.tech&reminder_type=eq.Welcome \"HTTP/1.1 200 OK\"\n"
     ]
    },
    {
     "name": "stdout",
     "output_type": "stream",
     "text": [
      "Correo de bienvenida enviado a sebastian@skills.tech y recordatorio creado.\n"
     ]
    },
    {
     "name": "stderr",
     "output_type": "stream",
     "text": [
      "2024-01-08 00:21:03,042:INFO - HTTP Request: GET https://hbvkehzhssiwpotkcxve.supabase.co/rest/v1/reminders_tb?select=%2A&user_email=eq.skills.demo%40newyorklife.com&reminder_type=eq.Welcome \"HTTP/1.1 200 OK\"\n"
     ]
    }
   ],
   "source": [
    "# Obtener todos los usuarios de members_tb\n",
    "members = supabase.table(\"members_tb\").select(\"*\").execute().data\n",
    "for member in members:\n",
    "    user_email = member[\"email\"]\n",
    "    user_name = member[\"name\"]  # Obtener el nombre del usuario\n",
    "\n",
    "\n",
    "    # Verificar si el usuario ya tiene un recordatorio en reminders_tb\n",
    "    existing_reminder = supabase.table(\"reminders_tb\").select(\"*\").eq(\"user_email\", user_email).eq(\"reminder_type\", \"Welcome\").execute().data\n",
    "\n",
    "    if not existing_reminder:\n",
    "        # Enviar correo de bienvenida\n",
    "        welcome_content = \"Bienvenido a nuestra plataforma. ¡Estamos emocionados de tenerte aquí!\"\n",
    "        send_email(to=user_email, subject=\"Bienvenido\", content=welcome_content)\n",
    "\n",
    "        # Crear un registro de recordatorio para el nuevo usuario\n",
    "        new_reminder = {\n",
    "            \"user_email\": user_email,\n",
    "            \"name\":user_name,\n",
    "            \"reminder_type\": \"Welcome\",\n",
    "            \"status\": \"sent\",\n",
    "            \"scheduled_date\": None,  # No aplica para correos de bienvenida\n",
    "            \"content\": \"Bienvenido a nuestra plataforma.\",\n",
    "            \"sent_date\": current_date.isoformat()\n",
    "        }\n",
    "        supabase.table(\"reminders_tb\").insert(new_reminder).execute()\n",
    "\n",
    "        print(f\"Correo de bienvenida enviado a {user_email} y recordatorio creado.\")"
   ]
  },
  {
   "cell_type": "code",
   "execution_count": null,
   "metadata": {},
   "outputs": [],
   "source": []
  },
  {
   "cell_type": "markdown",
   "metadata": {},
   "source": [
    "Envio de correos con html"
   ]
  },
  {
   "cell_type": "code",
   "execution_count": 8,
   "metadata": {},
   "outputs": [],
   "source": [
    "import smtplib\n",
    "from email.mime.multipart import MIMEMultipart\n",
    "from email.mime.text import MIMEText\n",
    "from decouple import config\n",
    "\n",
    "email_user_cred=config(\"username\")\n",
    "email_user_pass=config(\"password\")\n",
    "\n",
    "def send_html_email(to, subject, html_content):\n",
    "    msg = MIMEMultipart('alternative')\n",
    "    msg['Subject'] = subject\n",
    "    msg['From'] = \"arturo@skills.tech\"  # Cambiar a tu dirección de correo\n",
    "    msg['To'] = to\n",
    "\n",
    "    # Parte HTML del mensaje\n",
    "    html_part = MIMEText(html_content, 'html')\n",
    "    msg.attach(html_part)\n",
    "\n",
    "    try:\n",
    "        with smtplib.SMTP_SSL('smtp.gmail.com', 465) as server:\n",
    "            server.login(email_user_cred, email_user_pass)  # Cambiar a tus credenciales\n",
    "            server.send_message(msg)\n",
    "        print(f\"Correo enviado con éxito a {to}\")\n",
    "    except Exception as e:\n",
    "        print(f\"Error al enviar correo a {to}: {e}\")\n"
   ]
  },
  {
   "cell_type": "code",
   "execution_count": 17,
   "metadata": {},
   "outputs": [
    {
     "name": "stdout",
     "output_type": "stream",
     "text": [
      "Correo enviado con éxito a sebastian@skills.tech\n"
     ]
    }
   ],
   "source": [
    "with open(\"email_templates/Learning_check_in.html\", \"r\") as file:\n",
    "        html_content = file.read()\n",
    "\n",
    "html_content = html_content.replace(\"[Nombre del Usuario]\", user_name)\n",
    "send_html_email(\"sebastian@skills.tech\", \"Bienvenido a SkillsAI\", html_content)"
   ]
  },
  {
   "cell_type": "markdown",
   "metadata": {},
   "source": [
    "Correo de Learning check-in una semana despues"
   ]
  },
  {
   "cell_type": "code",
   "execution_count": 45,
   "metadata": {},
   "outputs": [
    {
     "name": "stderr",
     "output_type": "stream",
     "text": [
      "2024-01-08 01:01:07,220:INFO - HTTP Request: GET https://hbvkehzhssiwpotkcxve.supabase.co/rest/v1/members_tb?select=%2A \"HTTP/1.1 200 OK\"\n",
      "2024-01-08 01:01:07,315:INFO - HTTP Request: GET https://hbvkehzhssiwpotkcxve.supabase.co/rest/v1/reminders_tb?select=%2A&user_email=eq.lc%40luiszorrilla.com&reminder_type=eq.Welcome \"HTTP/1.1 200 OK\"\n",
      "2024-01-08 01:01:07,405:INFO - HTTP Request: GET https://hbvkehzhssiwpotkcxve.supabase.co/rest/v1/reminders_tb?select=%2A&user_email=eq.lc%40luiszorrilla.com&reminder_type=eq.Learning%20Progress%20Check-In \"HTTP/1.1 200 OK\"\n",
      "2024-01-08 01:01:07,500:INFO - HTTP Request: GET https://hbvkehzhssiwpotkcxve.supabase.co/rest/v1/reminders_tb?select=%2A&user_email=eq.test%40test.test&reminder_type=eq.Welcome \"HTTP/1.1 200 OK\"\n",
      "2024-01-08 01:01:07,597:INFO - HTTP Request: GET https://hbvkehzhssiwpotkcxve.supabase.co/rest/v1/reminders_tb?select=%2A&user_email=eq.test%40test.test&reminder_type=eq.Learning%20Progress%20Check-In \"HTTP/1.1 200 OK\"\n"
     ]
    },
    {
     "name": "stdout",
     "output_type": "stream",
     "text": [
      "[{'id': 57, 'user_email': 'lc@luiszorrilla.com', 'reminder_type': 'Learning Progress Check-In', 'status': 'sent', 'scheduled_date': '2024-01-15T02:31:17+00:00', 'content': 'Learning Progress Check-In', 'sent_date': None, 'user_name': None}] False\n",
      "[{'id': 58, 'user_email': 'test@test.test', 'reminder_type': 'Learning Progress Check-In', 'status': 'sent', 'scheduled_date': '2024-01-15T06:31:13+00:00', 'content': 'Learning Progress Check-In', 'sent_date': None, 'user_name': None}] False\n"
     ]
    },
    {
     "name": "stderr",
     "output_type": "stream",
     "text": [
      "2024-01-08 01:01:07,690:INFO - HTTP Request: GET https://hbvkehzhssiwpotkcxve.supabase.co/rest/v1/reminders_tb?select=%2A&user_email=eq.sebastian%40skills.tech&reminder_type=eq.Welcome \"HTTP/1.1 200 OK\"\n",
      "2024-01-08 01:01:07,783:INFO - HTTP Request: GET https://hbvkehzhssiwpotkcxve.supabase.co/rest/v1/reminders_tb?select=%2A&user_email=eq.sebastian%40skills.tech&reminder_type=eq.Learning%20Progress%20Check-In \"HTTP/1.1 200 OK\"\n",
      "2024-01-08 01:01:07,877:INFO - HTTP Request: POST https://hbvkehzhssiwpotkcxve.supabase.co/rest/v1/reminders_tb \"HTTP/1.1 201 Created\"\n",
      "2024-01-08 01:01:07,972:INFO - HTTP Request: GET https://hbvkehzhssiwpotkcxve.supabase.co/rest/v1/reminders_tb?select=%2A&user_email=eq.luis%40skills.tech&reminder_type=eq.Welcome \"HTTP/1.1 200 OK\"\n"
     ]
    },
    {
     "name": "stdout",
     "output_type": "stream",
     "text": [
      "[] False\n",
      "Se programó email 'Learning Progress Check-In' para sebastian@skills.tech\n"
     ]
    },
    {
     "name": "stderr",
     "output_type": "stream",
     "text": [
      "2024-01-08 01:01:08,062:INFO - HTTP Request: GET https://hbvkehzhssiwpotkcxve.supabase.co/rest/v1/reminders_tb?select=%2A&user_email=eq.luis%40skills.tech&reminder_type=eq.Learning%20Progress%20Check-In \"HTTP/1.1 200 OK\"\n",
      "2024-01-08 01:01:08,149:INFO - HTTP Request: GET https://hbvkehzhssiwpotkcxve.supabase.co/rest/v1/reminders_tb?select=%2A&user_email=eq.skills.demo%40newyorklife.com&reminder_type=eq.Welcome \"HTTP/1.1 200 OK\"\n",
      "2024-01-08 01:01:08,240:INFO - HTTP Request: GET https://hbvkehzhssiwpotkcxve.supabase.co/rest/v1/reminders_tb?select=%2A&user_email=eq.skills.demo%40newyorklife.com&reminder_type=eq.Learning%20Progress%20Check-In \"HTTP/1.1 200 OK\"\n"
     ]
    },
    {
     "name": "stdout",
     "output_type": "stream",
     "text": [
      "[{'id': 59, 'user_email': 'luis@skills.tech', 'reminder_type': 'Learning Progress Check-In', 'status': 'sent', 'scheduled_date': '2024-01-15T06:31:01+00:00', 'content': 'Learning Progress Check-In', 'sent_date': None, 'user_name': None}] False\n",
      "[{'id': 60, 'user_email': 'skills.demo@newyorklife.com', 'reminder_type': 'Learning Progress Check-In', 'status': 'sent', 'scheduled_date': '2024-01-15T06:31:09+00:00', 'content': 'Learning Progress Check-In', 'sent_date': None, 'user_name': None}] False\n"
     ]
    }
   ],
   "source": [
    "import datetime\n",
    "import pytz  # Asegúrate de tener instalado pytz\n",
    "\n",
    "current_date = datetime.datetime.now(datetime.timezone.utc)\n",
    "\n",
    "users = supabase.table(\"members_tb\").select(\"*\").execute().data\n",
    "\n",
    "for user in users:\n",
    "    user_email = user[\"email\"]\n",
    "\n",
    "    # Buscar el recordatorio de bienvenida\n",
    "    welcome_reminder = supabase.table(\"reminders_tb\").select(\"*\").eq(\"user_email\", user_email).eq(\"reminder_type\", \"Welcome\").execute().data\n",
    "\n",
    "    if welcome_reminder:\n",
    "        welcome_date = welcome_reminder[0][\"sent_date\"]\n",
    "        if welcome_date:\n",
    "            welcome_date = datetime.datetime.fromisoformat(welcome_date)\n",
    "            if not welcome_date.tzinfo:\n",
    "                welcome_date = pytz.utc.localize(welcome_date)\n",
    "\n",
    "            scheduled_date = welcome_date + datetime.timedelta(days=7)\n",
    "\n",
    "            # Buscar el recordatorio \"Learning Progress Check-In\"\n",
    "            progress_checkin = supabase.table(\"reminders_tb\").select(\"*\").eq(\"user_email\", user_email).eq(\"reminder_type\", \"Learning Progress Check-In\").execute().data\n",
    "            print(progress_checkin,current_date >= scheduled_date)\n",
    "            if not progress_checkin:\n",
    "                # Crear un registro para el nuevo recordatorio programado\n",
    "                new_recordatorio = {\n",
    "                    \"user_email\": user_email,\n",
    "                    \"user_name\":user_name,\n",
    "                    \"reminder_type\": \"Learning Progress Check-In\",\n",
    "                    \"status\": \"pending\",\n",
    "                    \"scheduled_date\": scheduled_date.isoformat(),\n",
    "                    \"content\": \"Learning Progress Check-In\",\n",
    "                    \"sent_date\": None\n",
    "                }\n",
    "                supabase.table(\"reminders_tb\").insert(new_recordatorio).execute()\n",
    "                print(f\"Se programó email 'Learning Progress Check-In' para {user_email}\")\n",
    "\n",
    "            elif progress_checkin[0][\"status\"] == \"pending\" and current_date >= scheduled_date:\n",
    "                # Enviar correo \"Learning Progress Check-In\"\n",
    "                with open(\"email_templates/Learning_check_in.html\", \"r\") as file:\n",
    "                    html_content = file.read()\n",
    "\n",
    "                    html_content = html_content.replace(\"[Nombre del Usuario]\", user_name)\n",
    "                    send_html_email(user_email, \"Learning Progress Check-In\", html_content)\n",
    "                # Actualizar el estado del recordatorio\n",
    "                supabase.table(\"reminders_tb\").update({\"status\": \"sent\", \"sent_date\": current_date.isoformat()}).eq(\"id\", progress_checkin[0][\"id\"]).execute()\n",
    "                print(f\"Se mando email 'Learning Progress Check-In' a {user_email}\")\n",
    "\n"
   ]
  },
  {
   "cell_type": "code",
   "execution_count": 4,
   "metadata": {},
   "outputs": [],
   "source": [
    "from database.supa import supabase_user,supabase_admin  # Importar los clientes de Supabase\n",
    "from supabase import create_client\n",
    "from decouple import config"
   ]
  },
  {
   "cell_type": "code",
   "execution_count": 5,
   "metadata": {},
   "outputs": [
    {
     "name": "stderr",
     "output_type": "stream",
     "text": [
      "2024-01-28 16:07:44,933:INFO - HTTP Request: GET https://hbvkehzhssiwpotkcxve.supabase.co/rest/v1/courses_tb?select=%2A&id=eq.ba86e360-577c-4145-baac-974611be0872 \"HTTP/1.1 200 OK\"\n"
     ]
    },
    {
     "data": {
      "text/plain": [
       "{'name': 'Fisica para todos ',\n",
       " 'avatarid': '12b850ea-01c0-4b2f-9c68-e2ad9c655543',\n",
       " 'companyid': '2e2aec92-0980-483e-9edd-05f187d10253',\n",
       " 'syllabus': 'Fisica 1',\n",
       " 'general_objective': 'Ensena fisica de manera clara y sencilla. ',\n",
       " 'module_objective': 'Fisica de inicio a fin',\n",
       " 'prerequisites': 'No hay',\n",
       " 'reference_files': [{'0': '2e2aec92-0980-483e-9edd-05f187d10253/Fisica_para_todos_'}],\n",
       " 'created_at': '2023-12-14T16:22:06.83592+00:00',\n",
       " 'id': 'ba86e360-577c-4145-baac-974611be0872',\n",
       " 'status': 'ready',\n",
       " 'reference_videos': [],\n",
       " 'categories': {'categories': [{'name': 'Classical Mechanics',\n",
       "    'icon_url': 'https://example.com/icons/classical-mechanics.png',\n",
       "    'description': 'Fundamentals of motion'},\n",
       "   {'name': 'Thermodynamics',\n",
       "    'icon_url': 'https://example.com/icons/thermodynamics.png',\n",
       "    'description': 'Heat and energy studies'},\n",
       "   {'name': 'Electromagnetism',\n",
       "    'icon_url': 'https://example.com/icons/electromagnetism.png',\n",
       "    'description': 'Electricity and magnetism'},\n",
       "   {'name': 'Wave Physics',\n",
       "    'icon_url': 'https://example.com/icons/wave-physics.png',\n",
       "    'description': 'Sound and light waves'},\n",
       "   {'name': 'Quantum Mechanics',\n",
       "    'icon_url': 'https://example.com/icons/quantum-mechanics.png',\n",
       "    'description': 'Physics of the small'},\n",
       "   {'name': 'Relativity',\n",
       "    'icon_url': 'https://example.com/icons/relativity.png',\n",
       "    'description': 'Space-time concepts'}]}}"
      ]
     },
     "execution_count": 5,
     "metadata": {},
     "output_type": "execute_result"
    }
   ],
   "source": [
    "url_admin: str = config(\"SUPABASE_ADMIN_URL\")\n",
    "key_admin: str = config(\"SUPABASE_ADMIN_KEY\")\n",
    "\n",
    "supabase_admin_2 = create_client(supabase_url=url_admin,supabase_key= key_admin)\n",
    "admin_data = supabase_admin.table(\"courses_tb\").select(\"*\").eq(\"id\", \"ba86e360-577c-4145-baac-974611be0872\").execute().data[0]\n",
    "admin_data"
   ]
  },
  {
   "cell_type": "code",
   "execution_count": 10,
   "metadata": {},
   "outputs": [
    {
     "name": "stderr",
     "output_type": "stream",
     "text": [
      "2024-01-28 16:10:04,286:INFO - HTTP Request: GET https://hhtrmdrpowaaxlydfwjn.supabase.co/rest/v1/responses_tb?select=%2A&threadid=eq.4a37be7f-ce2c-4f19-aaaa-15f6d334a908 \"HTTP/1.1 200 OK\"\n"
     ]
    },
    {
     "data": {
      "text/plain": [
       "{'id': 4,\n",
       " 'threadid': '4a37be7f-ce2c-4f19-aaaa-15f6d334a908',\n",
       " 'prompt': 'Cuales son las Leyes de Newton? ',\n",
       " 'created_at': '2024-01-23T10:56:33.346471+00:00',\n",
       " 'answer': 'Las tres leyes de Newton son fundamentales para entender la mecánica clásica. Aquí tienes una explicación conceptual de cada una de ellas, junto con un ejemplo práctico:\\n\\n1. **Primera Ley de Newton o Ley de la Inercia**: Esta ley establece que un objeto permanecerá en reposo o en movimiento rectilíneo uniforme a menos que actúe sobre él una fuerza externa. Conceptualmente, esta ley habla sobre la resistencia de los objetos a cambiar su estado de movimiento.\\n    - **Ejemplo**: Cuando viajas en un automóvil y este frena repentinamente, tiendes a seguir moviéndote hacia adelante. Esto se debe a la inercia, tu cuerpo resiste el cambio en su estado de movimiento.\\n2. **Segunda Ley de Newton**: Esta ley formula que la fuerza aplicada a un objeto es igual a la masa del objeto multiplicada por su aceleración (F = ma). En esencia, esta ley cuantifica cómo la aceleración de un objeto está relacionada con las fuerzas que actúan sobre él y su masa.\\n    - **Ejemplo**: Empujar un carrito de compras vacío requiere menos fuerza que empujar el mismo carrito cuando está lleno de comestibles. Cuanto mayor es la masa del carrito (más comestibles), mayor es la fuerza necesaria para alcanzar la misma aceleración.\\n3. **Tercera Ley de Newton o Ley de Acción y Reacción**: Esta ley afirma que por cada acción, hay una reacción igual y opuesta. En otras palabras, las fuerzas siempre actúan en pares; si un objeto A ejerce una fuerza sobre un objeto B, el objeto B ejerce una fuerza igual y opuesta sobre el objeto A.\\n    - **Ejemplo**: Al saltar desde una lancha hacia un muelle, tu salto ejerce una fuerza hacia abajo sobre la lancha, y la lancha ejerce una fuerza igual y opuesta hacia arriba sobre ti. Esto hace que la lancha se mueva ligeramente hacia atrás cuando saltas.',\n",
       " 'followup': {'followup': [{'url': 'https://ejemplo.com/aplicacion-segunda-ley-newton',\n",
       "    'question': '¿Cómo podríamos aplicar la segunda ley de Newton para calcular la aceleración de un vehículo sabiendo su masa y la fuerza aplicada?'},\n",
       "   {'url': 'https://ejemplo.com/explicacion-cohetes-tercera-ley-newton',\n",
       "    'question': 'Dame más detalle de la segunda Ley de Newton'},\n",
       "   {'url': 'https://ejemplo.com/importancia-primera-ley-newton-seguridad-vehicular',\n",
       "    'question': '¿Cuál es la importancia de la primera ley de Newton en la ingeniería de sistemas de seguridad en vehículos, como los cinturones de seguridad?'}]},\n",
       " 'videos': {'videos': [{'url': 'https://www.youtube.com/watch?v=_X-BTbwj3xU',\n",
       "    'title': 'Las Leyes de Newton en 2 minutos',\n",
       "    'thumbnailUrl': 'https://i.ytimg.com/vi/_X-BTbwj3xU/maxresdefault.jpg'},\n",
       "   {'url': 'https://www.youtube.com/watch?v=8qnlCe0bbAI',\n",
       "    'title': '👨\\u200d🔬 Las LEYES de NEWTON',\n",
       "    'thumbnailUrl': 'https://i.ytimg.com/vi/8qnlCe0bbAI/maxresdefault.jpg'},\n",
       "   {'url': 'https://www.youtube.com/watch?v=q8YEVdbKBlo',\n",
       "    'title': '¿Y si Enseñamos las Leyes de Newton AL REVÉS?',\n",
       "    'thumbnailUrl': 'https://i.ytimg.com/vi/q8YEVdbKBlo/maxresdefault.jpg'},\n",
       "   {'url': 'https://www.youtube.com/watch?v=m8NBT0SL5CA',\n",
       "    'title': 'Otra forma de ver las leyes de NEWTON',\n",
       "    'thumbnailUrl': 'https://i.ytimg.com/vi/BwpvOr7OyrU/hq720.jpg?sqp=-oaymwEhCK4FEIIDSFryq4qpAxMIARUAAAAAGAElAADIQj0AgKJD&rs=AOn4CLAyAW3pz75LaUTI3d5n0ZsVH7Z2jA'}]},\n",
       " 'sources': {'sources': [{'url': 'https://es.khanacademy.org/computing/computer-programming/programming-natural-simulations/programming-forces/a/newtons-laws-of-motion',\n",
       "    'title': 'Leyes de Newton en Khan Academy',\n",
       "    'sourceNumber': 1},\n",
       "   {'url': 'https://www1.grc.nasa.gov/beginners-guide-to-aeronautics/newtons-laws-of-motion/',\n",
       "    'title': 'Guía para Principiantes sobre Aeronáutica - Leyes de Newton de la NASA',\n",
       "    'sourceNumber': 2},\n",
       "   {'url': 'https://www.generationgenius.com/es/leyes-del-movimiento-de-newton-material-de-lectura-6-a-8-grado/',\n",
       "    'title': 'Leyes del Movimiento de Newton - Generation Genius',\n",
       "    'sourceNumber': 3}]},\n",
       " 'fact': 'Isaac Newton formuló sus leyes del movimiento en el siglo XVII, mientras intentaba entender el movimiento de los planetas observado por Kepler. Estas leyes no solo explicaron los fenómenos terrestres, sino que también fueron clave para entender cómo los cuerpos celestes se mueven en el espacio, siendo una de las primeras veces que se unificaron los fenómenos celestes y terrestres bajo un mismo conjunto de leyes físicas.'}"
      ]
     },
     "execution_count": 10,
     "metadata": {},
     "output_type": "execute_result"
    }
   ],
   "source": [
    "# Proyecto Usuario\n",
    "url_user: str = config(\"SUPABASE_USER_URL\")\n",
    "key_user: str = config(\"SUPABASE_USER_KEY\")\n",
    "supabase_user = create_client(supabase_url=url_user,supabase_key= key_user)\n",
    "\n",
    "\n",
    "response = supabase_user.table(\"responses_tb\").select(\"*\").eq(\"threadid\", \"4a37be7f-ce2c-4f19-aaaa-15f6d334a908\").execute().data[0]\n",
    "response"
   ]
  },
  {
   "cell_type": "code",
   "execution_count": null,
   "metadata": {},
   "outputs": [],
   "source": []
  },
  {
   "cell_type": "code",
   "execution_count": null,
   "metadata": {},
   "outputs": [],
   "source": []
  }
 ],
 "metadata": {
  "kernelspec": {
   "display_name": "venv",
   "language": "python",
   "name": "python3"
  },
  "language_info": {
   "codemirror_mode": {
    "name": "ipython",
    "version": 3
   },
   "file_extension": ".py",
   "mimetype": "text/x-python",
   "name": "python",
   "nbconvert_exporter": "python",
   "pygments_lexer": "ipython3",
   "version": "3.10.13"
  }
 },
 "nbformat": 4,
 "nbformat_minor": 2
}
