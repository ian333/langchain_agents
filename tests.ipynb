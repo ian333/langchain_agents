{
 "cells": [
  {
   "cell_type": "code",
   "execution_count": 1,
   "metadata": {},
   "outputs": [],
   "source": [
    "from utils.email_utils import send_email\n"
   ]
  },
  {
   "cell_type": "code",
   "execution_count": 2,
   "metadata": {},
   "outputs": [
    {
     "data": {
      "text/plain": [
       "'Email sent successfully'"
      ]
     },
     "execution_count": 2,
     "metadata": {},
     "output_type": "execute_result"
    }
   ],
   "source": [
    "send_email(to=\"sebastian@skills.tech\",subject=\"test\",content=\"Template corre de testing\")\n"
   ]
  },
  {
   "cell_type": "code",
   "execution_count": 3,
   "metadata": {},
   "outputs": [],
   "source": [
    "from supabase import create_client\n",
    "from decouple import config\n",
    "\n",
    "supabase = create_client(config(\"SUPABASE_URL\"), config(\"SUPABASE_KEY\"))\n"
   ]
  },
  {
   "cell_type": "code",
   "execution_count": 4,
   "metadata": {},
   "outputs": [
    {
     "name": "stderr",
     "output_type": "stream",
     "text": [
      "2024-01-07 23:12:12,334:INFO - HTTP Request: POST https://hbvkehzhssiwpotkcxve.supabase.co/rest/v1/reminders_tb \"HTTP/1.1 201 Created\"\n",
      "2024-01-07 23:12:12,452:INFO - HTTP Request: POST https://hbvkehzhssiwpotkcxve.supabase.co/rest/v1/reminders_tb \"HTTP/1.1 201 Created\"\n"
     ]
    },
    {
     "name": "stdout",
     "output_type": "stream",
     "text": [
      "No se pudo cargar los datos ficticios\n",
      "No se pudo cargar los datos ficticios\n"
     ]
    },
    {
     "name": "stderr",
     "output_type": "stream",
     "text": [
      "2024-01-07 23:12:12,692:INFO - HTTP Request: POST https://hbvkehzhssiwpotkcxve.supabase.co/rest/v1/reminders_tb \"HTTP/1.1 201 Created\"\n"
     ]
    },
    {
     "name": "stdout",
     "output_type": "stream",
     "text": [
      "No se pudo cargar los datos ficticios\n"
     ]
    }
   ],
   "source": [
    "usuarios_prueba = [\n",
    "    {\n",
    "        \"user_email\": \"sebastian@skills.tech\",\n",
    "        \"reminder_type\": \"Learning Progress Check-In\",\n",
    "        \"status\": \"pending\",\n",
    "        \"scheduled_date\": \"2023-01-01T10:00:00Z\",\n",
    "        \"content\": \"Just a quick reminder to check your progress on this week's topic...\",\n",
    "        \"sent_date\": None\n",
    "    },\n",
    "    {\n",
    "        \"user_email\": \"zuriel@skills.tech\",\n",
    "        \"reminder_type\": \"Encouragement and Motivation\",\n",
    "        \"status\": \"pending\",\n",
    "        \"scheduled_date\": \"2023-01-02T10:00:00Z\",\n",
    "        \"content\": \"You're doing an amazing job! Remember, every question you ask...\",\n",
    "        \"sent_date\": None\n",
    "    },\n",
    "    {\n",
    "        \"user_email\": \"sebastian@skills.tech\",\n",
    "        \"reminder_type\": \"Learning Progress Check-In\",\n",
    "        \"status\": \"pending\",\n",
    "        \"scheduled_date\": \"2024-01-03T10:00:00Z\",\n",
    "        \"content\": \"Just a quick reminder to check your progress on this week's topic...\",\n",
    "        \"sent_date\": None\n",
    "    },\n",
    "    # ... más usuarios de prueba ...\n",
    "]\n",
    "\n",
    "for usuario in usuarios_prueba:\n",
    "    response = supabase.table(\"reminders_tb\").insert(usuario).execute()\n",
    "    try:\n",
    "        if response.error:\n",
    "            print(f\"Error al insertar: {response.error}\")\n",
    "        else:\n",
    "            print(f\"Usuario insertado: {usuario['user_email']}\")\n",
    "    except:\n",
    "        print(\"No se pudo cargar los datos ficticios\")\n",
    "        "
   ]
  },
  {
   "cell_type": "code",
   "execution_count": 27,
   "metadata": {},
   "outputs": [],
   "source": [
    "from utils.email_utils import Learning_process\n",
    "import datetime\n",
    "import pytz  # Asegúrate de tener instalado pytz\n",
    "current_date = datetime.datetime.now(datetime.timezone.utc)\n"
   ]
  },
  {
   "cell_type": "code",
   "execution_count": 22,
   "metadata": {},
   "outputs": [
    {
     "name": "stderr",
     "output_type": "stream",
     "text": [
      "2024-01-08 00:15:46,541:INFO - HTTP Request: GET https://hbvkehzhssiwpotkcxve.supabase.co/rest/v1/reminders_tb?select=%2A&reminder_type=eq.Learning%20Progress%20Check-In&status=eq.pending \"HTTP/1.1 200 OK\"\n"
     ]
    }
   ],
   "source": [
    "recordatorios = supabase.table(\"reminders_tb\").select(\"*\").eq(\"reminder_type\", \"Learning Progress Check-In\").eq(\"status\", \"pending\").execute().data\n",
    "\n",
    "for recordatorio in recordatorios:\n",
    "    print(recordatorio)\n",
    "    #send_email(recordatorio[\"user_email\"], \"Learning Progress Check-In\", Learning_process)\n",
    "\n",
    "    # Actualizar el estado del recordatorio en la base de datos\n",
    "    supabase.table(\"reminders_tb\").update({\"status\": \"sent\"}).eq(\"id\", recordatorio[\"id\"]).execute()"
   ]
  },
  {
   "cell_type": "markdown",
   "metadata": {},
   "source": [
    "Conexion con members y creacion de datos en supabase reminders_tb"
   ]
  },
  {
   "cell_type": "code",
   "execution_count": 29,
   "metadata": {},
   "outputs": [
    {
     "name": "stderr",
     "output_type": "stream",
     "text": [
      "2024-01-08 00:21:01,266:INFO - HTTP Request: GET https://hbvkehzhssiwpotkcxve.supabase.co/rest/v1/members_tb?select=%2A \"HTTP/1.1 200 OK\"\n",
      "2024-01-08 00:21:01,365:INFO - HTTP Request: GET https://hbvkehzhssiwpotkcxve.supabase.co/rest/v1/reminders_tb?select=%2A&user_email=eq.lc%40luiszorrilla.com&reminder_type=eq.Welcome \"HTTP/1.1 200 OK\"\n",
      "2024-01-08 00:21:01,471:INFO - HTTP Request: GET https://hbvkehzhssiwpotkcxve.supabase.co/rest/v1/reminders_tb?select=%2A&user_email=eq.test%40test.test&reminder_type=eq.Welcome \"HTTP/1.1 200 OK\"\n",
      "2024-01-08 00:21:01,571:INFO - HTTP Request: GET https://hbvkehzhssiwpotkcxve.supabase.co/rest/v1/reminders_tb?select=%2A&user_email=eq.sebastian%40skills.tech&reminder_type=eq.Welcome \"HTTP/1.1 200 OK\"\n",
      "2024-01-08 00:21:02,836:INFO - HTTP Request: POST https://hbvkehzhssiwpotkcxve.supabase.co/rest/v1/reminders_tb \"HTTP/1.1 201 Created\"\n",
      "2024-01-08 00:21:02,937:INFO - HTTP Request: GET https://hbvkehzhssiwpotkcxve.supabase.co/rest/v1/reminders_tb?select=%2A&user_email=eq.luis%40skills.tech&reminder_type=eq.Welcome \"HTTP/1.1 200 OK\"\n"
     ]
    },
    {
     "name": "stdout",
     "output_type": "stream",
     "text": [
      "Correo de bienvenida enviado a sebastian@skills.tech y recordatorio creado.\n"
     ]
    },
    {
     "name": "stderr",
     "output_type": "stream",
     "text": [
      "2024-01-08 00:21:03,042:INFO - HTTP Request: GET https://hbvkehzhssiwpotkcxve.supabase.co/rest/v1/reminders_tb?select=%2A&user_email=eq.skills.demo%40newyorklife.com&reminder_type=eq.Welcome \"HTTP/1.1 200 OK\"\n"
     ]
    }
   ],
   "source": [
    "# Obtener todos los usuarios de members_tb\n",
    "members = supabase.table(\"members_tb\").select(\"*\").execute().data\n",
    "for member in members:\n",
    "    user_email = member[\"email\"]\n",
    "    user_name = member[\"name\"]  # Obtener el nombre del usuario\n",
    "\n",
    "\n",
    "    # Verificar si el usuario ya tiene un recordatorio en reminders_tb\n",
    "    existing_reminder = supabase.table(\"reminders_tb\").select(\"*\").eq(\"user_email\", user_email).eq(\"reminder_type\", \"Welcome\").execute().data\n",
    "\n",
    "    if not existing_reminder:\n",
    "        # Enviar correo de bienvenida\n",
    "        welcome_content = \"Bienvenido a nuestra plataforma. ¡Estamos emocionados de tenerte aquí!\"\n",
    "        send_email(to=user_email, subject=\"Bienvenido\", content=welcome_content)\n",
    "\n",
    "        # Crear un registro de recordatorio para el nuevo usuario\n",
    "        new_reminder = {\n",
    "            \"user_email\": user_email,\n",
    "            \"name\":user_name,\n",
    "            \"reminder_type\": \"Welcome\",\n",
    "            \"status\": \"sent\",\n",
    "            \"scheduled_date\": None,  # No aplica para correos de bienvenida\n",
    "            \"content\": \"Bienvenido a nuestra plataforma.\",\n",
    "            \"sent_date\": current_date.isoformat()\n",
    "        }\n",
    "        supabase.table(\"reminders_tb\").insert(new_reminder).execute()\n",
    "\n",
    "        print(f\"Correo de bienvenida enviado a {user_email} y recordatorio creado.\")"
   ]
  },
  {
   "cell_type": "code",
   "execution_count": null,
   "metadata": {},
   "outputs": [],
   "source": []
  },
  {
   "cell_type": "markdown",
   "metadata": {},
   "source": [
    "Envio de correos con html"
   ]
  },
  {
   "cell_type": "code",
   "execution_count": 8,
   "metadata": {},
   "outputs": [],
   "source": [
    "import smtplib\n",
    "from email.mime.multipart import MIMEMultipart\n",
    "from email.mime.text import MIMEText\n",
    "from decouple import config\n",
    "\n",
    "email_user_cred=config(\"username\")\n",
    "email_user_pass=config(\"password\")\n",
    "\n",
    "def send_html_email(to, subject, html_content):\n",
    "    msg = MIMEMultipart('alternative')\n",
    "    msg['Subject'] = subject\n",
    "    msg['From'] = \"arturo@skills.tech\"  # Cambiar a tu dirección de correo\n",
    "    msg['To'] = to\n",
    "\n",
    "    # Parte HTML del mensaje\n",
    "    html_part = MIMEText(html_content, 'html')\n",
    "    msg.attach(html_part)\n",
    "\n",
    "    try:\n",
    "        with smtplib.SMTP_SSL('smtp.gmail.com', 465) as server:\n",
    "            server.login(email_user_cred, email_user_pass)  # Cambiar a tus credenciales\n",
    "            server.send_message(msg)\n",
    "        print(f\"Correo enviado con éxito a {to}\")\n",
    "    except Exception as e:\n",
    "        print(f\"Error al enviar correo a {to}: {e}\")\n"
   ]
  },
  {
   "cell_type": "code",
   "execution_count": 17,
   "metadata": {},
   "outputs": [
    {
     "name": "stdout",
     "output_type": "stream",
     "text": [
      "Correo enviado con éxito a sebastian@skills.tech\n"
     ]
    }
   ],
   "source": [
    "with open(\"email_templates/Learning_check_in.html\", \"r\") as file:\n",
    "        html_content = file.read()\n",
    "\n",
    "html_content = html_content.replace(\"[Nombre del Usuario]\", user_name)\n",
    "send_html_email(\"sebastian@skills.tech\", \"Bienvenido a SkillsAI\", html_content)"
   ]
  },
  {
   "cell_type": "markdown",
   "metadata": {},
   "source": [
    "Correo de Learning check-in una semana despues"
   ]
  },
  {
   "cell_type": "code",
   "execution_count": 45,
   "metadata": {},
   "outputs": [
    {
     "name": "stderr",
     "output_type": "stream",
     "text": [
      "2024-01-08 01:01:07,220:INFO - HTTP Request: GET https://hbvkehzhssiwpotkcxve.supabase.co/rest/v1/members_tb?select=%2A \"HTTP/1.1 200 OK\"\n",
      "2024-01-08 01:01:07,315:INFO - HTTP Request: GET https://hbvkehzhssiwpotkcxve.supabase.co/rest/v1/reminders_tb?select=%2A&user_email=eq.lc%40luiszorrilla.com&reminder_type=eq.Welcome \"HTTP/1.1 200 OK\"\n",
      "2024-01-08 01:01:07,405:INFO - HTTP Request: GET https://hbvkehzhssiwpotkcxve.supabase.co/rest/v1/reminders_tb?select=%2A&user_email=eq.lc%40luiszorrilla.com&reminder_type=eq.Learning%20Progress%20Check-In \"HTTP/1.1 200 OK\"\n",
      "2024-01-08 01:01:07,500:INFO - HTTP Request: GET https://hbvkehzhssiwpotkcxve.supabase.co/rest/v1/reminders_tb?select=%2A&user_email=eq.test%40test.test&reminder_type=eq.Welcome \"HTTP/1.1 200 OK\"\n",
      "2024-01-08 01:01:07,597:INFO - HTTP Request: GET https://hbvkehzhssiwpotkcxve.supabase.co/rest/v1/reminders_tb?select=%2A&user_email=eq.test%40test.test&reminder_type=eq.Learning%20Progress%20Check-In \"HTTP/1.1 200 OK\"\n"
     ]
    },
    {
     "name": "stdout",
     "output_type": "stream",
     "text": [
      "[{'id': 57, 'user_email': 'lc@luiszorrilla.com', 'reminder_type': 'Learning Progress Check-In', 'status': 'sent', 'scheduled_date': '2024-01-15T02:31:17+00:00', 'content': 'Learning Progress Check-In', 'sent_date': None, 'user_name': None}] False\n",
      "[{'id': 58, 'user_email': 'test@test.test', 'reminder_type': 'Learning Progress Check-In', 'status': 'sent', 'scheduled_date': '2024-01-15T06:31:13+00:00', 'content': 'Learning Progress Check-In', 'sent_date': None, 'user_name': None}] False\n"
     ]
    },
    {
     "name": "stderr",
     "output_type": "stream",
     "text": [
      "2024-01-08 01:01:07,690:INFO - HTTP Request: GET https://hbvkehzhssiwpotkcxve.supabase.co/rest/v1/reminders_tb?select=%2A&user_email=eq.sebastian%40skills.tech&reminder_type=eq.Welcome \"HTTP/1.1 200 OK\"\n",
      "2024-01-08 01:01:07,783:INFO - HTTP Request: GET https://hbvkehzhssiwpotkcxve.supabase.co/rest/v1/reminders_tb?select=%2A&user_email=eq.sebastian%40skills.tech&reminder_type=eq.Learning%20Progress%20Check-In \"HTTP/1.1 200 OK\"\n",
      "2024-01-08 01:01:07,877:INFO - HTTP Request: POST https://hbvkehzhssiwpotkcxve.supabase.co/rest/v1/reminders_tb \"HTTP/1.1 201 Created\"\n",
      "2024-01-08 01:01:07,972:INFO - HTTP Request: GET https://hbvkehzhssiwpotkcxve.supabase.co/rest/v1/reminders_tb?select=%2A&user_email=eq.luis%40skills.tech&reminder_type=eq.Welcome \"HTTP/1.1 200 OK\"\n"
     ]
    },
    {
     "name": "stdout",
     "output_type": "stream",
     "text": [
      "[] False\n",
      "Se programó email 'Learning Progress Check-In' para sebastian@skills.tech\n"
     ]
    },
    {
     "name": "stderr",
     "output_type": "stream",
     "text": [
      "2024-01-08 01:01:08,062:INFO - HTTP Request: GET https://hbvkehzhssiwpotkcxve.supabase.co/rest/v1/reminders_tb?select=%2A&user_email=eq.luis%40skills.tech&reminder_type=eq.Learning%20Progress%20Check-In \"HTTP/1.1 200 OK\"\n",
      "2024-01-08 01:01:08,149:INFO - HTTP Request: GET https://hbvkehzhssiwpotkcxve.supabase.co/rest/v1/reminders_tb?select=%2A&user_email=eq.skills.demo%40newyorklife.com&reminder_type=eq.Welcome \"HTTP/1.1 200 OK\"\n",
      "2024-01-08 01:01:08,240:INFO - HTTP Request: GET https://hbvkehzhssiwpotkcxve.supabase.co/rest/v1/reminders_tb?select=%2A&user_email=eq.skills.demo%40newyorklife.com&reminder_type=eq.Learning%20Progress%20Check-In \"HTTP/1.1 200 OK\"\n"
     ]
    },
    {
     "name": "stdout",
     "output_type": "stream",
     "text": [
      "[{'id': 59, 'user_email': 'luis@skills.tech', 'reminder_type': 'Learning Progress Check-In', 'status': 'sent', 'scheduled_date': '2024-01-15T06:31:01+00:00', 'content': 'Learning Progress Check-In', 'sent_date': None, 'user_name': None}] False\n",
      "[{'id': 60, 'user_email': 'skills.demo@newyorklife.com', 'reminder_type': 'Learning Progress Check-In', 'status': 'sent', 'scheduled_date': '2024-01-15T06:31:09+00:00', 'content': 'Learning Progress Check-In', 'sent_date': None, 'user_name': None}] False\n"
     ]
    }
   ],
   "source": [
    "import datetime\n",
    "import pytz  # Asegúrate de tener instalado pytz\n",
    "\n",
    "current_date = datetime.datetime.now(datetime.timezone.utc)\n",
    "\n",
    "users = supabase.table(\"members_tb\").select(\"*\").execute().data\n",
    "\n",
    "for user in users:\n",
    "    user_email = user[\"email\"]\n",
    "\n",
    "    # Buscar el recordatorio de bienvenida\n",
    "    welcome_reminder = supabase.table(\"reminders_tb\").select(\"*\").eq(\"user_email\", user_email).eq(\"reminder_type\", \"Welcome\").execute().data\n",
    "\n",
    "    if welcome_reminder:\n",
    "        welcome_date = welcome_reminder[0][\"sent_date\"]\n",
    "        if welcome_date:\n",
    "            welcome_date = datetime.datetime.fromisoformat(welcome_date)\n",
    "            if not welcome_date.tzinfo:\n",
    "                welcome_date = pytz.utc.localize(welcome_date)\n",
    "\n",
    "            scheduled_date = welcome_date + datetime.timedelta(days=7)\n",
    "\n",
    "            # Buscar el recordatorio \"Learning Progress Check-In\"\n",
    "            progress_checkin = supabase.table(\"reminders_tb\").select(\"*\").eq(\"user_email\", user_email).eq(\"reminder_type\", \"Learning Progress Check-In\").execute().data\n",
    "            print(progress_checkin,current_date >= scheduled_date)\n",
    "            if not progress_checkin:\n",
    "                # Crear un registro para el nuevo recordatorio programado\n",
    "                new_recordatorio = {\n",
    "                    \"user_email\": user_email,\n",
    "                    \"user_name\":user_name,\n",
    "                    \"reminder_type\": \"Learning Progress Check-In\",\n",
    "                    \"status\": \"pending\",\n",
    "                    \"scheduled_date\": scheduled_date.isoformat(),\n",
    "                    \"content\": \"Learning Progress Check-In\",\n",
    "                    \"sent_date\": None\n",
    "                }\n",
    "                supabase.table(\"reminders_tb\").insert(new_recordatorio).execute()\n",
    "                print(f\"Se programó email 'Learning Progress Check-In' para {user_email}\")\n",
    "\n",
    "            elif progress_checkin[0][\"status\"] == \"pending\" and current_date >= scheduled_date:\n",
    "                # Enviar correo \"Learning Progress Check-In\"\n",
    "                with open(\"email_templates/Learning_check_in.html\", \"r\") as file:\n",
    "                    html_content = file.read()\n",
    "\n",
    "                    html_content = html_content.replace(\"[Nombre del Usuario]\", user_name)\n",
    "                    send_html_email(user_email, \"Learning Progress Check-In\", html_content)\n",
    "                # Actualizar el estado del recordatorio\n",
    "                supabase.table(\"reminders_tb\").update({\"status\": \"sent\", \"sent_date\": current_date.isoformat()}).eq(\"id\", progress_checkin[0][\"id\"]).execute()\n",
    "                print(f\"Se mando email 'Learning Progress Check-In' a {user_email}\")\n",
    "\n"
   ]
  },
  {
   "cell_type": "code",
   "execution_count": 2,
   "metadata": {},
   "outputs": [],
   "source": [
    "from database.supa import supabase_user,supabase_admin  # Importar los clientes de Supabase\n",
    "from supabase import create_client\n",
    "from decouple import config"
   ]
  },
  {
   "cell_type": "code",
   "execution_count": 8,
   "metadata": {},
   "outputs": [
    {
     "name": "stderr",
     "output_type": "stream",
     "text": [
      "2024-02-27 10:00:39,095:INFO - HTTP Request: GET https://hbvkehzhssiwpotkcxve.supabase.co/rest/v1/courses_tb?select=%2A \"HTTP/1.1 200 OK\"\n"
     ]
    },
    {
     "name": "stdout",
     "output_type": "stream",
     "text": [
      "Lean Analytics\n",
      "350bc862-7d86-4bde-8ace-c2026aae277f\n",
      "[{'0': '6c0bfedb-258a-4c77-9bad-b0e87c0d9c98/Lean Analytics'}]\n",
      "False\n",
      "Tec Course\n",
      "6b21009c-98f0-4782-9510-496d0a830320\n",
      "[{'0': '2e2aec92-0980-483e-9edd-05f187d10253/Tec_Course'}]\n",
      "False\n",
      "Commercial Real Estate for Beginners\n",
      "78be68bd-c4f0-4690-b104-f9c744c19a51\n",
      "[{'0': '11aafa3e-e3e9-43d3-aca9-f89388a66692/Commercial_Real_Estate_for_Beginners'}]\n",
      "False\n",
      "TC1028 Pensamiento computacional para ingenieria\n",
      "38c62c87-322d-463f-8ee3-5f7da57b8af0\n",
      "[{'0': '2e2aec92-0980-483e-9edd-05f187d10253/TC1028_Pensamiento_computacional_para_ingenieria'}]\n",
      "False\n",
      "Coursera: 1.- El Calculo - Modelo Lineal\n",
      "081f021c-b4a2-4010-9aa9-16d1ea93fb3f\n",
      "[{'0': '2e2aec92-0980-483e-9edd-05f187d10253/Coursera:_1.-_El_Calculo_-_Modelo_Lineal'}]\n",
      "False\n",
      "Enterprise AI\n",
      "03373e3f-6f19-465a-a76b-7b88e11135c1\n",
      "[{'0': '2f756050-f7f4-4764-a849-32bc7dea32ab/Enterprise_AI'}]\n",
      "False\n",
      "New York Life: Financial Advisor Development Program\n",
      "7bc9e9e7-f1d2-4967-ad27-fd1697885f0b\n",
      "[{'0': '47d455b9-760a-4d4a-b2bd-9046704a2141/New_York_Life:_Financial_Advisor_Development_Program'}]\n",
      "False\n",
      "Life Insurance 101: Understanding Policies and Planning\n",
      "f4367568-dcc2-4368-b808-e2495c5a0d38\n",
      "[{'0': '47d455b9-760a-4d4a-b2bd-9046704a2141/Life_Insurance_101:_Understanding_Policies_and_Planning'}]\n",
      "False\n",
      "TSAI CITY: Entrepreneur\n",
      "f7e5097b-5316-4058-a3e9-00c98774bea4\n",
      "[{'0': '11aafa3e-e3e9-43d3-aca9-f89388a66692/TSAI_CITY:_Entrepreneur'}]\n",
      "False\n",
      "INTEGRATED IT SERVICE MANAGEMENT ESSENTIALS\n",
      "547fec61-e5ee-450d-9e35-ac4f26b2b02d\n",
      "[{'0': '781ea14a-b753-4635-982c-a6e0d64aafb1/INTEGRATED_IT_SERVICE_MANAGEMENT_ESSENTIALS'}]\n",
      "False\n",
      "The Theory and Practice of Enterprise AI\n",
      "b2b44820-8cbf-4fe0-ab15-2f30aef3b7a6\n",
      "[{'0': '3c77273b-258f-4950-a5fb-874871f42d55/The_Theory_and_Practice_of_Enterprise_AI'}]\n",
      "False\n",
      "fisica basica con videos\n",
      "1f0319a2-0d35-4a77-b20e-a2b8bcedc28d\n",
      "[{'0': '2e2aec92-0980-483e-9edd-05f187d10253/fisica_basica_con_videos'}]\n",
      "False\n",
      "Agile Methodologies for Consumer Packaged Goods Excellence\n",
      "d41aa8ee-6b12-4129-9c4b-4a42d1cf4d9b\n",
      "[{'0': '77d9820d-f352-473c-9c98-3f9d5e607875/Agile_Methodologies_for_Consumer_Packaged_Goods_Excellence'}]\n",
      "False\n",
      "Entreprise AI\n",
      "35adb689-1f8d-495c-9b76-c39ebce1d9a5\n",
      "[{'0': 'a5909849-21d8-4e3b-a2f0-c2ebac9d165e/Entreprise_AI'}]\n",
      "False\n",
      "Física Básica con Atom 2.0 \n",
      "95f6d42d-3ead-4940-9097-3a9ef2f380e9\n",
      "[{'0': '2e2aec92-0980-483e-9edd-05f187d10253/Fisica_Basica_con_Atom_2.0_'}]\n",
      "False\n",
      "Fisica para todos \n",
      "ba86e360-577c-4145-baac-974611be0872\n",
      "[{'0': '2e2aec92-0980-483e-9edd-05f187d10253/Fisica_para_todos_'}]\n",
      "False\n",
      "Física Básica\n",
      "80603fc0-1f06-4489-a33a-6494ea9062e3\n",
      "[{'0': '2e2aec92-0980-483e-9edd-05f187d10253/Fisica_Basica'}]\n",
      "False\n",
      "Agile Consumer\n",
      "12986d4a-5004-4938-b791-48d47ed85b0b\n",
      "[{'0': '6c0bfedb-258a-4c77-9bad-b0e87c0d9c98/Agile_Consumer'}]\n",
      "False\n",
      "Fisica 121\n",
      "da21171c-5897-4ccd-8e60-254edf249d5b\n",
      "[{'0': '2e2aec92-0980-483e-9edd-05f187d10253/Fisica_121'}]\n",
      "False\n",
      "FM1021 Física I\n",
      "50ce9631-9fdb-4a93-92a0-79f6dd341e6e\n",
      "[{'0': 'bfb50bef-58e4-4a7b-8f86-2eabd76d8186/FM1021_Fisica_I'}]\n",
      "False\n",
      "Diplomado en Emprendimiento e Innovación\n",
      "20fc3ef8-adaa-43ae-8a2a-658f37a90853\n",
      "[{'0': 'e85708b0-9ef7-41dd-bff5-b271aef28103/Diplomado_en_Emprendimiento_e_Innovacion'}, {'1': 'e85708b0-9ef7-41dd-bff5-b271aef28103/2Diplomado_en_Emprendimiento_e_Innovacion'}]\n",
      "False\n",
      "Seller Academy\n",
      "73e5618f-e2c0-476e-87d3-43d352f14ee0\n",
      "[{'0': 'bd3b4cb9-b760-4a3a-9242-a15e4daedad7/Seller_Academy'}]\n",
      "False\n",
      "Lean Six Sigma\n",
      "0ac18238-dae1-465e-87a1-455588e1242b\n",
      "[{'0': '6c0bfedb-258a-4c77-9bad-b0e87c0d9c98/Lean_Six_Sigma'}, {'1': '6c0bfedb-258a-4c77-9bad-b0e87c0d9c98/2Lean_Six_Sigma'}, {'2': '6c0bfedb-258a-4c77-9bad-b0e87c0d9c98/3Lean_Six_Sigma'}]\n",
      "False\n",
      "Física 101\n",
      "a230d7d1-7239-4627-8190-1a33b686ae66\n",
      "[{'0': '2e2aec92-0980-483e-9edd-05f187d10253/Fisica_101'}]\n",
      "False\n",
      "ISO/IEC 27032 Lean Cybersecurity Manager\n",
      "192542f9-32f5-4cc7-ad29-8fb974986cd6\n",
      "[{'0': '6c0bfedb-258a-4c77-9bad-b0e87c0d9c98/ISO/IEC_27032_Lean_Cybersecurity_Manager'}]\n",
      "False\n",
      "ISO/IEC 27032 Lean Cybersecurity Manager\n",
      "940530a5-6503-4c57-b6c7-fa2f84158ba8\n",
      "[{'0': '6c0bfedb-258a-4c77-9bad-b0e87c0d9c98/ISO/IEC_27032_Lean_Cybersecurity_Manager'}, {'1': '6c0bfedb-258a-4c77-9bad-b0e87c0d9c98/2ISO/IEC_27032_Lean_Cybersecurity_Manager'}, {'2': '6c0bfedb-258a-4c77-9bad-b0e87c0d9c98/3ISO/IEC_27032_Lean_Cybersecurity_Manager'}]\n",
      "False\n",
      "Wized & Javascript\n",
      "7fadcb6f-5540-4b9d-b1fe-d1c2649e9aff\n",
      "[{'0': '6c0bfedb-258a-4c77-9bad-b0e87c0d9c98/Wized_&_Javascript'}]\n",
      "False\n",
      "Lean Six Sigma\n",
      "0c1685b8-9fa1-4abd-9691-12adb4b1e7fc\n",
      "[{'0': 'a7674179-c269-4446-a74d-a36b54ddada0/Lean_Six_Sigma'}, {'1': 'a7674179-c269-4446-a74d-a36b54ddada0/2Lean_Six_Sigma'}, {'2': 'a7674179-c269-4446-a74d-a36b54ddada0/3Lean_Six_Sigma'}]\n",
      "False\n",
      "ISO/IEC 27032 Lean Cybersecurity Manager\n",
      "6397f1d9-bfcb-41af-a5ba-3823803f02d5\n",
      "[{'0': 'acb8bad3-aca4-48f5-abba-a21aa1fb1484/ISO/IEC_27032_Lean_Cybersecurity_Manager'}, {'1': 'acb8bad3-aca4-48f5-abba-a21aa1fb1484/2ISO/IEC_27032_Lean_Cybersecurity_Manager'}, {'2': 'acb8bad3-aca4-48f5-abba-a21aa1fb1484/3ISO/IEC_27032_Lean_Cybersecurity_Manager'}]\n",
      "False\n",
      "Física Básica \n",
      "4c72b8a3-0798-4d72-abb1-54153d14ba22\n",
      "[{'0': '9e711aaf-859f-4a9f-9712-6f843f61168a/Fisica_Basica_'}]\n",
      "False\n"
     ]
    }
   ],
   "source": [
    "url_admin: str = config(\"SUPABASE_ADMIN_URL\")\n",
    "key_admin: str = config(\"SUPABASE_ADMIN_KEY\")\n",
    "\n",
    "supabase_admin_2 = create_client(supabase_url=url_admin,supabase_key= key_admin)\n",
    "admin_data = supabase_admin.table(\"courses_tb\").select(\"*\").execute()\n",
    "course_list=admin_data.data\n",
    "\n",
    "for course in course_list:\n",
    "    print(course[\"name\"])\n",
    "    print(course[\"id\"])\n",
    "    print(course[\"reference_files\"])\n",
    "    print(course[\"pdf_processed\"])"
   ]
  },
  {
   "cell_type": "code",
   "execution_count": null,
   "metadata": {},
   "outputs": [],
   "source": [
    "# Proyecto Usuario\n",
    "url_user: str = config(\"SUPABASE_USER_URL\")\n",
    "key_user: str = config(\"SUPABASE_USER_KEY\")\n",
    "supabase_user = create_client(supabase_url=url_user,supabase_key= key_user)\n",
    "\n",
    "\n",
    "response = supabase_user.table(\"responses_tb\").select(\"*\").eq(\"threadid\", \"4a37be7f-ce2c-4f19-aaaa-15f6d334a908\").execute().data[0]\n",
    "response"
   ]
  },
  {
   "cell_type": "markdown",
   "metadata": {},
   "source": [
    "# Talents"
   ]
  },
  {
   "cell_type": "code",
   "execution_count": 2,
   "metadata": {},
   "outputs": [
    {
     "name": "stderr",
     "output_type": "stream",
     "text": [
      "2024-05-08 11:06:04,918:INFO - HTTP Request: GET https://hhtrmdrpowaaxlydfwjn.supabase.co/rest/v1/members_tb?select=%2A \"HTTP/1.1 200 OK\"\n"
     ]
    }
   ],
   "source": [
    "from supabase import create_client\n",
    "from decouple import config\n",
    "\n",
    "\n",
    "\n",
    "from datetime import datetime, timedelta\n",
    "\n",
    "# Obtener la fecha y hora actuales\n",
    "now = datetime.now()\n",
    "\n",
    "# Calcular la fecha de hace una semana\n",
    "one_week_ago = now - timedelta(days=7)\n",
    "\n",
    "url_supabase = config('SUPABASE_USER_URL')\n",
    "key_supabase = config('SUPABASE_USER_KEY')\n",
    "supabase = create_client(url_supabase, key_supabase)\n",
    "\n",
    "members = supabase.table('members_tb').select(\"*\").execute().data"
   ]
  },
  {
   "cell_type": "code",
   "execution_count": 24,
   "metadata": {},
   "outputs": [
    {
     "name": "stdout",
     "output_type": "stream",
     "text": [
      "---------------------------------------\n",
      "ID: 69f3f1a3-626f-4541-bcb3-dc0155652b2f\n",
      "Name: Ricardo Cevada\n",
      "Username: RicardoNewYorkLife\n"
     ]
    },
    {
     "name": "stderr",
     "output_type": "stream",
     "text": [
      "2024-05-08 12:05:53,646:INFO - HTTP Request: GET https://hhtrmdrpowaaxlydfwjn.supabase.co/rest/v1/threads_tb?select=%2A&memberid=eq.69f3f1a3-626f-4541-bcb3-dc0155652b2f \"HTTP/1.1 200 OK\"\n"
     ]
    },
    {
     "name": "stdout",
     "output_type": "stream",
     "text": [
      "Threads fetched for member Ricardo Cevada: 19\n",
      "Error filtering recent threads for Ricardo Cevada: Invalid isoformat string: '2024-03-01T21:22:27.17284+00:00'\n",
      "Error updating talents for Ricardo Cevada: argument of type 'NoneType' is not iterable\n",
      "Ricardo Cevada tiene 19 threads en total.\n",
      "Ricardo Cevada ha creado 0 threads en la última semana.\n",
      "---------------------------------------\n",
      "---------------------------------------\n",
      "ID: c4418ff4-0730-4557-82da-a7ca4147da24\n",
      "Name: Ricardo Cevada\n",
      "Username: RicardoBainAcademy\n"
     ]
    },
    {
     "name": "stderr",
     "output_type": "stream",
     "text": [
      "2024-05-08 12:05:53,944:INFO - HTTP Request: GET https://hhtrmdrpowaaxlydfwjn.supabase.co/rest/v1/threads_tb?select=%2A&memberid=eq.c4418ff4-0730-4557-82da-a7ca4147da24 \"HTTP/1.1 200 OK\"\n",
      "2024-05-08 12:05:54,086:INFO - HTTP Request: GET https://hhtrmdrpowaaxlydfwjn.supabase.co/rest/v1/threads_tb?select=%2A&memberid=eq.f2871595-890f-46b3-9386-4cdc2942b4a3 \"HTTP/1.1 200 OK\"\n"
     ]
    },
    {
     "name": "stdout",
     "output_type": "stream",
     "text": [
      "Threads fetched for member Ricardo Cevada: 8\n",
      "Error filtering recent threads for Ricardo Cevada: Invalid isoformat string: '2024-05-01T17:08:57.98452+00:00'\n",
      "Error updating talents for Ricardo Cevada: argument of type 'NoneType' is not iterable\n",
      "Ricardo Cevada tiene 8 threads en total.\n",
      "Ricardo Cevada ha creado 0 threads en la última semana.\n",
      "---------------------------------------\n",
      "---------------------------------------\n",
      "ID: f2871595-890f-46b3-9386-4cdc2942b4a3\n",
      "Name: checho\n",
      "Username: Checho.jh\n",
      "Threads fetched for member checho: 0\n"
     ]
    },
    {
     "name": "stderr",
     "output_type": "stream",
     "text": [
      "2024-05-08 12:05:54,358:INFO - HTTP Request: PATCH https://hhtrmdrpowaaxlydfwjn.supabase.co/rest/v1/members_tb?id=eq.f2871595-890f-46b3-9386-4cdc2942b4a3 \"HTTP/1.1 200 OK\"\n",
      "2024-05-08 12:05:54,482:INFO - HTTP Request: GET https://hhtrmdrpowaaxlydfwjn.supabase.co/rest/v1/threads_tb?select=%2A&memberid=eq.a77e1210-2db7-443d-8a0f-785149bcdd30 \"HTTP/1.1 200 OK\"\n"
     ]
    },
    {
     "name": "stdout",
     "output_type": "stream",
     "text": [
      "data=[{'id': 'f2871595-890f-46b3-9386-4cdc2942b4a3', 'companyid': 'd54313a1-9c47-4d3d-b97a-1fdea82aef5d', 'username': 'Checho.jh', 'email': 'checho.jh9@gmail.com', 'name': 'checho', 'ai_insights': None, 'created_at': '2024-04-23T19:01:15.116393+00:00', 'talents': [], 'active': True, 'last_login': None, 'score': None, 'onboarding': False, 'member_group': None, 'mbti': None, 'aditional_instructions': None, 'profilepicture': None}] count=None\n",
      "Talents updated for checho: None\n",
      "checho tiene 0 threads en total.\n",
      "checho ha creado 0 threads en la última semana.\n",
      "---------------------------------------\n",
      "---------------------------------------\n",
      "ID: a77e1210-2db7-443d-8a0f-785149bcdd30\n",
      "Name: Skills Corporate\n",
      "Username: SkillsCorporate\n",
      "Threads fetched for member Skills Corporate: 3\n",
      "Error filtering recent threads for Skills Corporate: Invalid isoformat string: '2024-03-25T22:05:07.76844+00:00'\n"
     ]
    },
    {
     "name": "stderr",
     "output_type": "stream",
     "text": [
      "2024-05-08 12:05:54,600:INFO - HTTP Request: PATCH https://hhtrmdrpowaaxlydfwjn.supabase.co/rest/v1/members_tb?id=eq.a77e1210-2db7-443d-8a0f-785149bcdd30 \"HTTP/1.1 200 OK\"\n",
      "2024-05-08 12:05:54,721:INFO - HTTP Request: GET https://hhtrmdrpowaaxlydfwjn.supabase.co/rest/v1/threads_tb?select=%2A&memberid=eq.060733b4-f10e-45bf-95b6-2456c5baaa6a \"HTTP/1.1 200 OK\"\n"
     ]
    },
    {
     "name": "stdout",
     "output_type": "stream",
     "text": [
      "data=[{'id': 'a77e1210-2db7-443d-8a0f-785149bcdd30', 'companyid': 'a7674179-c269-4446-a74d-a36b54ddada0', 'username': 'SkillsCorporate', 'email': 'corporate@skills.tech', 'name': 'Skills Corporate', 'ai_insights': None, 'created_at': '2024-02-20T20:44:25.958685+00:00', 'talents': [], 'active': True, 'last_login': '2024-04-13T18:19:01.345+00:00', 'score': None, 'onboarding': None, 'member_group': None, 'mbti': None, 'aditional_instructions': None, 'profilepicture': None}] count=None\n",
      "Talents updated for Skills Corporate: None\n",
      "Skills Corporate tiene 3 threads en total.\n",
      "Skills Corporate ha creado 0 threads en la última semana.\n",
      "---------------------------------------\n",
      "---------------------------------------\n",
      "ID: 060733b4-f10e-45bf-95b6-2456c5baaa6a\n",
      "Name: Henry Muggia\n",
      "Username: henry.muggia@yale.edu\n",
      "Threads fetched for member Henry Muggia: 6\n",
      "Recent threads for Henry Muggia: 0\n",
      "Error updating talents for Henry Muggia: argument of type 'NoneType' is not iterable\n",
      "Henry Muggia tiene 6 threads en total.\n",
      "Henry Muggia ha creado 0 threads en la última semana.\n",
      "---------------------------------------\n",
      "---------------------------------------\n",
      "ID: 71cdfabd-e459-4ef2-a3c3-fbe0fca69a9f\n",
      "Name: checho\n",
      "Username: Checho\n"
     ]
    },
    {
     "name": "stderr",
     "output_type": "stream",
     "text": [
      "2024-05-08 12:05:54,996:INFO - HTTP Request: GET https://hhtrmdrpowaaxlydfwjn.supabase.co/rest/v1/threads_tb?select=%2A&memberid=eq.71cdfabd-e459-4ef2-a3c3-fbe0fca69a9f \"HTTP/1.1 200 OK\"\n",
      "2024-05-08 12:05:55,120:INFO - HTTP Request: PATCH https://hhtrmdrpowaaxlydfwjn.supabase.co/rest/v1/members_tb?id=eq.71cdfabd-e459-4ef2-a3c3-fbe0fca69a9f \"HTTP/1.1 200 OK\"\n"
     ]
    },
    {
     "name": "stdout",
     "output_type": "stream",
     "text": [
      "Threads fetched for member checho: 0\n",
      "data=[{'id': '71cdfabd-e459-4ef2-a3c3-fbe0fca69a9f', 'companyid': 'd54313a1-9c47-4d3d-b97a-1fdea82aef5d', 'username': 'Checho', 'email': 'jose@skills.tech', 'name': 'checho', 'ai_insights': None, 'created_at': '2024-03-21T22:41:33.209485+00:00', 'talents': [], 'active': True, 'last_login': None, 'score': None, 'onboarding': False, 'member_group': None, 'mbti': None, 'aditional_instructions': None, 'profilepicture': None}] count=None\n",
      "Talents updated for checho: None\n",
      "checho tiene 0 threads en total.\n",
      "checho ha creado 0 threads en la última semana.\n",
      "---------------------------------------\n",
      "---------------------------------------\n",
      "ID: d90b9def-997b-4b35-b387-964d35b40190\n",
      "Name: Elisa SD\n",
      "Username: elisasd\n"
     ]
    },
    {
     "name": "stderr",
     "output_type": "stream",
     "text": [
      "2024-05-08 12:05:55,243:INFO - HTTP Request: GET https://hhtrmdrpowaaxlydfwjn.supabase.co/rest/v1/threads_tb?select=%2A&memberid=eq.d90b9def-997b-4b35-b387-964d35b40190 \"HTTP/1.1 200 OK\"\n",
      "2024-05-08 12:05:55,379:INFO - HTTP Request: PATCH https://hhtrmdrpowaaxlydfwjn.supabase.co/rest/v1/members_tb?id=eq.d90b9def-997b-4b35-b387-964d35b40190 \"HTTP/1.1 200 OK\"\n"
     ]
    },
    {
     "name": "stdout",
     "output_type": "stream",
     "text": [
      "Threads fetched for member Elisa SD: 0\n",
      "data=[{'id': 'd90b9def-997b-4b35-b387-964d35b40190', 'companyid': 'd54313a1-9c47-4d3d-b97a-1fdea82aef5d', 'username': 'elisasd', 'email': 'elisasdbuy@gmail.com', 'name': 'Elisa SD', 'ai_insights': None, 'created_at': '2024-04-23T21:28:56.660995+00:00', 'talents': [], 'active': True, 'last_login': None, 'score': None, 'onboarding': False, 'member_group': None, 'mbti': None, 'aditional_instructions': None, 'profilepicture': None}] count=None\n",
      "Talents updated for Elisa SD: None\n",
      "Elisa SD tiene 0 threads en total.\n",
      "Elisa SD ha creado 0 threads en la última semana.\n",
      "---------------------------------------\n",
      "---------------------------------------\n",
      "ID: d3a10315-9b3e-465f-8366-64f68413bf3d\n",
      "Name: Skills Demo\n",
      "Username: SkillsDemo\n"
     ]
    },
    {
     "name": "stderr",
     "output_type": "stream",
     "text": [
      "2024-05-08 12:05:55,511:INFO - HTTP Request: GET https://hhtrmdrpowaaxlydfwjn.supabase.co/rest/v1/threads_tb?select=%2A&memberid=eq.d3a10315-9b3e-465f-8366-64f68413bf3d \"HTTP/1.1 200 OK\"\n",
      "2024-05-08 12:05:55,656:INFO - HTTP Request: PATCH https://hhtrmdrpowaaxlydfwjn.supabase.co/rest/v1/members_tb?id=eq.d3a10315-9b3e-465f-8366-64f68413bf3d \"HTTP/1.1 200 OK\"\n"
     ]
    },
    {
     "name": "stdout",
     "output_type": "stream",
     "text": [
      "Threads fetched for member Skills Demo: 0\n",
      "data=[{'id': 'd3a10315-9b3e-465f-8366-64f68413bf3d', 'companyid': 'a5909849-21d8-4e3b-a2f0-c2ebac9d165e', 'username': 'SkillsDemo', 'email': 'skills.demo@skills.tech', 'name': 'Skills Demo', 'ai_insights': None, 'created_at': '2024-02-15T16:56:24.325641+00:00', 'talents': [], 'active': True, 'last_login': None, 'score': 92, 'onboarding': None, 'member_group': None, 'mbti': None, 'aditional_instructions': None, 'profilepicture': None}] count=None\n",
      "Talents updated for Skills Demo: None\n",
      "Skills Demo tiene 0 threads en total.\n",
      "Skills Demo ha creado 0 threads en la última semana.\n",
      "---------------------------------------\n",
      "---------------------------------------\n",
      "ID: a7452fa0-55d5-4194-90f1-5e78c9b1d0c7\n",
      "Name: SkillsDemoIUV\n",
      "Username: DemoIUV\n"
     ]
    },
    {
     "name": "stderr",
     "output_type": "stream",
     "text": [
      "2024-05-08 12:05:55,779:INFO - HTTP Request: GET https://hhtrmdrpowaaxlydfwjn.supabase.co/rest/v1/threads_tb?select=%2A&memberid=eq.a7452fa0-55d5-4194-90f1-5e78c9b1d0c7 \"HTTP/1.1 200 OK\"\n",
      "2024-05-08 12:05:55,943:INFO - HTTP Request: PATCH https://hhtrmdrpowaaxlydfwjn.supabase.co/rest/v1/members_tb?id=eq.a7452fa0-55d5-4194-90f1-5e78c9b1d0c7 \"HTTP/1.1 200 OK\"\n"
     ]
    },
    {
     "name": "stdout",
     "output_type": "stream",
     "text": [
      "Threads fetched for member SkillsDemoIUV: 0\n",
      "data=[{'id': 'a7452fa0-55d5-4194-90f1-5e78c9b1d0c7', 'companyid': 'e85708b0-9ef7-41dd-bff5-b271aef28103', 'username': 'DemoIUV', 'email': 'skills.demo@iuv.edu.mx', 'name': 'SkillsDemoIUV', 'ai_insights': None, 'created_at': '2024-02-09T17:26:35.68844+00:00', 'talents': [[5, 6, 16]], 'active': True, 'last_login': None, 'score': None, 'onboarding': None, 'member_group': None, 'mbti': None, 'aditional_instructions': None, 'profilepicture': None}] count=None\n",
      "Talents updated for SkillsDemoIUV: [5, 6, 16]\n",
      "SkillsDemoIUV tiene 0 threads en total.\n",
      "SkillsDemoIUV ha creado 0 threads en la última semana.\n",
      "---------------------------------------\n",
      "---------------------------------------\n",
      "ID: b3f217c9-bfae-49ec-a691-2725207b763f\n",
      "Name: Andres Huerta\n",
      "Username: andreshuerta\n"
     ]
    },
    {
     "name": "stderr",
     "output_type": "stream",
     "text": [
      "2024-05-08 12:05:56,060:INFO - HTTP Request: GET https://hhtrmdrpowaaxlydfwjn.supabase.co/rest/v1/threads_tb?select=%2A&memberid=eq.b3f217c9-bfae-49ec-a691-2725207b763f \"HTTP/1.1 200 OK\"\n",
      "2024-05-08 12:05:56,187:INFO - HTTP Request: PATCH https://hhtrmdrpowaaxlydfwjn.supabase.co/rest/v1/members_tb?id=eq.b3f217c9-bfae-49ec-a691-2725207b763f \"HTTP/1.1 200 OK\"\n"
     ]
    },
    {
     "name": "stdout",
     "output_type": "stream",
     "text": [
      "Threads fetched for member Andres Huerta: 0\n",
      "data=[{'id': 'b3f217c9-bfae-49ec-a691-2725207b763f', 'companyid': '77d9820d-f352-473c-9c98-3f9d5e607875', 'username': 'andreshuerta', 'email': 'andres.huerta@bain.com', 'name': 'Andres Huerta', 'ai_insights': None, 'created_at': '2024-03-02T00:07:53.141354+00:00', 'talents': [], 'active': True, 'last_login': '2024-03-02T00:10:06.444+00:00', 'score': None, 'onboarding': None, 'member_group': None, 'mbti': None, 'aditional_instructions': None, 'profilepicture': None}] count=None\n",
      "Talents updated for Andres Huerta: None\n",
      "Andres Huerta tiene 0 threads en total.\n",
      "Andres Huerta ha creado 0 threads en la última semana.\n",
      "---------------------------------------\n",
      "---------------------------------------\n",
      "ID: ed8d7ed0-ec30-4cb4-bd2c-d41242589dbf\n",
      "Name: Arturo Ayala\n",
      "Username: Ardaga\n"
     ]
    },
    {
     "name": "stderr",
     "output_type": "stream",
     "text": [
      "2024-05-08 12:05:56,312:INFO - HTTP Request: GET https://hhtrmdrpowaaxlydfwjn.supabase.co/rest/v1/threads_tb?select=%2A&memberid=eq.ed8d7ed0-ec30-4cb4-bd2c-d41242589dbf \"HTTP/1.1 200 OK\"\n",
      "2024-05-08 12:05:56,442:INFO - HTTP Request: PATCH https://hhtrmdrpowaaxlydfwjn.supabase.co/rest/v1/members_tb?id=eq.ed8d7ed0-ec30-4cb4-bd2c-d41242589dbf \"HTTP/1.1 200 OK\"\n"
     ]
    },
    {
     "name": "stdout",
     "output_type": "stream",
     "text": [
      "Threads fetched for member Arturo Ayala: 2\n",
      "Recent threads for Arturo Ayala: 0\n",
      "data=[{'id': 'ed8d7ed0-ec30-4cb4-bd2c-d41242589dbf', 'companyid': '2e2aec92-0980-483e-9edd-05f187d10253', 'username': 'Ardaga', 'email': 'arturo.a@tec.mx', 'name': 'Arturo Ayala', 'ai_insights': None, 'created_at': '2024-02-09T00:20:24.782329+00:00', 'talents': [[18, 14, 11]], 'active': True, 'last_login': '2024-02-16T22:49:26.241+00:00', 'score': None, 'onboarding': None, 'member_group': None, 'mbti': None, 'aditional_instructions': None, 'profilepicture': None}] count=None\n",
      "Talents updated for Arturo Ayala: [18, 14, 11]\n",
      "Arturo Ayala tiene 2 threads en total.\n",
      "Arturo Ayala ha creado 0 threads en la última semana.\n",
      "---------------------------------------\n",
      "---------------------------------------\n",
      "ID: be449189-2b92-4911-9fe5-a69fbd0d4741\n",
      "Name: Zuriel Cevada Anaya\n",
      "Username: ZurielCevada\n"
     ]
    },
    {
     "name": "stderr",
     "output_type": "stream",
     "text": [
      "2024-05-08 12:05:56,564:INFO - HTTP Request: GET https://hhtrmdrpowaaxlydfwjn.supabase.co/rest/v1/threads_tb?select=%2A&memberid=eq.be449189-2b92-4911-9fe5-a69fbd0d4741 \"HTTP/1.1 200 OK\"\n",
      "2024-05-08 12:05:56,699:INFO - HTTP Request: PATCH https://hhtrmdrpowaaxlydfwjn.supabase.co/rest/v1/members_tb?id=eq.be449189-2b92-4911-9fe5-a69fbd0d4741 \"HTTP/1.1 200 OK\"\n"
     ]
    },
    {
     "name": "stdout",
     "output_type": "stream",
     "text": [
      "Threads fetched for member Zuriel Cevada Anaya: 0\n",
      "data=[{'id': 'be449189-2b92-4911-9fe5-a69fbd0d4741', 'companyid': '47d455b9-760a-4d4a-b2bd-9046704a2141', 'username': 'ZurielCevada', 'email': 'zurielnyl@newyotklife.com', 'name': 'Zuriel Cevada Anaya', 'ai_insights': None, 'created_at': '2024-02-02T02:49:56.540337+00:00', 'talents': [], 'active': True, 'last_login': None, 'score': None, 'onboarding': None, 'member_group': None, 'mbti': None, 'aditional_instructions': None, 'profilepicture': None}] count=None\n",
      "Talents updated for Zuriel Cevada Anaya: None\n",
      "Zuriel Cevada Anaya tiene 0 threads en total.\n",
      "Zuriel Cevada Anaya ha creado 0 threads en la última semana.\n",
      "---------------------------------------\n",
      "---------------------------------------\n",
      "ID: 3c43f4fe-18a0-4d77-82c1-1d7368c93135\n",
      "Name: Fer Dévora\n",
      "Username: Fer\n"
     ]
    },
    {
     "name": "stderr",
     "output_type": "stream",
     "text": [
      "2024-05-08 12:05:56,849:INFO - HTTP Request: GET https://hhtrmdrpowaaxlydfwjn.supabase.co/rest/v1/threads_tb?select=%2A&memberid=eq.3c43f4fe-18a0-4d77-82c1-1d7368c93135 \"HTTP/1.1 200 OK\"\n",
      "2024-05-08 12:05:56,971:INFO - HTTP Request: PATCH https://hhtrmdrpowaaxlydfwjn.supabase.co/rest/v1/members_tb?id=eq.3c43f4fe-18a0-4d77-82c1-1d7368c93135 \"HTTP/1.1 200 OK\"\n"
     ]
    },
    {
     "name": "stdout",
     "output_type": "stream",
     "text": [
      "Threads fetched for member Fer Dévora: 2\n",
      "Recent threads for Fer Dévora: 2\n",
      "data=[{'id': '3c43f4fe-18a0-4d77-82c1-1d7368c93135', 'companyid': '48ac1d03-fd2b-4041-9d49-ab5597552707', 'username': 'Fer', 'email': 'fer@hyperdigital.mx', 'name': 'Fer Dévora', 'ai_insights': None, 'created_at': '2024-05-03T18:44:08.557642+00:00', 'talents': [[1, 6, 11, 21, 13, 2, 8, 10, 2, 2]], 'active': True, 'last_login': '2024-05-03T19:43:53.826+00:00', 'score': 72, 'onboarding': False, 'member_group': None, 'mbti': None, 'aditional_instructions': None, 'profilepicture': None}] count=None\n",
      "Talents updated for Fer Dévora: [1, 6, 11, 21, 13, 2, 8, 10, '2', '2']\n",
      "Fer Dévora tiene 2 threads en total.\n",
      "Fer Dévora ha creado 2 threads en la última semana.\n",
      "---------------------------------------\n",
      "---------------------------------------\n",
      "ID: 1a0d0312-8fe8-473b-a132-a4c3d2b620ed\n",
      "Name: Zuriel Demo\n",
      "Username: Zuriel_IUV\n"
     ]
    },
    {
     "name": "stderr",
     "output_type": "stream",
     "text": [
      "2024-05-08 12:05:57,115:INFO - HTTP Request: GET https://hhtrmdrpowaaxlydfwjn.supabase.co/rest/v1/threads_tb?select=%2A&memberid=eq.1a0d0312-8fe8-473b-a132-a4c3d2b620ed \"HTTP/1.1 200 OK\"\n",
      "2024-05-08 12:05:57,255:INFO - HTTP Request: GET https://hhtrmdrpowaaxlydfwjn.supabase.co/rest/v1/threads_tb?select=%2A&memberid=eq.133806ac-75d4-410a-8562-e7a22805f17f \"HTTP/1.1 200 OK\"\n"
     ]
    },
    {
     "name": "stdout",
     "output_type": "stream",
     "text": [
      "Threads fetched for member Zuriel Demo: 6\n",
      "Recent threads for Zuriel Demo: 0\n",
      "Error updating talents for Zuriel Demo: argument of type 'NoneType' is not iterable\n",
      "Zuriel Demo tiene 6 threads en total.\n",
      "Zuriel Demo ha creado 0 threads en la última semana.\n",
      "---------------------------------------\n",
      "---------------------------------------\n",
      "ID: 133806ac-75d4-410a-8562-e7a22805f17f\n",
      "Name: Zuriel Trainer\n",
      "Username: Zuriel demo trainer\n",
      "Threads fetched for member Zuriel Trainer: 0\n"
     ]
    },
    {
     "name": "stderr",
     "output_type": "stream",
     "text": [
      "2024-05-08 12:05:57,412:INFO - HTTP Request: PATCH https://hhtrmdrpowaaxlydfwjn.supabase.co/rest/v1/members_tb?id=eq.133806ac-75d4-410a-8562-e7a22805f17f \"HTTP/1.1 200 OK\"\n",
      "2024-05-08 12:05:57,540:INFO - HTTP Request: GET https://hhtrmdrpowaaxlydfwjn.supabase.co/rest/v1/threads_tb?select=%2A&memberid=eq.688974d8-97d9-4871-8947-f985b35f3123 \"HTTP/1.1 200 OK\"\n"
     ]
    },
    {
     "name": "stdout",
     "output_type": "stream",
     "text": [
      "data=[{'id': '133806ac-75d4-410a-8562-e7a22805f17f', 'companyid': 'acb8bad3-aca4-48f5-abba-a21aa1fb1484', 'username': 'Zuriel demo trainer', 'email': 'demotraining_zuriel@skills.tech', 'name': 'Zuriel Trainer', 'ai_insights': None, 'created_at': '2024-02-22T17:20:20.651494+00:00', 'talents': [], 'active': True, 'last_login': None, 'score': None, 'onboarding': None, 'member_group': None, 'mbti': None, 'aditional_instructions': None, 'profilepicture': None}] count=None\n",
      "Talents updated for Zuriel Trainer: None\n",
      "Zuriel Trainer tiene 0 threads en total.\n",
      "Zuriel Trainer ha creado 0 threads en la última semana.\n",
      "---------------------------------------\n",
      "---------------------------------------\n",
      "ID: 688974d8-97d9-4871-8947-f985b35f3123\n",
      "Name: RicardoCevada\n",
      "Username: Ricardo\n",
      "Threads fetched for member RicardoCevada: 1\n",
      "Recent threads for RicardoCevada: 0\n"
     ]
    },
    {
     "name": "stderr",
     "output_type": "stream",
     "text": [
      "2024-05-08 12:05:57,660:INFO - HTTP Request: PATCH https://hhtrmdrpowaaxlydfwjn.supabase.co/rest/v1/members_tb?id=eq.688974d8-97d9-4871-8947-f985b35f3123 \"HTTP/1.1 200 OK\"\n",
      "2024-05-08 12:05:57,788:INFO - HTTP Request: GET https://hhtrmdrpowaaxlydfwjn.supabase.co/rest/v1/threads_tb?select=%2A&memberid=eq.a8c47929-5bfc-410a-ad61-cf3e5d0ef0f1 \"HTTP/1.1 200 OK\"\n"
     ]
    },
    {
     "name": "stdout",
     "output_type": "stream",
     "text": [
      "data=[{'id': '688974d8-97d9-4871-8947-f985b35f3123', 'companyid': '6c0bfedb-258a-4c77-9bad-b0e87c0d9c98', 'username': 'Ricardo', 'email': 'ricardo@skills.tech', 'name': 'RicardoCevada', 'ai_insights': None, 'created_at': '2024-02-15T17:48:00.681354+00:00', 'talents': [[5, 4, 19, 13]], 'active': True, 'last_login': '2024-05-01T17:04:58.27+00:00', 'score': 71, 'onboarding': None, 'member_group': None, 'mbti': None, 'aditional_instructions': None, 'profilepicture': None}] count=None\n",
      "Talents updated for RicardoCevada: [5, 4, 19, 13]\n",
      "RicardoCevada tiene 1 threads en total.\n",
      "RicardoCevada ha creado 0 threads en la última semana.\n",
      "---------------------------------------\n",
      "---------------------------------------\n",
      "ID: a8c47929-5bfc-410a-ad61-cf3e5d0ef0f1\n",
      "Name: Y Combinator\n",
      "Username: YC\n",
      "Threads fetched for member Y Combinator: 1\n",
      "Recent threads for Y Combinator: 0\n"
     ]
    },
    {
     "name": "stderr",
     "output_type": "stream",
     "text": [
      "2024-05-08 12:05:57,929:INFO - HTTP Request: PATCH https://hhtrmdrpowaaxlydfwjn.supabase.co/rest/v1/members_tb?id=eq.a8c47929-5bfc-410a-ad61-cf3e5d0ef0f1 \"HTTP/1.1 200 OK\"\n",
      "2024-05-08 12:05:58,057:INFO - HTTP Request: GET https://hhtrmdrpowaaxlydfwjn.supabase.co/rest/v1/threads_tb?select=%2A&memberid=eq.e2b7150b-ab6f-436c-af69-49d3849e1b30 \"HTTP/1.1 200 OK\"\n"
     ]
    },
    {
     "name": "stdout",
     "output_type": "stream",
     "text": [
      "data=[{'id': 'a8c47929-5bfc-410a-ad61-cf3e5d0ef0f1', 'companyid': 'a7674179-c269-4446-a74d-a36b54ddada0', 'username': 'YC', 'email': 'yc.demo@skills.tech', 'name': 'Y Combinator', 'ai_insights': None, 'created_at': '2024-02-22T02:45:16.764041+00:00', 'talents': [], 'active': True, 'last_login': '2024-02-26T18:25:53.5+00:00', 'score': None, 'onboarding': None, 'member_group': None, 'mbti': None, 'aditional_instructions': None, 'profilepicture': None}] count=None\n",
      "Talents updated for Y Combinator: None\n",
      "Y Combinator tiene 1 threads en total.\n",
      "Y Combinator ha creado 0 threads en la última semana.\n",
      "---------------------------------------\n",
      "---------------------------------------\n",
      "ID: e2b7150b-ab6f-436c-af69-49d3849e1b30\n",
      "Name: Zuriel Cevada\n",
      "Username: ZurielAnaya\n",
      "Threads fetched for member Zuriel Cevada: 4\n",
      "Recent threads for Zuriel Cevada: 0\n"
     ]
    },
    {
     "name": "stderr",
     "output_type": "stream",
     "text": [
      "2024-05-08 12:05:58,193:INFO - HTTP Request: PATCH https://hhtrmdrpowaaxlydfwjn.supabase.co/rest/v1/members_tb?id=eq.e2b7150b-ab6f-436c-af69-49d3849e1b30 \"HTTP/1.1 200 OK\"\n",
      "2024-05-08 12:05:58,326:INFO - HTTP Request: GET https://hhtrmdrpowaaxlydfwjn.supabase.co/rest/v1/threads_tb?select=%2A&memberid=eq.691a8eaa-4b29-4765-bf60-95b9adfaa043 \"HTTP/1.1 200 OK\"\n"
     ]
    },
    {
     "name": "stdout",
     "output_type": "stream",
     "text": [
      "data=[{'id': 'e2b7150b-ab6f-436c-af69-49d3849e1b30', 'companyid': '6c0bfedb-258a-4c77-9bad-b0e87c0d9c98', 'username': 'ZurielAnaya', 'email': 'zurielanaya@skills.tech', 'name': 'Zuriel Cevada', 'ai_insights': None, 'created_at': '2024-02-16T19:07:02.096413+00:00', 'talents': [], 'active': True, 'last_login': '2024-02-19T15:54:36.521+00:00', 'score': 64, 'onboarding': None, 'member_group': None, 'mbti': None, 'aditional_instructions': None, 'profilepicture': None}] count=None\n",
      "Talents updated for Zuriel Cevada: None\n",
      "Zuriel Cevada tiene 4 threads en total.\n",
      "Zuriel Cevada ha creado 0 threads en la última semana.\n",
      "---------------------------------------\n",
      "---------------------------------------\n",
      "ID: 691a8eaa-4b29-4765-bf60-95b9adfaa043\n",
      "Name: Skills Demo\n",
      "Username: SkillsDemo\n",
      "Threads fetched for member Skills Demo: 5\n",
      "Recent threads for Skills Demo: 0\n"
     ]
    },
    {
     "name": "stderr",
     "output_type": "stream",
     "text": [
      "2024-05-08 12:05:58,453:INFO - HTTP Request: PATCH https://hhtrmdrpowaaxlydfwjn.supabase.co/rest/v1/members_tb?id=eq.691a8eaa-4b29-4765-bf60-95b9adfaa043 \"HTTP/1.1 200 OK\"\n",
      "2024-05-08 12:05:58,580:INFO - HTTP Request: GET https://hhtrmdrpowaaxlydfwjn.supabase.co/rest/v1/threads_tb?select=%2A&memberid=eq.55ced7bd-59fd-4ec2-a930-a1e6cd33495b \"HTTP/1.1 200 OK\"\n"
     ]
    },
    {
     "name": "stdout",
     "output_type": "stream",
     "text": [
      "data=[{'id': '691a8eaa-4b29-4765-bf60-95b9adfaa043', 'companyid': 'bfb50bef-58e4-4a7b-8f86-2eabd76d8186', 'username': 'SkillsDemo', 'email': 'skills.demo@udem.edu.mx', 'name': 'Skills Demo', 'ai_insights': None, 'created_at': '2024-02-08T18:34:08.255214+00:00', 'talents': [], 'active': True, 'last_login': '2024-04-30T19:34:25.811+00:00', 'score': None, 'onboarding': None, 'member_group': None, 'mbti': None, 'aditional_instructions': None, 'profilepicture': None}] count=None\n",
      "Talents updated for Skills Demo: None\n",
      "Skills Demo tiene 5 threads en total.\n",
      "Skills Demo ha creado 0 threads en la última semana.\n",
      "---------------------------------------\n",
      "---------------------------------------\n",
      "ID: 55ced7bd-59fd-4ec2-a930-a1e6cd33495b\n",
      "Name: Alamo\n",
      "Username: Alamo\n",
      "Threads fetched for member Alamo: 5\n",
      "Error filtering recent threads for Alamo: Invalid isoformat string: '2024-03-02T01:39:00.04627+00:00'\n"
     ]
    },
    {
     "name": "stderr",
     "output_type": "stream",
     "text": [
      "2024-05-08 12:05:58,704:INFO - HTTP Request: PATCH https://hhtrmdrpowaaxlydfwjn.supabase.co/rest/v1/members_tb?id=eq.55ced7bd-59fd-4ec2-a930-a1e6cd33495b \"HTTP/1.1 200 OK\"\n",
      "2024-05-08 12:05:58,839:INFO - HTTP Request: GET https://hhtrmdrpowaaxlydfwjn.supabase.co/rest/v1/threads_tb?select=%2A&memberid=eq.61e3500c-e18f-4908-b2bc-deeec1dfb14f \"HTTP/1.1 200 OK\"\n"
     ]
    },
    {
     "name": "stdout",
     "output_type": "stream",
     "text": [
      "data=[{'id': '55ced7bd-59fd-4ec2-a930-a1e6cd33495b', 'companyid': 'a7674179-c269-4446-a74d-a36b54ddada0', 'username': 'Alamo', 'email': 'democorp_alamo@skills.tech', 'name': 'Alamo', 'ai_insights': None, 'created_at': '2024-03-02T01:37:14.160745+00:00', 'talents': [], 'active': True, 'last_login': '2024-03-05T00:06:20.657+00:00', 'score': None, 'onboarding': None, 'member_group': None, 'mbti': None, 'aditional_instructions': None, 'profilepicture': None}] count=None\n",
      "Talents updated for Alamo: None\n",
      "Alamo tiene 5 threads en total.\n",
      "Alamo ha creado 0 threads en la última semana.\n",
      "---------------------------------------\n",
      "---------------------------------------\n",
      "ID: 61e3500c-e18f-4908-b2bc-deeec1dfb14f\n",
      "Name: Tyrone Sgambati\n",
      "Username: tironesr\n",
      "Threads fetched for member Tyrone Sgambati: 0\n"
     ]
    },
    {
     "name": "stderr",
     "output_type": "stream",
     "text": [
      "2024-05-08 12:05:58,964:INFO - HTTP Request: PATCH https://hhtrmdrpowaaxlydfwjn.supabase.co/rest/v1/members_tb?id=eq.61e3500c-e18f-4908-b2bc-deeec1dfb14f \"HTTP/1.1 200 OK\"\n",
      "2024-05-08 12:05:59,081:INFO - HTTP Request: GET https://hhtrmdrpowaaxlydfwjn.supabase.co/rest/v1/threads_tb?select=%2A&memberid=eq.af9ba17c-6d9f-4915-9e2c-8c51c7f65c92 \"HTTP/1.1 200 OK\"\n"
     ]
    },
    {
     "name": "stdout",
     "output_type": "stream",
     "text": [
      "data=[{'id': '61e3500c-e18f-4908-b2bc-deeec1dfb14f', 'companyid': 'd54313a1-9c47-4d3d-b97a-1fdea82aef5d', 'username': 'tironesr', 'email': 'tironesr@gmail.com', 'name': 'Tyrone Sgambati', 'ai_insights': None, 'created_at': '2024-04-02T22:52:42.371235+00:00', 'talents': [], 'active': True, 'last_login': '2024-04-02T22:54:37.301+00:00', 'score': None, 'onboarding': False, 'member_group': None, 'mbti': None, 'aditional_instructions': None, 'profilepicture': None}] count=None\n",
      "Talents updated for Tyrone Sgambati: None\n",
      "Tyrone Sgambati tiene 0 threads en total.\n",
      "Tyrone Sgambati ha creado 0 threads en la última semana.\n",
      "---------------------------------------\n",
      "---------------------------------------\n",
      "ID: af9ba17c-6d9f-4915-9e2c-8c51c7f65c92\n",
      "Name: Anita\n",
      "Username: Anita\n",
      "Threads fetched for member Anita: 1\n",
      "Recent threads for Anita: 0\n"
     ]
    },
    {
     "name": "stderr",
     "output_type": "stream",
     "text": [
      "2024-05-08 12:05:59,202:INFO - HTTP Request: PATCH https://hhtrmdrpowaaxlydfwjn.supabase.co/rest/v1/members_tb?id=eq.af9ba17c-6d9f-4915-9e2c-8c51c7f65c92 \"HTTP/1.1 200 OK\"\n"
     ]
    },
    {
     "name": "stdout",
     "output_type": "stream",
     "text": [
      "data=[{'id': 'af9ba17c-6d9f-4915-9e2c-8c51c7f65c92', 'companyid': 'a7674179-c269-4446-a74d-a36b54ddada0', 'username': 'Anita', 'email': 'democorp_anita@skills.tech', 'name': 'Anita', 'ai_insights': None, 'created_at': '2024-02-21T19:58:21.099737+00:00', 'talents': [], 'active': True, 'last_login': '2024-03-02T05:01:11.399+00:00', 'score': None, 'onboarding': None, 'member_group': None, 'mbti': None, 'aditional_instructions': None, 'profilepicture': None}] count=None\n",
      "Talents updated for Anita: None\n",
      "Anita tiene 1 threads en total.\n",
      "Anita ha creado 0 threads en la última semana.\n",
      "---------------------------------------\n",
      "---------------------------------------\n",
      "ID: 447a4839-85b7-4bf5-8076-11ed09759706\n",
      "Name: Walmart Demo\n",
      "Username: Walmart_Demo\n"
     ]
    },
    {
     "name": "stderr",
     "output_type": "stream",
     "text": [
      "2024-05-08 12:05:59,444:INFO - HTTP Request: GET https://hhtrmdrpowaaxlydfwjn.supabase.co/rest/v1/threads_tb?select=%2A&memberid=eq.447a4839-85b7-4bf5-8076-11ed09759706 \"HTTP/1.1 200 OK\"\n",
      "2024-05-08 12:05:59,577:INFO - HTTP Request: PATCH https://hhtrmdrpowaaxlydfwjn.supabase.co/rest/v1/members_tb?id=eq.447a4839-85b7-4bf5-8076-11ed09759706 \"HTTP/1.1 200 OK\"\n"
     ]
    },
    {
     "name": "stdout",
     "output_type": "stream",
     "text": [
      "Threads fetched for member Walmart Demo: 40\n",
      "Error filtering recent threads for Walmart Demo: Invalid isoformat string: '2024-02-22T16:51:34.86476+00:00'\n",
      "data=[{'id': '447a4839-85b7-4bf5-8076-11ed09759706', 'companyid': 'bd3b4cb9-b760-4a3a-9242-a15e4daedad7', 'username': 'Walmart_Demo', 'email': 'skills.demo@walmart.com', 'name': 'Walmart Demo', 'ai_insights': None, 'created_at': '2024-02-13T00:40:39.608103+00:00', 'talents': [[5, 6, 16, 4, 1, 1, 1]], 'active': True, 'last_login': '2024-04-25T17:29:59.018+00:00', 'score': None, 'onboarding': None, 'member_group': None, 'mbti': None, 'aditional_instructions': None, 'profilepicture': None}] count=None\n",
      "Talents updated for Walmart Demo: [5, 6, 16, 4, '1', '1', 1]\n",
      "Walmart Demo tiene 40 threads en total.\n",
      "Walmart Demo ha creado 0 threads en la última semana.\n",
      "---------------------------------------\n",
      "---------------------------------------\n",
      "ID: 00c144ad-4536-4846-b3df-cc9839181438\n",
      "Name: Michael Molinaro\n",
      "Username: michaelmolinaro\n"
     ]
    },
    {
     "name": "stderr",
     "output_type": "stream",
     "text": [
      "2024-05-08 12:05:59,712:INFO - HTTP Request: GET https://hhtrmdrpowaaxlydfwjn.supabase.co/rest/v1/threads_tb?select=%2A&memberid=eq.00c144ad-4536-4846-b3df-cc9839181438 \"HTTP/1.1 200 OK\"\n",
      "2024-05-08 12:05:59,909:INFO - HTTP Request: GET https://hhtrmdrpowaaxlydfwjn.supabase.co/rest/v1/threads_tb?select=%2A&memberid=eq.8b013804-faa6-426e-bfcc-43227f58e3c8 \"HTTP/1.1 200 OK\"\n"
     ]
    },
    {
     "name": "stdout",
     "output_type": "stream",
     "text": [
      "Threads fetched for member Michael Molinaro: 7\n",
      "Recent threads for Michael Molinaro: 0\n",
      "Error updating talents for Michael Molinaro: argument of type 'NoneType' is not iterable\n",
      "Michael Molinaro tiene 7 threads en total.\n",
      "Michael Molinaro ha creado 0 threads en la última semana.\n",
      "---------------------------------------\n",
      "---------------------------------------\n",
      "ID: 8b013804-faa6-426e-bfcc-43227f58e3c8\n",
      "Name: Ian Vazquez\n",
      "Username: ian333\n",
      "Threads fetched for member Ian Vazquez: 65\n",
      "Error filtering recent threads for Ian Vazquez: Invalid isoformat string: '2024-04-02T11:38:55.03252+00:00'\n"
     ]
    },
    {
     "name": "stderr",
     "output_type": "stream",
     "text": [
      "2024-05-08 12:06:00,050:INFO - HTTP Request: PATCH https://hhtrmdrpowaaxlydfwjn.supabase.co/rest/v1/members_tb?id=eq.8b013804-faa6-426e-bfcc-43227f58e3c8 \"HTTP/1.1 200 OK\"\n",
      "2024-05-08 12:06:00,169:INFO - HTTP Request: GET https://hhtrmdrpowaaxlydfwjn.supabase.co/rest/v1/threads_tb?select=%2A&memberid=eq.052ddb99-1c22-46bb-b495-0a899f7de8ca \"HTTP/1.1 200 OK\"\n"
     ]
    },
    {
     "name": "stdout",
     "output_type": "stream",
     "text": [
      "data=[{'id': '8b013804-faa6-426e-bfcc-43227f58e3c8', 'companyid': '6c0bfedb-258a-4c77-9bad-b0e87c0d9c98', 'username': 'ian333', 'email': 'sebastian@skills.tech', 'name': 'Ian Vazquez', 'ai_insights': None, 'created_at': '2024-01-24T02:18:13.229104+00:00', 'talents': [[2, 4, 19, 1, 1, 1]], 'active': True, 'last_login': '2024-04-25T21:49:58.599+00:00', 'score': 68, 'onboarding': None, 'member_group': None, 'mbti': None, 'aditional_instructions': None, 'profilepicture': None}] count=None\n",
      "Talents updated for Ian Vazquez: [2, 4, 19, '1', '1', 1]\n",
      "Ian Vazquez tiene 65 threads en total.\n",
      "Ian Vazquez ha creado 0 threads en la última semana.\n",
      "---------------------------------------\n",
      "---------------------------------------\n",
      "ID: 052ddb99-1c22-46bb-b495-0a899f7de8ca\n",
      "Name: checho\n",
      "Username: JMHG\n",
      "Threads fetched for member checho: 11\n",
      "Recent threads for checho: 0\n"
     ]
    },
    {
     "name": "stderr",
     "output_type": "stream",
     "text": [
      "2024-05-08 12:06:00,286:INFO - HTTP Request: PATCH https://hhtrmdrpowaaxlydfwjn.supabase.co/rest/v1/members_tb?id=eq.052ddb99-1c22-46bb-b495-0a899f7de8ca \"HTTP/1.1 200 OK\"\n",
      "2024-05-08 12:06:00,454:INFO - HTTP Request: GET https://hhtrmdrpowaaxlydfwjn.supabase.co/rest/v1/threads_tb?select=%2A&memberid=eq.22aae84e-0262-4b9d-8b18-d60e10b1f042 \"HTTP/1.1 200 OK\"\n"
     ]
    },
    {
     "name": "stdout",
     "output_type": "stream",
     "text": [
      "data=[{'id': '052ddb99-1c22-46bb-b495-0a899f7de8ca', 'companyid': '6c0bfedb-258a-4c77-9bad-b0e87c0d9c98', 'username': 'JMHG', 'email': 'jose@skills.tech', 'name': 'checho', 'ai_insights': None, 'created_at': '2024-01-24T04:44:42.286619+00:00', 'talents': [[8, 9, 1, 1, 1]], 'active': True, 'last_login': '2024-04-23T03:37:41.806+00:00', 'score': 83, 'onboarding': None, 'member_group': None, 'mbti': 'INFP-T', 'aditional_instructions': 'use xamples on physics and sports. use Allegories with nature. and when explaining a concept simplify it as much as possible without losing its real meaning', 'profilepicture': None}] count=None\n",
      "Talents updated for checho: [8, 9, '1', '1', 1]\n",
      "checho tiene 11 threads en total.\n",
      "checho ha creado 0 threads en la última semana.\n",
      "---------------------------------------\n",
      "---------------------------------------\n",
      "ID: 22aae84e-0262-4b9d-8b18-d60e10b1f042\n",
      "Name: Ernesto \n",
      "Username: emijangos\n",
      "Threads fetched for member Ernesto : 12\n",
      "Error filtering recent threads for Ernesto : Invalid isoformat string: '2024-02-21T19:27:45.27895+00:00'\n",
      "Error updating talents for Ernesto : argument of type 'NoneType' is not iterable\n",
      "Ernesto  tiene 12 threads en total.\n",
      "Ernesto  ha creado 0 threads en la última semana.\n",
      "---------------------------------------\n",
      "---------------------------------------\n",
      "ID: 90cb475f-f488-4431-8204-a1342ecd57ff\n",
      "Name: Skills Demo\n",
      "Username: Skillsdemouser\n"
     ]
    },
    {
     "name": "stderr",
     "output_type": "stream",
     "text": [
      "2024-05-08 12:06:00,607:INFO - HTTP Request: GET https://hhtrmdrpowaaxlydfwjn.supabase.co/rest/v1/threads_tb?select=%2A&memberid=eq.90cb475f-f488-4431-8204-a1342ecd57ff \"HTTP/1.1 200 OK\"\n",
      "2024-05-08 12:06:00,735:INFO - HTTP Request: GET https://hhtrmdrpowaaxlydfwjn.supabase.co/rest/v1/threads_tb?select=%2A&memberid=eq.f3dec577-20d1-49bf-bf60-300d9abd0be3 \"HTTP/1.1 200 OK\"\n"
     ]
    },
    {
     "name": "stdout",
     "output_type": "stream",
     "text": [
      "Threads fetched for member Skills Demo: 10\n",
      "Error filtering recent threads for Skills Demo: Invalid isoformat string: '2024-04-23T20:05:21.17066+00:00'\n",
      "Error updating talents for Skills Demo: argument of type 'NoneType' is not iterable\n",
      "Skills Demo tiene 10 threads en total.\n",
      "Skills Demo ha creado 0 threads en la última semana.\n",
      "---------------------------------------\n",
      "---------------------------------------\n",
      "ID: f3dec577-20d1-49bf-bf60-300d9abd0be3\n",
      "Name: Zuriel Cevada\n",
      "Username: ZurielCevada\n",
      "Threads fetched for member Zuriel Cevada: 1\n",
      "Recent threads for Zuriel Cevada: 0\n"
     ]
    },
    {
     "name": "stderr",
     "output_type": "stream",
     "text": [
      "2024-05-08 12:06:00,891:INFO - HTTP Request: PATCH https://hhtrmdrpowaaxlydfwjn.supabase.co/rest/v1/members_tb?id=eq.f3dec577-20d1-49bf-bf60-300d9abd0be3 \"HTTP/1.1 200 OK\"\n",
      "2024-05-08 12:06:01,035:INFO - HTTP Request: GET https://hhtrmdrpowaaxlydfwjn.supabase.co/rest/v1/threads_tb?select=%2A&memberid=eq.43d5917d-578c-4f09-a927-177e3bfed050 \"HTTP/1.1 200 OK\"\n"
     ]
    },
    {
     "name": "stdout",
     "output_type": "stream",
     "text": [
      "data=[{'id': 'f3dec577-20d1-49bf-bf60-300d9abd0be3', 'companyid': '6c0bfedb-258a-4c77-9bad-b0e87c0d9c98', 'username': 'ZurielCevada', 'email': 'zuriel@skills.tech', 'name': 'Zuriel Cevada', 'ai_insights': None, 'created_at': '2024-01-30T00:12:21.023627+00:00', 'talents': [[5, 6, 16, 4]], 'active': True, 'last_login': '2024-04-23T18:13:10.902+00:00', 'score': 56, 'onboarding': None, 'member_group': None, 'mbti': None, 'aditional_instructions': None, 'profilepicture': True}] count=None\n",
      "Talents updated for Zuriel Cevada: [5, 6, 16, 4]\n",
      "Zuriel Cevada tiene 1 threads en total.\n",
      "Zuriel Cevada ha creado 0 threads en la última semana.\n",
      "---------------------------------------\n",
      "---------------------------------------\n",
      "ID: 43d5917d-578c-4f09-a927-177e3bfed050\n",
      "Name: Skills Demo TP\n",
      "Username: SkillsTrainingProvider\n",
      "Threads fetched for member Skills Demo TP: 6\n",
      "Error filtering recent threads for Skills Demo TP: Invalid isoformat string: '2024-03-26T17:27:51.84152+00:00'\n",
      "Error updating talents for Skills Demo TP: argument of type 'NoneType' is not iterable\n",
      "Skills Demo TP tiene 6 threads en total.\n",
      "Skills Demo TP ha creado 0 threads en la última semana.\n",
      "---------------------------------------\n",
      "---------------------------------------\n",
      "ID: e3d359e7-3e23-4b41-a961-597347393c49\n",
      "Name: Simon Bates\n",
      "Username: simonbates\n"
     ]
    },
    {
     "name": "stderr",
     "output_type": "stream",
     "text": [
      "2024-05-08 12:06:01,176:INFO - HTTP Request: GET https://hhtrmdrpowaaxlydfwjn.supabase.co/rest/v1/threads_tb?select=%2A&memberid=eq.e3d359e7-3e23-4b41-a961-597347393c49 \"HTTP/1.1 200 OK\"\n",
      "2024-05-08 12:06:01,296:INFO - HTTP Request: GET https://hhtrmdrpowaaxlydfwjn.supabase.co/rest/v1/threads_tb?select=%2A&memberid=eq.17b31e8c-ee0e-44f9-adcd-567f6f139450 \"HTTP/1.1 200 OK\"\n"
     ]
    },
    {
     "name": "stdout",
     "output_type": "stream",
     "text": [
      "Threads fetched for member Simon Bates: 6\n",
      "Error filtering recent threads for Simon Bates: Invalid isoformat string: '2024-03-13T21:13:10.92747+00:00'\n",
      "Error updating talents for Simon Bates: argument of type 'NoneType' is not iterable\n",
      "Simon Bates tiene 6 threads en total.\n",
      "Simon Bates ha creado 0 threads en la última semana.\n",
      "---------------------------------------\n",
      "---------------------------------------\n",
      "ID: 17b31e8c-ee0e-44f9-adcd-567f6f139450\n",
      "Name: LC\n",
      "Username: czorrilla\n",
      "Threads fetched for member LC: 3\n",
      "Error filtering recent threads for LC: Invalid isoformat string: '2024-03-25T12:27:57.54115+00:00'\n"
     ]
    },
    {
     "name": "stderr",
     "output_type": "stream",
     "text": [
      "2024-05-08 12:06:01,464:INFO - HTTP Request: PATCH https://hhtrmdrpowaaxlydfwjn.supabase.co/rest/v1/members_tb?id=eq.17b31e8c-ee0e-44f9-adcd-567f6f139450 \"HTTP/1.1 200 OK\"\n",
      "2024-05-08 12:06:01,661:INFO - HTTP Request: GET https://hhtrmdrpowaaxlydfwjn.supabase.co/rest/v1/threads_tb?select=%2A&memberid=eq.2828d944-76c3-4800-9f66-e2754bf5c884 \"HTTP/1.1 200 OK\"\n"
     ]
    },
    {
     "name": "stdout",
     "output_type": "stream",
     "text": [
      "data=[{'id': '17b31e8c-ee0e-44f9-adcd-567f6f139450', 'companyid': '6c0bfedb-258a-4c77-9bad-b0e87c0d9c98', 'username': 'czorrilla', 'email': 'lc@luiszorrilla.com', 'name': 'LC', 'ai_insights': None, 'created_at': '2024-02-07T07:45:48.254898+00:00', 'talents': [[18, 14, 11]], 'active': True, 'last_login': '2024-04-27T01:31:18.147+00:00', 'score': 48, 'onboarding': None, 'member_group': None, 'mbti': '', 'aditional_instructions': '', 'profilepicture': True}] count=None\n",
      "Talents updated for LC: [18, 14, 11]\n",
      "LC tiene 3 threads en total.\n",
      "LC ha creado 0 threads en la última semana.\n",
      "---------------------------------------\n",
      "---------------------------------------\n",
      "ID: 2828d944-76c3-4800-9f66-e2754bf5c884\n",
      "Name: Ricardo\n",
      "Username: Cevada\n",
      "Threads fetched for member Ricardo: 38\n",
      "Error filtering recent threads for Ricardo: Invalid isoformat string: '2024-02-22T17:35:21.06866+00:00'\n"
     ]
    },
    {
     "name": "stderr",
     "output_type": "stream",
     "text": [
      "2024-05-08 12:06:01,800:INFO - HTTP Request: PATCH https://hhtrmdrpowaaxlydfwjn.supabase.co/rest/v1/members_tb?id=eq.2828d944-76c3-4800-9f66-e2754bf5c884 \"HTTP/1.1 200 OK\"\n",
      "2024-05-08 12:06:01,929:INFO - HTTP Request: GET https://hhtrmdrpowaaxlydfwjn.supabase.co/rest/v1/threads_tb?select=%2A&memberid=eq.d71944f0-3465-49bf-818a-990b53635de6 \"HTTP/1.1 200 OK\"\n"
     ]
    },
    {
     "name": "stdout",
     "output_type": "stream",
     "text": [
      "data=[{'id': '2828d944-76c3-4800-9f66-e2754bf5c884', 'companyid': '2e2aec92-0980-483e-9edd-05f187d10253', 'username': 'Cevada', 'email': 'skills.demo@tec.mx', 'name': 'Ricardo', 'ai_insights': None, 'created_at': '2024-01-22T21:17:22.280841+00:00', 'talents': [[5, 4, 19, 13, 1, 1, 1]], 'active': True, 'last_login': '2024-04-26T15:32:49.52+00:00', 'score': None, 'onboarding': None, 'member_group': None, 'mbti': None, 'aditional_instructions': None, 'profilepicture': None}] count=None\n",
      "Talents updated for Ricardo: [5, 4, 19, 13, '1', '1', 1]\n",
      "Ricardo tiene 38 threads en total.\n",
      "Ricardo ha creado 0 threads en la última semana.\n",
      "---------------------------------------\n",
      "---------------------------------------\n",
      "ID: d71944f0-3465-49bf-818a-990b53635de6\n",
      "Name: Skills Demo\n",
      "Username: Skills Demo\n",
      "Threads fetched for member Skills Demo: 2\n",
      "Error filtering recent threads for Skills Demo: Invalid isoformat string: '2024-04-10T01:08:08.6247+00:00'\n"
     ]
    },
    {
     "name": "stderr",
     "output_type": "stream",
     "text": [
      "2024-05-08 12:06:02,046:INFO - HTTP Request: PATCH https://hhtrmdrpowaaxlydfwjn.supabase.co/rest/v1/members_tb?id=eq.d71944f0-3465-49bf-818a-990b53635de6 \"HTTP/1.1 200 OK\"\n",
      "2024-05-08 12:06:02,173:INFO - HTTP Request: GET https://hhtrmdrpowaaxlydfwjn.supabase.co/rest/v1/threads_tb?select=%2A&memberid=eq.e622ff8f-1942-4d5d-8c46-2cb3ff15c45e \"HTTP/1.1 200 OK\"\n"
     ]
    },
    {
     "name": "stdout",
     "output_type": "stream",
     "text": [
      "data=[{'id': 'd71944f0-3465-49bf-818a-990b53635de6', 'companyid': '731f88f1-673d-4f12-be05-99046d2b822d', 'username': 'Skills Demo', 'email': 'demoskillsai@kredi.mx', 'name': 'Skills Demo', 'ai_insights': None, 'created_at': '2024-03-26T15:49:31.368079+00:00', 'talents': [], 'active': True, 'last_login': '2024-04-17T15:04:51.726+00:00', 'score': None, 'onboarding': False, 'member_group': None, 'mbti': None, 'aditional_instructions': None, 'profilepicture': None}] count=None\n",
      "Talents updated for Skills Demo: None\n",
      "Skills Demo tiene 2 threads en total.\n",
      "Skills Demo ha creado 0 threads en la última semana.\n",
      "---------------------------------------\n",
      "---------------------------------------\n",
      "ID: e622ff8f-1942-4d5d-8c46-2cb3ff15c45e\n",
      "Name: Elisa SD\n",
      "Username: elisd\n",
      "Threads fetched for member Elisa SD: 0\n"
     ]
    },
    {
     "name": "stderr",
     "output_type": "stream",
     "text": [
      "2024-05-08 12:06:02,298:INFO - HTTP Request: PATCH https://hhtrmdrpowaaxlydfwjn.supabase.co/rest/v1/members_tb?id=eq.e622ff8f-1942-4d5d-8c46-2cb3ff15c45e \"HTTP/1.1 200 OK\"\n",
      "2024-05-08 12:06:02,428:INFO - HTTP Request: GET https://hhtrmdrpowaaxlydfwjn.supabase.co/rest/v1/threads_tb?select=%2A&memberid=eq.430cc23a-c5f4-4969-b5a3-1a2562a0f6e9 \"HTTP/1.1 200 OK\"\n"
     ]
    },
    {
     "name": "stdout",
     "output_type": "stream",
     "text": [
      "data=[{'id': 'e622ff8f-1942-4d5d-8c46-2cb3ff15c45e', 'companyid': 'd54313a1-9c47-4d3d-b97a-1fdea82aef5d', 'username': 'elisd', 'email': 'elisdbuy@gmail.com', 'name': 'Elisa SD', 'ai_insights': None, 'created_at': '2024-04-23T21:35:22.842435+00:00', 'talents': [], 'active': True, 'last_login': '2024-04-23T22:11:41.379+00:00', 'score': None, 'onboarding': False, 'member_group': None, 'mbti': None, 'aditional_instructions': None, 'profilepicture': None}] count=None\n",
      "Talents updated for Elisa SD: None\n",
      "Elisa SD tiene 0 threads en total.\n",
      "Elisa SD ha creado 0 threads en la última semana.\n",
      "---------------------------------------\n",
      "---------------------------------------\n",
      "ID: 430cc23a-c5f4-4969-b5a3-1a2562a0f6e9\n",
      "Name: Irina\n",
      "Username: irina.x.gaister@gmail.com\n",
      "Threads fetched for member Irina: 2\n",
      "Recent threads for Irina: 0\n"
     ]
    },
    {
     "name": "stderr",
     "output_type": "stream",
     "text": [
      "2024-05-08 12:06:02,556:INFO - HTTP Request: PATCH https://hhtrmdrpowaaxlydfwjn.supabase.co/rest/v1/members_tb?id=eq.430cc23a-c5f4-4969-b5a3-1a2562a0f6e9 \"HTTP/1.1 200 OK\"\n",
      "2024-05-08 12:06:02,696:INFO - HTTP Request: GET https://hhtrmdrpowaaxlydfwjn.supabase.co/rest/v1/threads_tb?select=%2A&memberid=eq.c6c3361b-8270-4471-a87a-1f4c3790b227 \"HTTP/1.1 200 OK\"\n"
     ]
    },
    {
     "name": "stdout",
     "output_type": "stream",
     "text": [
      "data=[{'id': '430cc23a-c5f4-4969-b5a3-1a2562a0f6e9', 'companyid': 'd54313a1-9c47-4d3d-b97a-1fdea82aef5d', 'username': 'irina.x.gaister@gmail.com', 'email': 'irina.x.gaister@gmail.com', 'name': 'Irina', 'ai_insights': None, 'created_at': '2024-04-03T21:16:20.59743+00:00', 'talents': [], 'active': True, 'last_login': '2024-04-03T21:23:29.812+00:00', 'score': None, 'onboarding': False, 'member_group': None, 'mbti': None, 'aditional_instructions': None, 'profilepicture': None}] count=None\n",
      "Talents updated for Irina: None\n",
      "Irina tiene 2 threads en total.\n",
      "Irina ha creado 0 threads en la última semana.\n",
      "---------------------------------------\n",
      "---------------------------------------\n",
      "ID: c6c3361b-8270-4471-a87a-1f4c3790b227\n",
      "Name: Rodrigo Rios\n",
      "Username: Rod\n",
      "Threads fetched for member Rodrigo Rios: 2\n",
      "Recent threads for Rodrigo Rios: 0\n"
     ]
    },
    {
     "name": "stderr",
     "output_type": "stream",
     "text": [
      "2024-05-08 12:06:02,826:INFO - HTTP Request: PATCH https://hhtrmdrpowaaxlydfwjn.supabase.co/rest/v1/members_tb?id=eq.c6c3361b-8270-4471-a87a-1f4c3790b227 \"HTTP/1.1 200 OK\"\n",
      "2024-05-08 12:06:02,979:INFO - HTTP Request: GET https://hhtrmdrpowaaxlydfwjn.supabase.co/rest/v1/threads_tb?select=%2A&memberid=eq.ecb44c63-0a18-4114-931b-dade638897b0 \"HTTP/1.1 200 OK\"\n"
     ]
    },
    {
     "name": "stdout",
     "output_type": "stream",
     "text": [
      "data=[{'id': 'c6c3361b-8270-4471-a87a-1f4c3790b227', 'companyid': 'd54313a1-9c47-4d3d-b97a-1fdea82aef5d', 'username': 'Rod', 'email': 'rodrigo.rioscalvillo@gmail.com', 'name': 'Rodrigo Rios', 'ai_insights': None, 'created_at': '2024-04-27T19:49:50.780602+00:00', 'talents': [], 'active': True, 'last_login': '2024-04-27T20:04:16.165+00:00', 'score': None, 'onboarding': False, 'member_group': None, 'mbti': None, 'aditional_instructions': None, 'profilepicture': None}] count=None\n",
      "Talents updated for Rodrigo Rios: None\n",
      "Rodrigo Rios tiene 2 threads en total.\n",
      "Rodrigo Rios ha creado 0 threads en la última semana.\n",
      "---------------------------------------\n",
      "---------------------------------------\n",
      "ID: ecb44c63-0a18-4114-931b-dade638897b0\n",
      "Name: oscar vite\n",
      "Username: mulder00\n",
      "Threads fetched for member oscar vite: 16\n",
      "Error filtering recent threads for oscar vite: Invalid isoformat string: '2024-03-13T16:25:14.95958+00:00'\n",
      "Error updating talents for oscar vite: argument of type 'NoneType' is not iterable\n",
      "oscar vite tiene 16 threads en total.\n",
      "oscar vite ha creado 0 threads en la última semana.\n",
      "---------------------------------------\n",
      "---------------------------------------\n",
      "ID: b4a81b05-19ca-442a-99fb-da7d98e5c6d7\n",
      "Name: Zuriel Cevada\n",
      "Username: ZurielTrials\n"
     ]
    },
    {
     "name": "stderr",
     "output_type": "stream",
     "text": [
      "2024-05-08 12:06:03,183:INFO - HTTP Request: GET https://hhtrmdrpowaaxlydfwjn.supabase.co/rest/v1/threads_tb?select=%2A&memberid=eq.b4a81b05-19ca-442a-99fb-da7d98e5c6d7 \"HTTP/1.1 200 OK\"\n",
      "2024-05-08 12:06:03,311:INFO - HTTP Request: GET https://hhtrmdrpowaaxlydfwjn.supabase.co/rest/v1/threads_tb?select=%2A&memberid=eq.02748434-d48f-4f37-8d2b-7e1523f33bdf \"HTTP/1.1 200 OK\"\n"
     ]
    },
    {
     "name": "stdout",
     "output_type": "stream",
     "text": [
      "Threads fetched for member Zuriel Cevada: 24\n",
      "Error filtering recent threads for Zuriel Cevada: Invalid isoformat string: '2024-04-18T14:34:13.09661+00:00'\n",
      "Error updating talents for Zuriel Cevada: argument of type 'NoneType' is not iterable\n",
      "Zuriel Cevada tiene 24 threads en total.\n",
      "Zuriel Cevada ha creado 0 threads en la última semana.\n",
      "---------------------------------------\n",
      "---------------------------------------\n",
      "ID: 02748434-d48f-4f37-8d2b-7e1523f33bdf\n",
      "Name: JFerrera\n",
      "Username: JFerrera\n",
      "Threads fetched for member JFerrera: 1\n",
      "Recent threads for JFerrera: 0\n"
     ]
    },
    {
     "name": "stderr",
     "output_type": "stream",
     "text": [
      "2024-05-08 12:06:03,430:INFO - HTTP Request: PATCH https://hhtrmdrpowaaxlydfwjn.supabase.co/rest/v1/members_tb?id=eq.02748434-d48f-4f37-8d2b-7e1523f33bdf \"HTTP/1.1 200 OK\"\n",
      "2024-05-08 12:06:03,551:INFO - HTTP Request: GET https://hhtrmdrpowaaxlydfwjn.supabase.co/rest/v1/threads_tb?select=%2A&memberid=eq.968fe319-19b6-43da-9bb6-8d62374a32a8 \"HTTP/1.1 200 OK\"\n"
     ]
    },
    {
     "name": "stdout",
     "output_type": "stream",
     "text": [
      "data=[{'id': '02748434-d48f-4f37-8d2b-7e1523f33bdf', 'companyid': 'acb8bad3-aca4-48f5-abba-a21aa1fb1484', 'username': 'JFerrera', 'email': 'jferrera@skills.tech', 'name': 'JFerrera', 'ai_insights': None, 'created_at': '2024-03-09T00:46:33.486294+00:00', 'talents': [], 'active': True, 'last_login': '2024-03-11T03:19:42.993+00:00', 'score': None, 'onboarding': None, 'member_group': None, 'mbti': None, 'aditional_instructions': None, 'profilepicture': None}] count=None\n",
      "Talents updated for JFerrera: None\n",
      "JFerrera tiene 1 threads en total.\n",
      "JFerrera ha creado 0 threads en la última semana.\n",
      "---------------------------------------\n",
      "---------------------------------------\n",
      "ID: 968fe319-19b6-43da-9bb6-8d62374a32a8\n",
      "Name: oscar vite\n",
      "Username: exces00\n",
      "Threads fetched for member oscar vite: 0\n"
     ]
    },
    {
     "name": "stderr",
     "output_type": "stream",
     "text": [
      "2024-05-08 12:06:03,676:INFO - HTTP Request: PATCH https://hhtrmdrpowaaxlydfwjn.supabase.co/rest/v1/members_tb?id=eq.968fe319-19b6-43da-9bb6-8d62374a32a8 \"HTTP/1.1 200 OK\"\n",
      "2024-05-08 12:06:03,811:INFO - HTTP Request: GET https://hhtrmdrpowaaxlydfwjn.supabase.co/rest/v1/threads_tb?select=%2A&memberid=eq.cd5b8000-0eee-44a5-8783-49b4840c2ff7 \"HTTP/1.1 200 OK\"\n"
     ]
    },
    {
     "name": "stdout",
     "output_type": "stream",
     "text": [
      "data=[{'id': '968fe319-19b6-43da-9bb6-8d62374a32a8', 'companyid': '781ea14a-b753-4635-982c-a6e0d64aafb1', 'username': 'exces00', 'email': 'o.vite@pinkelephant.com', 'name': 'oscar vite', 'ai_insights': None, 'created_at': '2024-03-11T20:39:44.681248+00:00', 'talents': [], 'active': True, 'last_login': None, 'score': None, 'onboarding': False, 'member_group': None, 'mbti': None, 'aditional_instructions': None, 'profilepicture': None}] count=None\n",
      "Talents updated for oscar vite: None\n",
      "oscar vite tiene 0 threads en total.\n",
      "oscar vite ha creado 0 threads en la última semana.\n",
      "---------------------------------------\n",
      "---------------------------------------\n",
      "ID: cd5b8000-0eee-44a5-8783-49b4840c2ff7\n",
      "Name: Diego Sánchez Luna\n",
      "Username: GeekDeer\n",
      "Threads fetched for member Diego Sánchez Luna: 1\n",
      "Recent threads for Diego Sánchez Luna: 1\n"
     ]
    },
    {
     "name": "stderr",
     "output_type": "stream",
     "text": [
      "2024-05-08 12:06:03,944:INFO - HTTP Request: PATCH https://hhtrmdrpowaaxlydfwjn.supabase.co/rest/v1/members_tb?id=eq.cd5b8000-0eee-44a5-8783-49b4840c2ff7 \"HTTP/1.1 200 OK\"\n",
      "2024-05-08 12:06:04,091:INFO - HTTP Request: GET https://hhtrmdrpowaaxlydfwjn.supabase.co/rest/v1/threads_tb?select=%2A&memberid=eq.70a84683-0457-451a-aace-5e803e899940 \"HTTP/1.1 200 OK\"\n"
     ]
    },
    {
     "name": "stdout",
     "output_type": "stream",
     "text": [
      "data=[{'id': 'cd5b8000-0eee-44a5-8783-49b4840c2ff7', 'companyid': '48ac1d03-fd2b-4041-9d49-ab5597552707', 'username': 'GeekDeer', 'email': 'diego@hyperdigital.mx', 'name': 'Diego Sánchez Luna', 'ai_insights': None, 'created_at': '2024-05-04T18:21:07.785788+00:00', 'talents': [], 'active': True, 'last_login': '2024-05-08T17:19:31.183+00:00', 'score': None, 'onboarding': False, 'member_group': None, 'mbti': None, 'aditional_instructions': None, 'profilepicture': None}] count=None\n",
      "Talents updated for Diego Sánchez Luna: None\n",
      "Diego Sánchez Luna tiene 1 threads en total.\n",
      "Diego Sánchez Luna ha creado 1 threads en la última semana.\n",
      "---------------------------------------\n",
      "---------------------------------------\n",
      "ID: 70a84683-0457-451a-aace-5e803e899940\n",
      "Name: LC Trial\n",
      "Username: lctrial\n",
      "Threads fetched for member LC Trial: 1\n",
      "Recent threads for LC Trial: 0\n"
     ]
    },
    {
     "name": "stderr",
     "output_type": "stream",
     "text": [
      "2024-05-08 12:06:04,219:INFO - HTTP Request: PATCH https://hhtrmdrpowaaxlydfwjn.supabase.co/rest/v1/members_tb?id=eq.70a84683-0457-451a-aace-5e803e899940 \"HTTP/1.1 200 OK\"\n",
      "2024-05-08 12:06:04,356:INFO - HTTP Request: GET https://hhtrmdrpowaaxlydfwjn.supabase.co/rest/v1/threads_tb?select=%2A&memberid=eq.10dc488b-ba37-4b27-9fa6-81640f19f9b1 \"HTTP/1.1 200 OK\"\n"
     ]
    },
    {
     "name": "stdout",
     "output_type": "stream",
     "text": [
      "data=[{'id': '70a84683-0457-451a-aace-5e803e899940', 'companyid': 'd54313a1-9c47-4d3d-b97a-1fdea82aef5d', 'username': 'lctrial', 'email': 'lctrial@skills.tech', 'name': 'LC Trial', 'ai_insights': None, 'created_at': '2024-03-05T11:14:57.908754+00:00', 'talents': [], 'active': True, 'last_login': '2024-03-13T10:03:13.013+00:00', 'score': None, 'onboarding': None, 'member_group': None, 'mbti': None, 'aditional_instructions': None, 'profilepicture': None}] count=None\n",
      "Talents updated for LC Trial: None\n",
      "LC Trial tiene 1 threads en total.\n",
      "LC Trial ha creado 0 threads en la última semana.\n",
      "---------------------------------------\n",
      "---------------------------------------\n",
      "ID: 10dc488b-ba37-4b27-9fa6-81640f19f9b1\n",
      "Name: Miguel Ángel Abarca\n",
      "Username: miguel.abarca\n",
      "Threads fetched for member Miguel Ángel Abarca: 0\n"
     ]
    },
    {
     "name": "stderr",
     "output_type": "stream",
     "text": [
      "2024-05-08 12:06:04,486:INFO - HTTP Request: PATCH https://hhtrmdrpowaaxlydfwjn.supabase.co/rest/v1/members_tb?id=eq.10dc488b-ba37-4b27-9fa6-81640f19f9b1 \"HTTP/1.1 200 OK\"\n",
      "2024-05-08 12:06:04,620:INFO - HTTP Request: GET https://hhtrmdrpowaaxlydfwjn.supabase.co/rest/v1/threads_tb?select=%2A&memberid=eq.39b34d1c-9c65-4da8-a330-6e6eb0ce897d \"HTTP/1.1 200 OK\"\n"
     ]
    },
    {
     "name": "stdout",
     "output_type": "stream",
     "text": [
      "data=[{'id': '10dc488b-ba37-4b27-9fa6-81640f19f9b1', 'companyid': 'd54313a1-9c47-4d3d-b97a-1fdea82aef5d', 'username': 'miguel.abarca', 'email': 'miguel.abarca256@gmail.com', 'name': 'Miguel Ángel Abarca', 'ai_insights': None, 'created_at': '2024-04-24T00:47:25.31403+00:00', 'talents': [], 'active': True, 'last_login': '2024-04-29T17:27:28.075+00:00', 'score': None, 'onboarding': False, 'member_group': None, 'mbti': None, 'aditional_instructions': None, 'profilepicture': None}] count=None\n",
      "Talents updated for Miguel Ángel Abarca: None\n",
      "Miguel Ángel Abarca tiene 0 threads en total.\n",
      "Miguel Ángel Abarca ha creado 0 threads en la última semana.\n",
      "---------------------------------------\n",
      "---------------------------------------\n",
      "ID: 39b34d1c-9c65-4da8-a330-6e6eb0ce897d\n",
      "Name: Luis\n",
      "Username: lbravot\n",
      "Threads fetched for member Luis: 0\n"
     ]
    },
    {
     "name": "stderr",
     "output_type": "stream",
     "text": [
      "2024-05-08 12:06:04,749:INFO - HTTP Request: PATCH https://hhtrmdrpowaaxlydfwjn.supabase.co/rest/v1/members_tb?id=eq.39b34d1c-9c65-4da8-a330-6e6eb0ce897d \"HTTP/1.1 200 OK\"\n",
      "2024-05-08 12:06:04,882:INFO - HTTP Request: GET https://hhtrmdrpowaaxlydfwjn.supabase.co/rest/v1/threads_tb?select=%2A&memberid=eq.0a3e9798-e80d-4537-afec-e574b61fcbaa \"HTTP/1.1 200 OK\"\n"
     ]
    },
    {
     "name": "stdout",
     "output_type": "stream",
     "text": [
      "data=[{'id': '39b34d1c-9c65-4da8-a330-6e6eb0ce897d', 'companyid': 'd54313a1-9c47-4d3d-b97a-1fdea82aef5d', 'username': 'lbravot', 'email': 'luis@integranex.com', 'name': 'Luis', 'ai_insights': None, 'created_at': '2024-04-19T16:59:00.646684+00:00', 'talents': [], 'active': True, 'last_login': '2024-04-21T10:04:33.431+00:00', 'score': None, 'onboarding': False, 'member_group': None, 'mbti': None, 'aditional_instructions': None, 'profilepicture': None}] count=None\n",
      "Talents updated for Luis: None\n",
      "Luis tiene 0 threads en total.\n",
      "Luis ha creado 0 threads en la última semana.\n",
      "---------------------------------------\n",
      "---------------------------------------\n",
      "ID: 0a3e9798-e80d-4537-afec-e574b61fcbaa\n",
      "Name: Emprendimiento Tec\n",
      "Username: PruebaSkillsai\n",
      "Threads fetched for member Emprendimiento Tec: 4\n",
      "Recent threads for Emprendimiento Tec: 4\n"
     ]
    },
    {
     "name": "stderr",
     "output_type": "stream",
     "text": [
      "2024-05-08 12:06:05,035:INFO - HTTP Request: PATCH https://hhtrmdrpowaaxlydfwjn.supabase.co/rest/v1/members_tb?id=eq.0a3e9798-e80d-4537-afec-e574b61fcbaa \"HTTP/1.1 200 OK\"\n",
      "2024-05-08 12:06:05,173:INFO - HTTP Request: GET https://hhtrmdrpowaaxlydfwjn.supabase.co/rest/v1/threads_tb?select=%2A&memberid=eq.dade700d-8328-4510-a5af-2525f1ea7297 \"HTTP/1.1 200 OK\"\n"
     ]
    },
    {
     "name": "stdout",
     "output_type": "stream",
     "text": [
      "data=[{'id': '0a3e9798-e80d-4537-afec-e574b61fcbaa', 'companyid': '85a1c0fb-0d24-46e8-8094-e0677bf99e1c', 'username': 'PruebaSkillsai', 'email': 'demoskillsai@emprendimiento.tec.mx', 'name': 'Emprendimiento Tec', 'ai_insights': None, 'created_at': '2024-05-06T17:27:34.315011+00:00', 'talents': [[1, 6, 11, 21, 13, 2, 8, 10, 2, 2]], 'active': True, 'last_login': '2024-05-06T20:08:34.944+00:00', 'score': 81, 'onboarding': False, 'member_group': None, 'mbti': 'INTP-T', 'aditional_instructions': 'Entiendo mejor con descripciones detalladas, listas estructuradas y pasos a seguir para entender un proceso. Me gusta usar el método científico y es mi primer acercamiento a los negocios', 'profilepicture': True}] count=None\n",
      "Talents updated for Emprendimiento Tec: [1, 6, 11, 21, 13, 2, 8, 10, '2', '2']\n",
      "Emprendimiento Tec tiene 4 threads en total.\n",
      "Emprendimiento Tec ha creado 4 threads en la última semana.\n",
      "---------------------------------------\n",
      "---------------------------------------\n",
      "ID: dade700d-8328-4510-a5af-2525f1ea7297\n",
      "Name: Jack Phillips\n",
      "Username: jadaph\n",
      "Threads fetched for member Jack Phillips: 2\n",
      "Recent threads for Jack Phillips: 2\n",
      "Error updating talents for Jack Phillips: argument of type 'NoneType' is not iterable\n",
      "Jack Phillips tiene 2 threads en total.\n",
      "Jack Phillips ha creado 2 threads en la última semana.\n",
      "---------------------------------------\n",
      "---------------------------------------\n",
      "ID: 44e7d4ed-fae7-4ce6-8900-e9530c6b09b0\n",
      "Name: Luis Zorrilla\n",
      "Username: czorr\n"
     ]
    },
    {
     "name": "stderr",
     "output_type": "stream",
     "text": [
      "2024-05-08 12:06:05,297:INFO - HTTP Request: GET https://hhtrmdrpowaaxlydfwjn.supabase.co/rest/v1/threads_tb?select=%2A&memberid=eq.44e7d4ed-fae7-4ce6-8900-e9530c6b09b0 \"HTTP/1.1 200 OK\"\n",
      "2024-05-08 12:06:05,419:INFO - HTTP Request: PATCH https://hhtrmdrpowaaxlydfwjn.supabase.co/rest/v1/members_tb?id=eq.44e7d4ed-fae7-4ce6-8900-e9530c6b09b0 \"HTTP/1.1 200 OK\"\n"
     ]
    },
    {
     "name": "stdout",
     "output_type": "stream",
     "text": [
      "Threads fetched for member Luis Zorrilla: 24\n",
      "Error filtering recent threads for Luis Zorrilla: Invalid isoformat string: '2024-04-10T19:26:50.6411+00:00'\n",
      "data=[{'id': '44e7d4ed-fae7-4ce6-8900-e9530c6b09b0', 'companyid': '6c0bfedb-258a-4c77-9bad-b0e87c0d9c98', 'username': 'czorr', 'email': 'luis@skills.tech', 'name': 'Luis Zorrilla', 'ai_insights': None, 'created_at': '2024-01-18T01:51:38.434053+00:00', 'talents': [[1, 6, 11, 21, 13, 2, 8, 10, 1, 1]], 'active': True, 'last_login': '2024-05-08T18:01:25.339+00:00', 'score': 75, 'onboarding': True, 'member_group': 'DEX', 'mbti': 'INTP', 'aditional_instructions': '', 'profilepicture': True}] count=None\n",
      "Talents updated for Luis Zorrilla: [1, 6, 11, 21, 13, 2, 8, 10, '1', '1']\n",
      "Luis Zorrilla tiene 24 threads en total.\n",
      "Luis Zorrilla ha creado 0 threads en la última semana.\n",
      "---------------------------------------\n",
      "---------------------------------------\n",
      "ID: 585b0bfc-4927-426b-bec9-91a2c7bfbc68\n",
      "Name: Bruno Uriel Ortega Castrejón\n",
      "Username: BrunoU92\n"
     ]
    },
    {
     "name": "stderr",
     "output_type": "stream",
     "text": [
      "2024-05-08 12:06:05,538:INFO - HTTP Request: GET https://hhtrmdrpowaaxlydfwjn.supabase.co/rest/v1/threads_tb?select=%2A&memberid=eq.585b0bfc-4927-426b-bec9-91a2c7bfbc68 \"HTTP/1.1 200 OK\"\n",
      "2024-05-08 12:06:05,664:INFO - HTTP Request: PATCH https://hhtrmdrpowaaxlydfwjn.supabase.co/rest/v1/members_tb?id=eq.585b0bfc-4927-426b-bec9-91a2c7bfbc68 \"HTTP/1.1 200 OK\"\n"
     ]
    },
    {
     "name": "stdout",
     "output_type": "stream",
     "text": [
      "Threads fetched for member Bruno Uriel Ortega Castrejón: 5\n",
      "Error filtering recent threads for Bruno Uriel Ortega Castrejón: Invalid isoformat string: '2024-04-23T19:25:04.75227+00:00'\n",
      "data=[{'id': '585b0bfc-4927-426b-bec9-91a2c7bfbc68', 'companyid': 'd54313a1-9c47-4d3d-b97a-1fdea82aef5d', 'username': 'BrunoU92', 'email': 'coub1908@gmail.com', 'name': 'Bruno Uriel Ortega Castrejón', 'ai_insights': None, 'created_at': '2024-04-23T18:03:45.485726+00:00', 'talents': [], 'active': True, 'last_login': '2024-05-08T15:57:17.807+00:00', 'score': None, 'onboarding': True, 'member_group': 'DCO', 'mbti': None, 'aditional_instructions': None, 'profilepicture': None}] count=None\n",
      "Talents updated for Bruno Uriel Ortega Castrejón: None\n",
      "Bruno Uriel Ortega Castrejón tiene 5 threads en total.\n",
      "Bruno Uriel Ortega Castrejón ha creado 0 threads en la última semana.\n",
      "---------------------------------------\n",
      "---------------------------------------\n",
      "ID: 7dff7761-57a1-45db-914e-181aaf0a56b3\n",
      "Name: Elvia Ramirez\n",
      "Username: Admexus\n"
     ]
    },
    {
     "name": "stderr",
     "output_type": "stream",
     "text": [
      "2024-05-08 12:06:05,810:INFO - HTTP Request: GET https://hhtrmdrpowaaxlydfwjn.supabase.co/rest/v1/threads_tb?select=%2A&memberid=eq.7dff7761-57a1-45db-914e-181aaf0a56b3 \"HTTP/1.1 200 OK\"\n",
      "2024-05-08 12:06:05,951:INFO - HTTP Request: PATCH https://hhtrmdrpowaaxlydfwjn.supabase.co/rest/v1/members_tb?id=eq.7dff7761-57a1-45db-914e-181aaf0a56b3 \"HTTP/1.1 200 OK\"\n"
     ]
    },
    {
     "name": "stdout",
     "output_type": "stream",
     "text": [
      "Threads fetched for member Elvia Ramirez: 0\n",
      "data=[{'id': '7dff7761-57a1-45db-914e-181aaf0a56b3', 'companyid': 'acb8bad3-aca4-48f5-abba-a21aa1fb1484', 'username': 'Admexus', 'email': 'contacto.admexus@gmail.com', 'name': 'Elvia Ramirez', 'ai_insights': None, 'created_at': '2024-04-26T16:04:11.549912+00:00', 'talents': [], 'active': True, 'last_login': None, 'score': None, 'onboarding': False, 'member_group': None, 'mbti': None, 'aditional_instructions': None, 'profilepicture': None}] count=None\n",
      "Talents updated for Elvia Ramirez: None\n",
      "Elvia Ramirez tiene 0 threads en total.\n",
      "Elvia Ramirez ha creado 0 threads en la última semana.\n",
      "---------------------------------------\n",
      "---------------------------------------\n",
      "ID: f0859289-b992-404e-be4d-b75e627434be\n",
      "Name: Abimelec Anaya\n",
      "Username: Abimelec\n"
     ]
    },
    {
     "name": "stderr",
     "output_type": "stream",
     "text": [
      "2024-05-08 12:06:06,083:INFO - HTTP Request: GET https://hhtrmdrpowaaxlydfwjn.supabase.co/rest/v1/threads_tb?select=%2A&memberid=eq.f0859289-b992-404e-be4d-b75e627434be \"HTTP/1.1 200 OK\"\n",
      "2024-05-08 12:06:06,236:INFO - HTTP Request: PATCH https://hhtrmdrpowaaxlydfwjn.supabase.co/rest/v1/members_tb?id=eq.f0859289-b992-404e-be4d-b75e627434be \"HTTP/1.1 200 OK\"\n"
     ]
    },
    {
     "name": "stdout",
     "output_type": "stream",
     "text": [
      "Threads fetched for member Abimelec Anaya: 3\n",
      "Error filtering recent threads for Abimelec Anaya: Invalid isoformat string: '2024-05-03T12:42:04.17194+00:00'\n",
      "data=[{'id': 'f0859289-b992-404e-be4d-b75e627434be', 'companyid': '47d455b9-760a-4d4a-b2bd-9046704a2141', 'username': 'Abimelec', 'email': 'abimelec.demo@newyorklife.com', 'name': 'Abimelec Anaya', 'ai_insights': None, 'created_at': '2024-04-23T18:49:45.826698+00:00', 'talents': [], 'active': True, 'last_login': '2024-05-03T18:58:10.516+00:00', 'score': None, 'onboarding': False, 'member_group': None, 'mbti': None, 'aditional_instructions': None, 'profilepicture': True}] count=None\n",
      "Talents updated for Abimelec Anaya: None\n",
      "Abimelec Anaya tiene 3 threads en total.\n",
      "Abimelec Anaya ha creado 0 threads en la última semana.\n",
      "---------------------------------------\n"
     ]
    }
   ],
   "source": [
    "from datetime import datetime, timedelta, timezone\n",
    "\n",
    "# Asegúrate de que 'one_week_ago' sea 'aware' utilizando UTC\n",
    "one_week_ago = datetime.now(timezone.utc) - timedelta(days=7)\n",
    "\n",
    "for member in members:\n",
    "    print(\"---------------------------------------\")\n",
    "    print(f\"ID: {member['id']}\")\n",
    "    print(f\"Name: {member['name']}\")\n",
    "    print(f\"Username: {member['username']}\")\n",
    "\n",
    "    # Intenta obtener los threads\n",
    "    try:\n",
    "        response = supabase.table('threads_tb').select(\"*\").eq(\"memberid\", member[\"id\"]).execute()\n",
    "        threads = response.data\n",
    "        print(f\"Threads fetched for member {member['name']}: {len(threads)}\")\n",
    "    except Exception as e:\n",
    "        print(f\"Error fetching threads for member {member['name']}: {str(e)}\")\n",
    "        threads = None\n",
    "\n",
    "    # Contar cuántos threads tiene el miembro\n",
    "    count_of_threads = len(threads) if threads else 0\n",
    "    count_of_recent_threads = 0\n",
    "    if threads:\n",
    "        # Filtrar y contar los threads creados en la última semana\n",
    "        try:\n",
    "            recent_threads = [\n",
    "                thread for thread in threads \n",
    "                if datetime.fromisoformat(thread[\"created_at\"].replace(\"Z\", \"+00:00\")) >= one_week_ago\n",
    "            ]\n",
    "            count_of_recent_threads = len(recent_threads)\n",
    "            print(f\"Recent threads for {member['name']}: {count_of_recent_threads}\")\n",
    "        except Exception as e:\n",
    "            print(f\"Error filtering recent threads for {member['name']}: {str(e)}\")\n",
    "\n",
    "    # Actualiza la columna 'talents' en 'members_tb'\n",
    "    try:\n",
    "        # Obtiene la columna actual 'talents', si no existe, se utiliza una lista vacía\n",
    "        current_talents = member.get('talents', [])\n",
    "        if count_of_threads > 5:\n",
    "            if 1 not in current_talents:\n",
    "                current_talents.append(1)\n",
    "        if count_of_recent_threads > 1:\n",
    "            if 2 not in current_talents:\n",
    "                current_talents.append(2)\n",
    "\n",
    "        # Actualiza la columna 'talents' con los nuevos valores\n",
    "        if current_talents is not None:\n",
    "            update_response = supabase.table('members_tb').update({\n",
    "                'talents': [current_talents]  # Asegúrate de que esto sea un array\n",
    "            }).eq('id', member['id']).execute()\n",
    "            print(update_response)\n",
    "        if current_talents is None:\n",
    "            update_response = supabase.table('members_tb').update({\n",
    "                'talents': []  # Asegúrate de que esto sea un array\n",
    "            }).eq('id', member['id']).execute()\n",
    "            print(update_response)\n",
    "\n",
    "        print(f\"Talents updated for {member['name']}: {current_talents}\")\n",
    "    except Exception as e:\n",
    "        print(f\"Error updating talents for {member['name']}: {str(e)}\")\n",
    "\n",
    "    # Imprimir el conteo total de threads y el conteo de threads recientes para el miembro\n",
    "    print(f\"{member['name']} tiene {count_of_threads} threads en total.\")\n",
    "    print(f\"{member['name']} ha creado {count_of_recent_threads} threads en la última semana.\")\n",
    "    print(\"---------------------------------------\")\n",
    "\n"
   ]
  },
  {
   "cell_type": "code",
   "execution_count": 21,
   "metadata": {},
   "outputs": [
    {
     "name": "stderr",
     "output_type": "stream",
     "text": [
      "2024-05-08 12:02:56,355:INFO - HTTP Request: PATCH https://hhtrmdrpowaaxlydfwjn.supabase.co/rest/v1/members_tb?id=eq.8b013804-faa6-426e-bfcc-43227f58e3c8 \"HTTP/1.1 200 OK\"\n"
     ]
    },
    {
     "name": "stdout",
     "output_type": "stream",
     "text": [
      "data=[{'id': '8b013804-faa6-426e-bfcc-43227f58e3c8', 'companyid': '6c0bfedb-258a-4c77-9bad-b0e87c0d9c98', 'username': 'ian333', 'email': 'sebastian@skills.tech', 'name': 'Ian Vazquez', 'ai_insights': None, 'created_at': '2024-01-24T02:18:13.229104+00:00', 'talents': [], 'active': True, 'last_login': '2024-04-25T21:49:58.599+00:00', 'score': 68, 'onboarding': None, 'member_group': None, 'mbti': None, 'aditional_instructions': None, 'profilepicture': None}] count=None\n"
     ]
    }
   ],
   "source": [
    "update_response = supabase.table('members_tb').update({'talents': []}).eq('id', \"8b013804-faa6-426e-bfcc-43227f58e3c8\").execute()\n",
    "print(update_response)"
   ]
  },
  {
   "cell_type": "markdown",
   "metadata": {},
   "source": []
  }
 ],
 "metadata": {
  "kernelspec": {
   "display_name": "venv",
   "language": "python",
   "name": "python3"
  },
  "language_info": {
   "codemirror_mode": {
    "name": "ipython",
    "version": 3
   },
   "file_extension": ".py",
   "mimetype": "text/x-python",
   "name": "python",
   "nbconvert_exporter": "python",
   "pygments_lexer": "ipython3",
   "version": "3.10.14"
  }
 },
 "nbformat": 4,
 "nbformat_minor": 2
}
