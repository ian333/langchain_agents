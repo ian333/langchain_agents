{
 "cells": [
  {
   "cell_type": "code",
   "execution_count": 1,
   "metadata": {},
   "outputs": [],
   "source": [
    "from utils.email_utils import send_email\n"
   ]
  },
  {
   "cell_type": "code",
   "execution_count": 2,
   "metadata": {},
   "outputs": [
    {
     "data": {
      "text/plain": [
       "'Email sent successfully'"
      ]
     },
     "execution_count": 2,
     "metadata": {},
     "output_type": "execute_result"
    }
   ],
   "source": [
    "send_email(to=\"sebastian@skills.tech\",subject=\"test\",content=\"Template corre de testing\")\n"
   ]
  },
  {
   "cell_type": "code",
   "execution_count": 3,
   "metadata": {},
   "outputs": [],
   "source": [
    "from supabase import create_client\n",
    "from decouple import config\n",
    "\n",
    "supabase = create_client(config(\"SUPABASE_URL\"), config(\"SUPABASE_KEY\"))\n"
   ]
  },
  {
   "cell_type": "code",
   "execution_count": 4,
   "metadata": {},
   "outputs": [
    {
     "name": "stderr",
     "output_type": "stream",
     "text": [
      "2024-01-07 23:12:12,334:INFO - HTTP Request: POST https://hbvkehzhssiwpotkcxve.supabase.co/rest/v1/reminders_tb \"HTTP/1.1 201 Created\"\n",
      "2024-01-07 23:12:12,452:INFO - HTTP Request: POST https://hbvkehzhssiwpotkcxve.supabase.co/rest/v1/reminders_tb \"HTTP/1.1 201 Created\"\n"
     ]
    },
    {
     "name": "stdout",
     "output_type": "stream",
     "text": [
      "No se pudo cargar los datos ficticios\n",
      "No se pudo cargar los datos ficticios\n"
     ]
    },
    {
     "name": "stderr",
     "output_type": "stream",
     "text": [
      "2024-01-07 23:12:12,692:INFO - HTTP Request: POST https://hbvkehzhssiwpotkcxve.supabase.co/rest/v1/reminders_tb \"HTTP/1.1 201 Created\"\n"
     ]
    },
    {
     "name": "stdout",
     "output_type": "stream",
     "text": [
      "No se pudo cargar los datos ficticios\n"
     ]
    }
   ],
   "source": [
    "usuarios_prueba = [\n",
    "    {\n",
    "        \"user_email\": \"sebastian@skills.tech\",\n",
    "        \"reminder_type\": \"Learning Progress Check-In\",\n",
    "        \"status\": \"pending\",\n",
    "        \"scheduled_date\": \"2023-01-01T10:00:00Z\",\n",
    "        \"content\": \"Just a quick reminder to check your progress on this week's topic...\",\n",
    "        \"sent_date\": None\n",
    "    },\n",
    "    {\n",
    "        \"user_email\": \"zuriel@skills.tech\",\n",
    "        \"reminder_type\": \"Encouragement and Motivation\",\n",
    "        \"status\": \"pending\",\n",
    "        \"scheduled_date\": \"2023-01-02T10:00:00Z\",\n",
    "        \"content\": \"You're doing an amazing job! Remember, every question you ask...\",\n",
    "        \"sent_date\": None\n",
    "    },\n",
    "    {\n",
    "        \"user_email\": \"sebastian@skills.tech\",\n",
    "        \"reminder_type\": \"Learning Progress Check-In\",\n",
    "        \"status\": \"pending\",\n",
    "        \"scheduled_date\": \"2024-01-03T10:00:00Z\",\n",
    "        \"content\": \"Just a quick reminder to check your progress on this week's topic...\",\n",
    "        \"sent_date\": None\n",
    "    },\n",
    "    # ... más usuarios de prueba ...\n",
    "]\n",
    "\n",
    "for usuario in usuarios_prueba:\n",
    "    response = supabase.table(\"reminders_tb\").insert(usuario).execute()\n",
    "    try:\n",
    "        if response.error:\n",
    "            print(f\"Error al insertar: {response.error}\")\n",
    "        else:\n",
    "            print(f\"Usuario insertado: {usuario['user_email']}\")\n",
    "    except:\n",
    "        print(\"No se pudo cargar los datos ficticios\")\n",
    "        "
   ]
  },
  {
   "cell_type": "code",
   "execution_count": 27,
   "metadata": {},
   "outputs": [],
   "source": [
    "from utils.email_utils import Learning_process\n",
    "import datetime\n",
    "import pytz  # Asegúrate de tener instalado pytz\n",
    "current_date = datetime.datetime.now(datetime.timezone.utc)\n"
   ]
  },
  {
   "cell_type": "code",
   "execution_count": 22,
   "metadata": {},
   "outputs": [
    {
     "name": "stderr",
     "output_type": "stream",
     "text": [
      "2024-01-08 00:15:46,541:INFO - HTTP Request: GET https://hbvkehzhssiwpotkcxve.supabase.co/rest/v1/reminders_tb?select=%2A&reminder_type=eq.Learning%20Progress%20Check-In&status=eq.pending \"HTTP/1.1 200 OK\"\n"
     ]
    }
   ],
   "source": [
    "recordatorios = supabase.table(\"reminders_tb\").select(\"*\").eq(\"reminder_type\", \"Learning Progress Check-In\").eq(\"status\", \"pending\").execute().data\n",
    "\n",
    "for recordatorio in recordatorios:\n",
    "    print(recordatorio)\n",
    "    #send_email(recordatorio[\"user_email\"], \"Learning Progress Check-In\", Learning_process)\n",
    "\n",
    "    # Actualizar el estado del recordatorio en la base de datos\n",
    "    supabase.table(\"reminders_tb\").update({\"status\": \"sent\"}).eq(\"id\", recordatorio[\"id\"]).execute()"
   ]
  },
  {
   "cell_type": "markdown",
   "metadata": {},
   "source": [
    "Conexion con members y creacion de datos en supabase reminders_tb"
   ]
  },
  {
   "cell_type": "code",
   "execution_count": 29,
   "metadata": {},
   "outputs": [
    {
     "name": "stderr",
     "output_type": "stream",
     "text": [
      "2024-01-08 00:21:01,266:INFO - HTTP Request: GET https://hbvkehzhssiwpotkcxve.supabase.co/rest/v1/members_tb?select=%2A \"HTTP/1.1 200 OK\"\n",
      "2024-01-08 00:21:01,365:INFO - HTTP Request: GET https://hbvkehzhssiwpotkcxve.supabase.co/rest/v1/reminders_tb?select=%2A&user_email=eq.lc%40luiszorrilla.com&reminder_type=eq.Welcome \"HTTP/1.1 200 OK\"\n",
      "2024-01-08 00:21:01,471:INFO - HTTP Request: GET https://hbvkehzhssiwpotkcxve.supabase.co/rest/v1/reminders_tb?select=%2A&user_email=eq.test%40test.test&reminder_type=eq.Welcome \"HTTP/1.1 200 OK\"\n",
      "2024-01-08 00:21:01,571:INFO - HTTP Request: GET https://hbvkehzhssiwpotkcxve.supabase.co/rest/v1/reminders_tb?select=%2A&user_email=eq.sebastian%40skills.tech&reminder_type=eq.Welcome \"HTTP/1.1 200 OK\"\n",
      "2024-01-08 00:21:02,836:INFO - HTTP Request: POST https://hbvkehzhssiwpotkcxve.supabase.co/rest/v1/reminders_tb \"HTTP/1.1 201 Created\"\n",
      "2024-01-08 00:21:02,937:INFO - HTTP Request: GET https://hbvkehzhssiwpotkcxve.supabase.co/rest/v1/reminders_tb?select=%2A&user_email=eq.luis%40skills.tech&reminder_type=eq.Welcome \"HTTP/1.1 200 OK\"\n"
     ]
    },
    {
     "name": "stdout",
     "output_type": "stream",
     "text": [
      "Correo de bienvenida enviado a sebastian@skills.tech y recordatorio creado.\n"
     ]
    },
    {
     "name": "stderr",
     "output_type": "stream",
     "text": [
      "2024-01-08 00:21:03,042:INFO - HTTP Request: GET https://hbvkehzhssiwpotkcxve.supabase.co/rest/v1/reminders_tb?select=%2A&user_email=eq.skills.demo%40newyorklife.com&reminder_type=eq.Welcome \"HTTP/1.1 200 OK\"\n"
     ]
    }
   ],
   "source": [
    "# Obtener todos los usuarios de members_tb\n",
    "members = supabase.table(\"members_tb\").select(\"*\").execute().data\n",
    "for member in members:\n",
    "    user_email = member[\"email\"]\n",
    "    user_name = member[\"name\"]  # Obtener el nombre del usuario\n",
    "\n",
    "\n",
    "    # Verificar si el usuario ya tiene un recordatorio en reminders_tb\n",
    "    existing_reminder = supabase.table(\"reminders_tb\").select(\"*\").eq(\"user_email\", user_email).eq(\"reminder_type\", \"Welcome\").execute().data\n",
    "\n",
    "    if not existing_reminder:\n",
    "        # Enviar correo de bienvenida\n",
    "        welcome_content = \"Bienvenido a nuestra plataforma. ¡Estamos emocionados de tenerte aquí!\"\n",
    "        send_email(to=user_email, subject=\"Bienvenido\", content=welcome_content)\n",
    "\n",
    "        # Crear un registro de recordatorio para el nuevo usuario\n",
    "        new_reminder = {\n",
    "            \"user_email\": user_email,\n",
    "            \"name\":user_name,\n",
    "            \"reminder_type\": \"Welcome\",\n",
    "            \"status\": \"sent\",\n",
    "            \"scheduled_date\": None,  # No aplica para correos de bienvenida\n",
    "            \"content\": \"Bienvenido a nuestra plataforma.\",\n",
    "            \"sent_date\": current_date.isoformat()\n",
    "        }\n",
    "        supabase.table(\"reminders_tb\").insert(new_reminder).execute()\n",
    "\n",
    "        print(f\"Correo de bienvenida enviado a {user_email} y recordatorio creado.\")"
   ]
  },
  {
   "cell_type": "code",
   "execution_count": null,
   "metadata": {},
   "outputs": [],
   "source": []
  },
  {
   "cell_type": "markdown",
   "metadata": {},
   "source": [
    "Envio de correos con html"
   ]
  },
  {
   "cell_type": "code",
   "execution_count": 8,
   "metadata": {},
   "outputs": [],
   "source": [
    "import smtplib\n",
    "from email.mime.multipart import MIMEMultipart\n",
    "from email.mime.text import MIMEText\n",
    "from decouple import config\n",
    "\n",
    "email_user_cred=config(\"username\")\n",
    "email_user_pass=config(\"password\")\n",
    "\n",
    "def send_html_email(to, subject, html_content):\n",
    "    msg = MIMEMultipart('alternative')\n",
    "    msg['Subject'] = subject\n",
    "    msg['From'] = \"arturo@skills.tech\"  # Cambiar a tu dirección de correo\n",
    "    msg['To'] = to\n",
    "\n",
    "    # Parte HTML del mensaje\n",
    "    html_part = MIMEText(html_content, 'html')\n",
    "    msg.attach(html_part)\n",
    "\n",
    "    try:\n",
    "        with smtplib.SMTP_SSL('smtp.gmail.com', 465) as server:\n",
    "            server.login(email_user_cred, email_user_pass)  # Cambiar a tus credenciales\n",
    "            server.send_message(msg)\n",
    "        print(f\"Correo enviado con éxito a {to}\")\n",
    "    except Exception as e:\n",
    "        print(f\"Error al enviar correo a {to}: {e}\")\n"
   ]
  },
  {
   "cell_type": "code",
   "execution_count": 17,
   "metadata": {},
   "outputs": [
    {
     "name": "stdout",
     "output_type": "stream",
     "text": [
      "Correo enviado con éxito a sebastian@skills.tech\n"
     ]
    }
   ],
   "source": [
    "with open(\"email_templates/Learning_check_in.html\", \"r\") as file:\n",
    "        html_content = file.read()\n",
    "\n",
    "html_content = html_content.replace(\"[Nombre del Usuario]\", user_name)\n",
    "send_html_email(\"sebastian@skills.tech\", \"Bienvenido a SkillsAI\", html_content)"
   ]
  },
  {
   "cell_type": "markdown",
   "metadata": {},
   "source": [
    "Correo de Learning check-in una semana despues"
   ]
  },
  {
   "cell_type": "code",
   "execution_count": 45,
   "metadata": {},
   "outputs": [
    {
     "name": "stderr",
     "output_type": "stream",
     "text": [
      "2024-01-08 01:01:07,220:INFO - HTTP Request: GET https://hbvkehzhssiwpotkcxve.supabase.co/rest/v1/members_tb?select=%2A \"HTTP/1.1 200 OK\"\n",
      "2024-01-08 01:01:07,315:INFO - HTTP Request: GET https://hbvkehzhssiwpotkcxve.supabase.co/rest/v1/reminders_tb?select=%2A&user_email=eq.lc%40luiszorrilla.com&reminder_type=eq.Welcome \"HTTP/1.1 200 OK\"\n",
      "2024-01-08 01:01:07,405:INFO - HTTP Request: GET https://hbvkehzhssiwpotkcxve.supabase.co/rest/v1/reminders_tb?select=%2A&user_email=eq.lc%40luiszorrilla.com&reminder_type=eq.Learning%20Progress%20Check-In \"HTTP/1.1 200 OK\"\n",
      "2024-01-08 01:01:07,500:INFO - HTTP Request: GET https://hbvkehzhssiwpotkcxve.supabase.co/rest/v1/reminders_tb?select=%2A&user_email=eq.test%40test.test&reminder_type=eq.Welcome \"HTTP/1.1 200 OK\"\n",
      "2024-01-08 01:01:07,597:INFO - HTTP Request: GET https://hbvkehzhssiwpotkcxve.supabase.co/rest/v1/reminders_tb?select=%2A&user_email=eq.test%40test.test&reminder_type=eq.Learning%20Progress%20Check-In \"HTTP/1.1 200 OK\"\n"
     ]
    },
    {
     "name": "stdout",
     "output_type": "stream",
     "text": [
      "[{'id': 57, 'user_email': 'lc@luiszorrilla.com', 'reminder_type': 'Learning Progress Check-In', 'status': 'sent', 'scheduled_date': '2024-01-15T02:31:17+00:00', 'content': 'Learning Progress Check-In', 'sent_date': None, 'user_name': None}] False\n",
      "[{'id': 58, 'user_email': 'test@test.test', 'reminder_type': 'Learning Progress Check-In', 'status': 'sent', 'scheduled_date': '2024-01-15T06:31:13+00:00', 'content': 'Learning Progress Check-In', 'sent_date': None, 'user_name': None}] False\n"
     ]
    },
    {
     "name": "stderr",
     "output_type": "stream",
     "text": [
      "2024-01-08 01:01:07,690:INFO - HTTP Request: GET https://hbvkehzhssiwpotkcxve.supabase.co/rest/v1/reminders_tb?select=%2A&user_email=eq.sebastian%40skills.tech&reminder_type=eq.Welcome \"HTTP/1.1 200 OK\"\n",
      "2024-01-08 01:01:07,783:INFO - HTTP Request: GET https://hbvkehzhssiwpotkcxve.supabase.co/rest/v1/reminders_tb?select=%2A&user_email=eq.sebastian%40skills.tech&reminder_type=eq.Learning%20Progress%20Check-In \"HTTP/1.1 200 OK\"\n",
      "2024-01-08 01:01:07,877:INFO - HTTP Request: POST https://hbvkehzhssiwpotkcxve.supabase.co/rest/v1/reminders_tb \"HTTP/1.1 201 Created\"\n",
      "2024-01-08 01:01:07,972:INFO - HTTP Request: GET https://hbvkehzhssiwpotkcxve.supabase.co/rest/v1/reminders_tb?select=%2A&user_email=eq.luis%40skills.tech&reminder_type=eq.Welcome \"HTTP/1.1 200 OK\"\n"
     ]
    },
    {
     "name": "stdout",
     "output_type": "stream",
     "text": [
      "[] False\n",
      "Se programó email 'Learning Progress Check-In' para sebastian@skills.tech\n"
     ]
    },
    {
     "name": "stderr",
     "output_type": "stream",
     "text": [
      "2024-01-08 01:01:08,062:INFO - HTTP Request: GET https://hbvkehzhssiwpotkcxve.supabase.co/rest/v1/reminders_tb?select=%2A&user_email=eq.luis%40skills.tech&reminder_type=eq.Learning%20Progress%20Check-In \"HTTP/1.1 200 OK\"\n",
      "2024-01-08 01:01:08,149:INFO - HTTP Request: GET https://hbvkehzhssiwpotkcxve.supabase.co/rest/v1/reminders_tb?select=%2A&user_email=eq.skills.demo%40newyorklife.com&reminder_type=eq.Welcome \"HTTP/1.1 200 OK\"\n",
      "2024-01-08 01:01:08,240:INFO - HTTP Request: GET https://hbvkehzhssiwpotkcxve.supabase.co/rest/v1/reminders_tb?select=%2A&user_email=eq.skills.demo%40newyorklife.com&reminder_type=eq.Learning%20Progress%20Check-In \"HTTP/1.1 200 OK\"\n"
     ]
    },
    {
     "name": "stdout",
     "output_type": "stream",
     "text": [
      "[{'id': 59, 'user_email': 'luis@skills.tech', 'reminder_type': 'Learning Progress Check-In', 'status': 'sent', 'scheduled_date': '2024-01-15T06:31:01+00:00', 'content': 'Learning Progress Check-In', 'sent_date': None, 'user_name': None}] False\n",
      "[{'id': 60, 'user_email': 'skills.demo@newyorklife.com', 'reminder_type': 'Learning Progress Check-In', 'status': 'sent', 'scheduled_date': '2024-01-15T06:31:09+00:00', 'content': 'Learning Progress Check-In', 'sent_date': None, 'user_name': None}] False\n"
     ]
    }
   ],
   "source": [
    "import datetime\n",
    "import pytz  # Asegúrate de tener instalado pytz\n",
    "\n",
    "current_date = datetime.datetime.now(datetime.timezone.utc)\n",
    "\n",
    "users = supabase.table(\"members_tb\").select(\"*\").execute().data\n",
    "\n",
    "for user in users:\n",
    "    user_email = user[\"email\"]\n",
    "\n",
    "    # Buscar el recordatorio de bienvenida\n",
    "    welcome_reminder = supabase.table(\"reminders_tb\").select(\"*\").eq(\"user_email\", user_email).eq(\"reminder_type\", \"Welcome\").execute().data\n",
    "\n",
    "    if welcome_reminder:\n",
    "        welcome_date = welcome_reminder[0][\"sent_date\"]\n",
    "        if welcome_date:\n",
    "            welcome_date = datetime.datetime.fromisoformat(welcome_date)\n",
    "            if not welcome_date.tzinfo:\n",
    "                welcome_date = pytz.utc.localize(welcome_date)\n",
    "\n",
    "            scheduled_date = welcome_date + datetime.timedelta(days=7)\n",
    "\n",
    "            # Buscar el recordatorio \"Learning Progress Check-In\"\n",
    "            progress_checkin = supabase.table(\"reminders_tb\").select(\"*\").eq(\"user_email\", user_email).eq(\"reminder_type\", \"Learning Progress Check-In\").execute().data\n",
    "            print(progress_checkin,current_date >= scheduled_date)\n",
    "            if not progress_checkin:\n",
    "                # Crear un registro para el nuevo recordatorio programado\n",
    "                new_recordatorio = {\n",
    "                    \"user_email\": user_email,\n",
    "                    \"user_name\":user_name,\n",
    "                    \"reminder_type\": \"Learning Progress Check-In\",\n",
    "                    \"status\": \"pending\",\n",
    "                    \"scheduled_date\": scheduled_date.isoformat(),\n",
    "                    \"content\": \"Learning Progress Check-In\",\n",
    "                    \"sent_date\": None\n",
    "                }\n",
    "                supabase.table(\"reminders_tb\").insert(new_recordatorio).execute()\n",
    "                print(f\"Se programó email 'Learning Progress Check-In' para {user_email}\")\n",
    "\n",
    "            elif progress_checkin[0][\"status\"] == \"pending\" and current_date >= scheduled_date:\n",
    "                # Enviar correo \"Learning Progress Check-In\"\n",
    "                with open(\"email_templates/Learning_check_in.html\", \"r\") as file:\n",
    "                    html_content = file.read()\n",
    "\n",
    "                    html_content = html_content.replace(\"[Nombre del Usuario]\", user_name)\n",
    "                    send_html_email(user_email, \"Learning Progress Check-In\", html_content)\n",
    "                # Actualizar el estado del recordatorio\n",
    "                supabase.table(\"reminders_tb\").update({\"status\": \"sent\", \"sent_date\": current_date.isoformat()}).eq(\"id\", progress_checkin[0][\"id\"]).execute()\n",
    "                print(f\"Se mando email 'Learning Progress Check-In' a {user_email}\")\n",
    "\n"
   ]
  },
  {
   "cell_type": "code",
   "execution_count": 2,
   "metadata": {},
   "outputs": [],
   "source": [
    "from database.supa import supabase_user,supabase_admin  # Importar los clientes de Supabase\n",
    "from supabase import create_client\n",
    "from decouple import config"
   ]
  },
  {
   "cell_type": "code",
   "execution_count": 8,
   "metadata": {},
   "outputs": [
    {
     "name": "stderr",
     "output_type": "stream",
     "text": [
      "2024-02-27 10:00:39,095:INFO - HTTP Request: GET https://hbvkehzhssiwpotkcxve.supabase.co/rest/v1/courses_tb?select=%2A \"HTTP/1.1 200 OK\"\n"
     ]
    },
    {
     "name": "stdout",
     "output_type": "stream",
     "text": [
      "Lean Analytics\n",
      "350bc862-7d86-4bde-8ace-c2026aae277f\n",
      "[{'0': '6c0bfedb-258a-4c77-9bad-b0e87c0d9c98/Lean Analytics'}]\n",
      "False\n",
      "Tec Course\n",
      "6b21009c-98f0-4782-9510-496d0a830320\n",
      "[{'0': '2e2aec92-0980-483e-9edd-05f187d10253/Tec_Course'}]\n",
      "False\n",
      "Commercial Real Estate for Beginners\n",
      "78be68bd-c4f0-4690-b104-f9c744c19a51\n",
      "[{'0': '11aafa3e-e3e9-43d3-aca9-f89388a66692/Commercial_Real_Estate_for_Beginners'}]\n",
      "False\n",
      "TC1028 Pensamiento computacional para ingenieria\n",
      "38c62c87-322d-463f-8ee3-5f7da57b8af0\n",
      "[{'0': '2e2aec92-0980-483e-9edd-05f187d10253/TC1028_Pensamiento_computacional_para_ingenieria'}]\n",
      "False\n",
      "Coursera: 1.- El Calculo - Modelo Lineal\n",
      "081f021c-b4a2-4010-9aa9-16d1ea93fb3f\n",
      "[{'0': '2e2aec92-0980-483e-9edd-05f187d10253/Coursera:_1.-_El_Calculo_-_Modelo_Lineal'}]\n",
      "False\n",
      "Enterprise AI\n",
      "03373e3f-6f19-465a-a76b-7b88e11135c1\n",
      "[{'0': '2f756050-f7f4-4764-a849-32bc7dea32ab/Enterprise_AI'}]\n",
      "False\n",
      "New York Life: Financial Advisor Development Program\n",
      "7bc9e9e7-f1d2-4967-ad27-fd1697885f0b\n",
      "[{'0': '47d455b9-760a-4d4a-b2bd-9046704a2141/New_York_Life:_Financial_Advisor_Development_Program'}]\n",
      "False\n",
      "Life Insurance 101: Understanding Policies and Planning\n",
      "f4367568-dcc2-4368-b808-e2495c5a0d38\n",
      "[{'0': '47d455b9-760a-4d4a-b2bd-9046704a2141/Life_Insurance_101:_Understanding_Policies_and_Planning'}]\n",
      "False\n",
      "TSAI CITY: Entrepreneur\n",
      "f7e5097b-5316-4058-a3e9-00c98774bea4\n",
      "[{'0': '11aafa3e-e3e9-43d3-aca9-f89388a66692/TSAI_CITY:_Entrepreneur'}]\n",
      "False\n",
      "INTEGRATED IT SERVICE MANAGEMENT ESSENTIALS\n",
      "547fec61-e5ee-450d-9e35-ac4f26b2b02d\n",
      "[{'0': '781ea14a-b753-4635-982c-a6e0d64aafb1/INTEGRATED_IT_SERVICE_MANAGEMENT_ESSENTIALS'}]\n",
      "False\n",
      "The Theory and Practice of Enterprise AI\n",
      "b2b44820-8cbf-4fe0-ab15-2f30aef3b7a6\n",
      "[{'0': '3c77273b-258f-4950-a5fb-874871f42d55/The_Theory_and_Practice_of_Enterprise_AI'}]\n",
      "False\n",
      "fisica basica con videos\n",
      "1f0319a2-0d35-4a77-b20e-a2b8bcedc28d\n",
      "[{'0': '2e2aec92-0980-483e-9edd-05f187d10253/fisica_basica_con_videos'}]\n",
      "False\n",
      "Agile Methodologies for Consumer Packaged Goods Excellence\n",
      "d41aa8ee-6b12-4129-9c4b-4a42d1cf4d9b\n",
      "[{'0': '77d9820d-f352-473c-9c98-3f9d5e607875/Agile_Methodologies_for_Consumer_Packaged_Goods_Excellence'}]\n",
      "False\n",
      "Entreprise AI\n",
      "35adb689-1f8d-495c-9b76-c39ebce1d9a5\n",
      "[{'0': 'a5909849-21d8-4e3b-a2f0-c2ebac9d165e/Entreprise_AI'}]\n",
      "False\n",
      "Física Básica con Atom 2.0 \n",
      "95f6d42d-3ead-4940-9097-3a9ef2f380e9\n",
      "[{'0': '2e2aec92-0980-483e-9edd-05f187d10253/Fisica_Basica_con_Atom_2.0_'}]\n",
      "False\n",
      "Fisica para todos \n",
      "ba86e360-577c-4145-baac-974611be0872\n",
      "[{'0': '2e2aec92-0980-483e-9edd-05f187d10253/Fisica_para_todos_'}]\n",
      "False\n",
      "Física Básica\n",
      "80603fc0-1f06-4489-a33a-6494ea9062e3\n",
      "[{'0': '2e2aec92-0980-483e-9edd-05f187d10253/Fisica_Basica'}]\n",
      "False\n",
      "Agile Consumer\n",
      "12986d4a-5004-4938-b791-48d47ed85b0b\n",
      "[{'0': '6c0bfedb-258a-4c77-9bad-b0e87c0d9c98/Agile_Consumer'}]\n",
      "False\n",
      "Fisica 121\n",
      "da21171c-5897-4ccd-8e60-254edf249d5b\n",
      "[{'0': '2e2aec92-0980-483e-9edd-05f187d10253/Fisica_121'}]\n",
      "False\n",
      "FM1021 Física I\n",
      "50ce9631-9fdb-4a93-92a0-79f6dd341e6e\n",
      "[{'0': 'bfb50bef-58e4-4a7b-8f86-2eabd76d8186/FM1021_Fisica_I'}]\n",
      "False\n",
      "Diplomado en Emprendimiento e Innovación\n",
      "20fc3ef8-adaa-43ae-8a2a-658f37a90853\n",
      "[{'0': 'e85708b0-9ef7-41dd-bff5-b271aef28103/Diplomado_en_Emprendimiento_e_Innovacion'}, {'1': 'e85708b0-9ef7-41dd-bff5-b271aef28103/2Diplomado_en_Emprendimiento_e_Innovacion'}]\n",
      "False\n",
      "Seller Academy\n",
      "73e5618f-e2c0-476e-87d3-43d352f14ee0\n",
      "[{'0': 'bd3b4cb9-b760-4a3a-9242-a15e4daedad7/Seller_Academy'}]\n",
      "False\n",
      "Lean Six Sigma\n",
      "0ac18238-dae1-465e-87a1-455588e1242b\n",
      "[{'0': '6c0bfedb-258a-4c77-9bad-b0e87c0d9c98/Lean_Six_Sigma'}, {'1': '6c0bfedb-258a-4c77-9bad-b0e87c0d9c98/2Lean_Six_Sigma'}, {'2': '6c0bfedb-258a-4c77-9bad-b0e87c0d9c98/3Lean_Six_Sigma'}]\n",
      "False\n",
      "Física 101\n",
      "a230d7d1-7239-4627-8190-1a33b686ae66\n",
      "[{'0': '2e2aec92-0980-483e-9edd-05f187d10253/Fisica_101'}]\n",
      "False\n",
      "ISO/IEC 27032 Lean Cybersecurity Manager\n",
      "192542f9-32f5-4cc7-ad29-8fb974986cd6\n",
      "[{'0': '6c0bfedb-258a-4c77-9bad-b0e87c0d9c98/ISO/IEC_27032_Lean_Cybersecurity_Manager'}]\n",
      "False\n",
      "ISO/IEC 27032 Lean Cybersecurity Manager\n",
      "940530a5-6503-4c57-b6c7-fa2f84158ba8\n",
      "[{'0': '6c0bfedb-258a-4c77-9bad-b0e87c0d9c98/ISO/IEC_27032_Lean_Cybersecurity_Manager'}, {'1': '6c0bfedb-258a-4c77-9bad-b0e87c0d9c98/2ISO/IEC_27032_Lean_Cybersecurity_Manager'}, {'2': '6c0bfedb-258a-4c77-9bad-b0e87c0d9c98/3ISO/IEC_27032_Lean_Cybersecurity_Manager'}]\n",
      "False\n",
      "Wized & Javascript\n",
      "7fadcb6f-5540-4b9d-b1fe-d1c2649e9aff\n",
      "[{'0': '6c0bfedb-258a-4c77-9bad-b0e87c0d9c98/Wized_&_Javascript'}]\n",
      "False\n",
      "Lean Six Sigma\n",
      "0c1685b8-9fa1-4abd-9691-12adb4b1e7fc\n",
      "[{'0': 'a7674179-c269-4446-a74d-a36b54ddada0/Lean_Six_Sigma'}, {'1': 'a7674179-c269-4446-a74d-a36b54ddada0/2Lean_Six_Sigma'}, {'2': 'a7674179-c269-4446-a74d-a36b54ddada0/3Lean_Six_Sigma'}]\n",
      "False\n",
      "ISO/IEC 27032 Lean Cybersecurity Manager\n",
      "6397f1d9-bfcb-41af-a5ba-3823803f02d5\n",
      "[{'0': 'acb8bad3-aca4-48f5-abba-a21aa1fb1484/ISO/IEC_27032_Lean_Cybersecurity_Manager'}, {'1': 'acb8bad3-aca4-48f5-abba-a21aa1fb1484/2ISO/IEC_27032_Lean_Cybersecurity_Manager'}, {'2': 'acb8bad3-aca4-48f5-abba-a21aa1fb1484/3ISO/IEC_27032_Lean_Cybersecurity_Manager'}]\n",
      "False\n",
      "Física Básica \n",
      "4c72b8a3-0798-4d72-abb1-54153d14ba22\n",
      "[{'0': '9e711aaf-859f-4a9f-9712-6f843f61168a/Fisica_Basica_'}]\n",
      "False\n"
     ]
    }
   ],
   "source": [
    "url_admin: str = config(\"SUPABASE_ADMIN_URL\")\n",
    "key_admin: str = config(\"SUPABASE_ADMIN_KEY\")\n",
    "\n",
    "supabase_admin_2 = create_client(supabase_url=url_admin,supabase_key= key_admin)\n",
    "admin_data = supabase_admin.table(\"courses_tb\").select(\"*\").execute()\n",
    "course_list=admin_data.data\n",
    "\n",
    "for course in course_list:\n",
    "    print(course[\"name\"])\n",
    "    print(course[\"id\"])\n",
    "    print(course[\"reference_files\"])\n",
    "    print(course[\"pdf_processed\"])"
   ]
  },
  {
   "cell_type": "code",
   "execution_count": null,
   "metadata": {},
   "outputs": [],
   "source": [
    "# Proyecto Usuario\n",
    "url_user: str = config(\"SUPABASE_USER_URL\")\n",
    "key_user: str = config(\"SUPABASE_USER_KEY\")\n",
    "supabase_user = create_client(supabase_url=url_user,supabase_key= key_user)\n",
    "\n",
    "\n",
    "response = supabase_user.table(\"responses_tb\").select(\"*\").eq(\"threadid\", \"4a37be7f-ce2c-4f19-aaaa-15f6d334a908\").execute().data[0]\n",
    "response"
   ]
  },
  {
   "cell_type": "code",
   "execution_count": null,
   "metadata": {},
   "outputs": [],
   "source": []
  },
  {
   "cell_type": "code",
   "execution_count": null,
   "metadata": {},
   "outputs": [],
   "source": []
  }
 ],
 "metadata": {
  "kernelspec": {
   "display_name": "venv",
   "language": "python",
   "name": "python3"
  },
  "language_info": {
   "codemirror_mode": {
    "name": "ipython",
    "version": 3
   },
   "file_extension": ".py",
   "mimetype": "text/x-python",
   "name": "python",
   "nbconvert_exporter": "python",
   "pygments_lexer": "ipython3",
   "version": "3.10.13"
  }
 },
 "nbformat": 4,
 "nbformat_minor": 2
}
