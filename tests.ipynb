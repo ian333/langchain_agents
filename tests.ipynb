{
 "cells": [
  {
   "cell_type": "code",
   "execution_count": 1,
   "metadata": {},
   "outputs": [],
   "source": [
    "from utils.email_utils import send_email\n"
   ]
  },
  {
   "cell_type": "code",
   "execution_count": 2,
   "metadata": {},
   "outputs": [
    {
     "data": {
      "text/plain": [
       "'Email sent successfully'"
      ]
     },
     "execution_count": 2,
     "metadata": {},
     "output_type": "execute_result"
    }
   ],
   "source": [
    "send_email(to=\"sebastian@skills.tech\",subject=\"test\",content=\"Template corre de testing\")\n"
   ]
  },
  {
   "cell_type": "code",
   "execution_count": 4,
   "metadata": {},
   "outputs": [],
   "source": [
    "from supabase import create_client\n",
    "from decouple import config\n",
    "\n",
    "supabase = create_client(config(\"SUPABASE_URL\"), config(\"SUPABASE_KEY\"))\n"
   ]
  },
  {
   "cell_type": "code",
   "execution_count": 10,
   "metadata": {},
   "outputs": [
    {
     "name": "stderr",
     "output_type": "stream",
     "text": [
      "2024-01-03 09:25:58,718:INFO - HTTP Request: POST https://hbvkehzhssiwpotkcxve.supabase.co/rest/v1/reminders_tb \"HTTP/1.1 201 Created\"\n"
     ]
    },
    {
     "name": "stdout",
     "output_type": "stream",
     "text": [
      "No se pudo cargar los datos ficticios\n"
     ]
    },
    {
     "name": "stderr",
     "output_type": "stream",
     "text": [
      "2024-01-03 09:25:59,038:INFO - HTTP Request: POST https://hbvkehzhssiwpotkcxve.supabase.co/rest/v1/reminders_tb \"HTTP/1.1 201 Created\"\n",
      "2024-01-03 09:25:59,155:INFO - HTTP Request: POST https://hbvkehzhssiwpotkcxve.supabase.co/rest/v1/reminders_tb \"HTTP/1.1 201 Created\"\n"
     ]
    },
    {
     "name": "stdout",
     "output_type": "stream",
     "text": [
      "No se pudo cargar los datos ficticios\n",
      "No se pudo cargar los datos ficticios\n"
     ]
    }
   ],
   "source": [
    "usuarios_prueba = [\n",
    "    {\n",
    "        \"user_email\": \"sebastian@skills.tech\",\n",
    "        \"reminder_type\": \"Learning Progress Check-In\",\n",
    "        \"status\": \"pending\",\n",
    "        \"scheduled_date\": \"2023-01-01T10:00:00Z\",\n",
    "        \"content\": \"Just a quick reminder to check your progress on this week's topic...\",\n",
    "        \"sent_date\": None\n",
    "    },\n",
    "    {\n",
    "        \"user_email\": \"zuriel@skills.tech\",\n",
    "        \"reminder_type\": \"Encouragement and Motivation\",\n",
    "        \"status\": \"pending\",\n",
    "        \"scheduled_date\": \"2023-01-02T10:00:00Z\",\n",
    "        \"content\": \"You're doing an amazing job! Remember, every question you ask...\",\n",
    "        \"sent_date\": None\n",
    "    },\n",
    "    {\n",
    "        \"user_email\": \"sebastian@skills.tech\",\n",
    "        \"reminder_type\": \"Learning Progress Check-In\",\n",
    "        \"status\": \"pending\",\n",
    "        \"scheduled_date\": \"2024-01-03T10:00:00Z\",\n",
    "        \"content\": \"Just a quick reminder to check your progress on this week's topic...\",\n",
    "        \"sent_date\": None\n",
    "    },\n",
    "    # ... más usuarios de prueba ...\n",
    "]\n",
    "\n",
    "for usuario in usuarios_prueba:\n",
    "    response = supabase.table(\"reminders_tb\").insert(usuario).execute()\n",
    "    try:\n",
    "        if response.error:\n",
    "            print(f\"Error al insertar: {response.error}\")\n",
    "        else:\n",
    "            print(f\"Usuario insertado: {usuario['user_email']}\")\n",
    "    except:\n",
    "        print(\"No se pudo cargar los datos ficticios\")\n",
    "        "
   ]
  },
  {
   "cell_type": "code",
   "execution_count": 5,
   "metadata": {},
   "outputs": [],
   "source": [
    "from utils.email_utils import Learning_process\n"
   ]
  },
  {
   "cell_type": "code",
   "execution_count": 6,
   "metadata": {},
   "outputs": [
    {
     "name": "stderr",
     "output_type": "stream",
     "text": [
      "2024-01-03 09:31:25,019:INFO - HTTP Request: GET https://hbvkehzhssiwpotkcxve.supabase.co/rest/v1/reminders_tb?select=%2A&reminder_type=eq.Learning%20Progress%20Check-In&status=eq.pending \"HTTP/1.1 200 OK\"\n"
     ]
    },
    {
     "name": "stdout",
     "output_type": "stream",
     "text": [
      "{'id': 9, 'user_email': 'sebastian@skills.tech', 'reminder_type': 'Learning Progress Check-In', 'status': 'pending', 'scheduled_date': '2023-01-01T10:00:00+00:00', 'content': \"Just a quick reminder to check your progress on this week's topic...\", 'sent_date': None}\n"
     ]
    },
    {
     "name": "stderr",
     "output_type": "stream",
     "text": [
      "2024-01-03 09:31:27,026:INFO - HTTP Request: PATCH https://hbvkehzhssiwpotkcxve.supabase.co/rest/v1/reminders_tb?id=eq.9 \"HTTP/1.1 200 OK\"\n"
     ]
    }
   ],
   "source": [
    "recordatorios = supabase.table(\"reminders_tb\").select(\"*\").eq(\"reminder_type\", \"Learning Progress Check-In\").eq(\"status\", \"pending\").execute().data\n",
    "\n",
    "for recordatorio in recordatorios:\n",
    "    print(recordatorio)\n",
    "    send_email(recordatorio[\"user_email\"], \"Learning Progress Check-In\", Learning_process)\n",
    "\n",
    "    # Actualizar el estado del recordatorio en la base de datos\n",
    "    supabase.table(\"reminders_tb\").update({\"status\": \"sent\"}).eq(\"id\", recordatorio[\"id\"]).execute()"
   ]
  },
  {
   "cell_type": "code",
   "execution_count": null,
   "metadata": {},
   "outputs": [],
   "source": []
  }
 ],
 "metadata": {
  "kernelspec": {
   "display_name": "venv",
   "language": "python",
   "name": "python3"
  },
  "language_info": {
   "codemirror_mode": {
    "name": "ipython",
    "version": 3
   },
   "file_extension": ".py",
   "mimetype": "text/x-python",
   "name": "python",
   "nbconvert_exporter": "python",
   "pygments_lexer": "ipython3",
   "version": "3.10.12"
  }
 },
 "nbformat": 4,
 "nbformat_minor": 2
}
